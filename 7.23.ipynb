{
 "cells": [
  {
   "cell_type": "code",
   "execution_count": 2,
   "metadata": {},
   "outputs": [
    {
     "name": "stdout",
     "output_type": "stream",
     "text": [
      "<class 'numpy.ndarray'>\n",
      "5\n",
      "[5 6 7]\n",
      "[ 1  2  3  4 12]\n"
     ]
    }
   ],
   "source": [
    "# numpy 기본 데이터 구조\n",
    "    # 동질적인 데이터만 표현  \n",
    "    # 행 중심\n",
    "    # dim => shape, dtype을 원소로 함\n",
    "    # scipy, scikit-learn[Machine learning], tensorflow\n",
    "    # scipy, numpy, matplotlib => matlab 기능\n",
    "    # R : vector, matrix, array\n",
    "    # data의 view를 제공한다 = 복사하지 않음 => 백데이터 처리를 위한 방법\n",
    "    # 멀티 코어 멀티 쓰레도로 작업 => 병렬연산을 제공\n",
    "    # ndarray를 이용해서 데이터 저장 ( list, tuple, set, dict )\n",
    "    # 기본데이터타입이 int8, int16, int32, int64 등과 같이 세분화\n",
    "    # 대용량의 데이터를 처리하기 때문에 적합한 데이터로 메모리 공간 절약\n",
    "    # 데이터를 보고 자동으로 데이터타입을 결정 => 명시적으로 지정이 가능\n",
    "    # 배열형식으로 저자되기 때문에 행중심이고 stride ( 메모리에는 연속적으로 저장 )\n",
    "    # 배열형택로 기본적으로 데이터를 초기화하는 함수를 가지고 있음\n",
    "        ## array, asarray, arange, ones, zeros, empty, eyes\n",
    "    # 행과 열로 인덱싱하고 : (범위연산자), :: (by) \n",
    "    # class base로 프로그래밍\n",
    "    # fft, math, random등과 같은 sub module제공 = 방대한 알고리즘을 제공하는 함수 보유\n",
    "    # 벡터화 연산 => 반복문없이 데이터를 일괄처리\n",
    "import numpy as np # numpy를 np로\n",
    "arr = np.arange(10)\n",
    "print(type(arr))\n",
    "\n",
    "arr\n",
    "print(arr[5]) # 인덱싱\n",
    "print(arr[5:8]) \n",
    "arr[5:8]=12 # 대입\n",
    "print(arr[1:6])"
   ]
  },
  {
   "cell_type": "code",
   "execution_count": 3,
   "metadata": {},
   "outputs": [
    {
     "name": "stdout",
     "output_type": "stream",
     "text": [
      "[1 2 3]\n",
      "3\n",
      "3\n",
      "[[1 2 3]\n",
      " [4 5 6]]\n",
      "[[2 3]\n",
      " [5 6]]\n",
      "[4 5]\n",
      "[7]\n",
      "[[0 2 3]\n",
      " [0 5 6]\n",
      " [7 8 9]]\n"
     ]
    }
   ],
   "source": [
    "arr2d = np.array([[1,2,3], [4,5,6], [7,8,9]])\n",
    "print(arr2d[0]) # 1 2 3\n",
    "print(arr2d[0][2]) # 길이가 출력, 3 # print(arr2d[0][2]) = print(arr2d[0,2])\n",
    "print(arr2d[0,2]) # 3\n",
    "print(arr2d[:2]) # 2열이 2행으로 출력\n",
    "print(arr2d[:2,1:]) # 1과 4만 제외하고 행으로 출력\n",
    "print(arr2d[1,:2]) # 4 5\n",
    "print(arr2d[2, :1]) # 7\n",
    "arr2d[:2,:1]=0 # 1행 1열\n",
    "arr2d[:2,:1]=0 # 2행 1열\n",
    "print(arr2d)\n",
    "\n"
   ]
  },
  {
   "cell_type": "code",
   "execution_count": 4,
   "metadata": {},
   "outputs": [
    {
     "name": "stdout",
     "output_type": "stream",
     "text": [
      "<class 'numpy.ndarray'> <class 'numpy.ndarray'> int32 <class 'numpy.ndarray'> <U11\n",
      "2\n",
      "(2, 2)\n"
     ]
    },
    {
     "data": {
      "text/plain": [
       "2"
      ]
     },
     "execution_count": 4,
     "metadata": {},
     "output_type": "execute_result"
    }
   ],
   "source": [
    "# ndarray\n",
    "# dtype은 요소 데이터 타입\n",
    "\n",
    "v = np.array([1,2,3,4]) \n",
    "v1 = np.array([1,\"a\",3,\"b\"])\n",
    "\n",
    "M = np.array([[1,2], [3,4]])\n",
    "print(type(v), type(M), M.dtype, type(v1), v1.dtype) # numpy.ndarray\n",
    "print(M.ndim) # 2, 치수확인\n",
    "print(M.shape) # (2, 2)\n",
    "M[0,1]\n"
   ]
  },
  {
   "cell_type": "code",
   "execution_count": 53,
   "metadata": {},
   "outputs": [
    {
     "name": "stdout",
     "output_type": "stream",
     "text": [
      "[[[1. 1. 1. 1. 1.]\n",
      "  [1. 1. 1. 1. 1.]\n",
      "  [1. 1. 1. 1. 1.]\n",
      "  [1. 1. 1. 1. 1.]]\n",
      "\n",
      " [[1. 1. 1. 1. 1.]\n",
      "  [1. 1. 1. 1. 1.]\n",
      "  [1. 1. 1. 1. 1.]\n",
      "  [1. 1. 1. 1. 1.]]\n",
      "\n",
      " [[1. 1. 1. 1. 1.]\n",
      "  [1. 1. 1. 1. 1.]\n",
      "  [1. 1. 1. 1. 1.]\n",
      "  [1. 1. 1. 1. 1.]]]\n",
      "#####################\n",
      "(160, 40, 8)\n"
     ]
    }
   ],
   "source": [
    "print(np.ones((3,4,5)))\n",
    "print(\"#####################\")\n",
    "\n",
    "print(np.ones((3,4,5), dtype = np.float64).strides)\n"
   ]
  },
  {
   "cell_type": "code",
   "execution_count": 25,
   "metadata": {},
   "outputs": [
    {
     "name": "stdout",
     "output_type": "stream",
     "text": [
      "2\n",
      "(10, 5)\n",
      "float64\n",
      "스트라이드의 값 (160, 40, 8)\n",
      "[[7 7]\n",
      " [7 7]]\n",
      "단위행렬 [[1. 0. 0. 0.]\n",
      " [0. 1. 0. 0.]\n",
      " [0. 0. 1. 0.]\n",
      " [0. 0. 0. 1.]]\n",
      "[[0.50888898 0.42874823]\n",
      " [0.00552037 0.73214521]]\n"
     ]
    }
   ],
   "source": [
    "print(np.ones((10,5)).ndim) # 2차\n",
    "print(np.ones((10,5)).shape) # 10, 5\n",
    "print(np.ones((10,5)).dtype) # dtype은 기본적으로 float64\n",
    "\n",
    "print(\"스트라이드의 값\", np.ones((3,4,5), dtype=np.float64).strides)\n",
    "\n",
    "# 면행렬 지정\n",
    "# float64 : 8바이트  \n",
    "# 160이 지나야 면이 변경, 5X8 =40개의 열이 지나야 행이 변경 , 8바이트\n",
    "# 데이터는 메모리에서 일렬로 저장되어지기 때문에\n",
    "# 행우선 =>> 열우선은 통계를 기반으로...(데이터 동질적)\n",
    "\n",
    "c = np.full((2,2), 7)  # 2행 2열로 7을 입력(2 by 2행렬)\n",
    "print(c)\n",
    "\n",
    "d = np.eye(4) # 4행 4열의 단위행렬 만들기, identity(단위행렬)\n",
    "print(\"단위행렬\", d) \n",
    "e = np.random.random((2,2)) # 2행 2열의 난수 행렬 만들기\n",
    "print(e)\n"
   ]
  },
  {
   "cell_type": "code",
   "execution_count": 6,
   "metadata": {},
   "outputs": [
    {
     "name": "stdout",
     "output_type": "stream",
     "text": [
      "[1. 2. 3.]\n",
      "[1 2 3]\n",
      "[b'1' b'2' b'3']\n",
      "|S1\n"
     ]
    }
   ],
   "source": [
    "# 데이터 타입 지정이 가능\n",
    "arr1 = np.array([1,2,3], dtype = np.float64) # 데이터 공간 사이즈를 명시적 지정\n",
    "arr2 = np.array([1,2,3], dtype = np.int8) \n",
    "arr3 = np.array([1,2,3], dtype = np.string_) # byte문자열 : unicode는 U로 나옴\n",
    "print(arr1)\n",
    "print(arr2)\n",
    "print(arr3)\n",
    "print(arr3.dtype)"
   ]
  },
  {
   "cell_type": "code",
   "execution_count": 7,
   "metadata": {},
   "outputs": [
    {
     "name": "stdout",
     "output_type": "stream",
     "text": [
      "[[[ 1  2  3]\n",
      "  [ 4  5  6]]\n",
      "\n",
      " [[ 7  8  9]\n",
      "  [10 11 12]]]\n",
      "첫차원\n",
      "[[1 2 3]\n",
      " [4 5 6]]\n",
      "첫요소는 =  1\n",
      "첫차원 첫행은 =  [1 2 3]\n",
      "값의 변경후\n",
      "[[[42 42 42]\n",
      "  [42 42 42]]\n",
      "\n",
      " [[ 7  8  9]\n",
      "  [10 11 12]]]\n",
      "이전 값으로 복구\n",
      "[[[42 42 42]\n",
      "  [42 42 42]]\n",
      "\n",
      " [[ 7  8  9]\n",
      "  [10 11 12]]]\n",
      "값의 변경후\n",
      "[[[42 42 42]\n",
      "  [42 42 42]]\n",
      "\n",
      " [[ 7  8  9]\n",
      "  [10 11 12]]]\n",
      "이전 값으로 복구\n",
      "[[[ 1  2  3]\n",
      "  [ 4  5  6]]\n",
      "\n",
      " [[ 7  8  9]\n",
      "  [10 11 12]]]\n"
     ]
    }
   ],
   "source": [
    "import numpy as np\n",
    "\n",
    "arr3d = np.array([[[1,2,3], [4,5,6]], [[7,8,9],[10,11,12]]])\n",
    "print(arr3d)\n",
    "print(\"첫차원\")\n",
    "print(arr3d[0]) # 면\n",
    "print(\"첫요소는 = \", arr3d[0][0][0])\n",
    "print(\"첫차원 첫행은 = \", arr3d[0][0])\n",
    "\n",
    "# 대입은 값을 복사하지 않는다.\n",
    "old_values = arr3d\n",
    "arr3d[0]=42\n",
    "print(\"값의 변경후\")\n",
    "print(arr3d)\n",
    "print(\"이전 값으로 복구\")\n",
    "arr3d=old_values\n",
    "print(arr3d)\n",
    "\n",
    "# 명시적으로 값의 복사\n",
    "arr3d = np.array([[[1,2,3], [4,5,6]], [[7,8,9],[10,11,12]]])\n",
    "old_values = arr3d.copy()\n",
    "arr3d[0]=42\n",
    "print(\"값의 변경후\")\n",
    "print(arr3d)\n",
    "print(\"이전 값으로 복구\")\n",
    "arr3d = old_values\n",
    "print(arr3d)\n",
    "\n",
    "\n",
    "\n",
    "\n",
    "\n",
    "\n",
    "\n"
   ]
  },
  {
   "cell_type": "code",
   "execution_count": 8,
   "metadata": {
    "scrolled": true
   },
   "outputs": [
    {
     "name": "stdout",
     "output_type": "stream",
     "text": [
      "<class 'numpy.ndarray'>\n",
      "[ 0  1  2  3  4  5  6  7  8  9 10 11 12 13 14 15 16 17 18 19 20 21 22 23\n",
      " 24 25 26 27 28 29 30 31 32 33 34 35]\n",
      "[[ 0  1  2  3  4  5]\n",
      " [ 6  7  8  9 10 11]\n",
      " [12 13 14 15 16 17]\n",
      " [18 19 20 21 22 23]\n",
      " [24 25 26 27 28 29]\n",
      " [30 31 32 33 34 35]]\n",
      "[[[ 0  1  2  3  4  5]\n",
      "  [ 6  7  8  9 10 11]\n",
      "  [12 13 14 15 16 17]]\n",
      "\n",
      " [[18 19 20 21 22 23]\n",
      "  [24 25 26 27 28 29]\n",
      "  [30 31 32 33 34 35]]]\n",
      "[[[[ 0  1  2]\n",
      "   [ 3  4  5]]\n",
      "\n",
      "  [[ 6  7  8]\n",
      "   [ 9 10 11]]\n",
      "\n",
      "  [[12 13 14]\n",
      "   [15 16 17]]]\n",
      "\n",
      "\n",
      " [[[18 19 20]\n",
      "   [21 22 23]]\n",
      "\n",
      "  [[24 25 26]\n",
      "   [27 28 29]]\n",
      "\n",
      "  [[30 31 32]\n",
      "   [33 34 35]]]]\n",
      "데이터 타입 int32\n",
      "차원 (6, 6)\n",
      "5\n",
      "[[ 7  8  9 10]\n",
      " [13 14 15 16]\n",
      " [19 20 21 22]\n",
      " [25 26 27 28]]\n",
      "[ 7 14 21]\n",
      "[[ 9  8  9 10]\n",
      " [13 14 15 16]\n",
      " [19 20 21 22]\n",
      " [25 26 27 28]]\n",
      "[[ 0  1  2  3  4  5]\n",
      " [ 6  9  8  9 10 11]\n",
      " [12 13 14 15 16 17]\n",
      " [18 19 20 21 22 23]\n",
      " [24 25 26 27 28 29]\n",
      " [30 31 32 33 34 35]]\n",
      "[[ 9  1  2  3  4  5]\n",
      " [ 6  9  8  9 10 11]\n",
      " [12 13 14 15 16 17]\n",
      " [18 19 20 21 22 23]\n",
      " [24 25 26 27 28 29]\n",
      " [30 31 32 33 34 35]]\n"
     ]
    }
   ],
   "source": [
    "\n",
    "import numpy as np\n",
    "# reshape 저장형태는 일렬로 저장을 기준으로 데이터를 재배치\n",
    "Z = np.arange(36) \n",
    "print(type(Z))\n",
    "print(Z)\n",
    "Z = Z.reshape((6,6))\n",
    "print(Z)\n",
    "reshape2 = Z.reshape((2,3,6))\n",
    "print(reshape2)\n",
    "reshape3 = Z.reshape((2,3,2,3))\n",
    "print(reshape3)\n",
    "\n",
    "print(\"데이터 타입\", Z.dtype)\n",
    "print(\"차원\", Z.shape)\n",
    "print(Z[0,5])\n",
    "\n",
    "print(Z[1:5,1:5]) \n",
    "print(Z[[1,2,3],[1,2,3]]) # fancy indexing, 교차점\n",
    "A = Z[1:5,1:5]\n",
    "A[0,0] = 9\n",
    "print(A)\n",
    "print(Z)\n",
    "A=Z;\n",
    "A[0,0] = 9\n",
    "print(Z)\n",
    "\n",
    "\n",
    "\n",
    "\n",
    "\n",
    "\n",
    "\n",
    "\n"
   ]
  },
  {
   "cell_type": "code",
   "execution_count": null,
   "metadata": {},
   "outputs": [],
   "source": []
  },
  {
   "cell_type": "code",
   "execution_count": 9,
   "metadata": {},
   "outputs": [
    {
     "name": "stdout",
     "output_type": "stream",
     "text": [
      "[[0, 1, 2, 3, 4, 5], [10, 11, 12, 13, 14, 15], [20, 21, 22, 23, 24, 25], [30, 31, 32, 33, 34, 35], [40, 41, 42, 43, 44, 45], [50, 51, 52, 53, 54, 55]]\n",
      "[[ 0  1  2  3  4  5]\n",
      " [10 11 12 13 14 15]\n",
      " [20 21 22 23 24 25]\n",
      " [30 31 32 33 34 35]\n",
      " [40 41 42 43 44 45]\n",
      " [50 51 52 53 54 55]]\n",
      "[ 1 12 23 34 45]\n",
      "[ 2 22 52]\n",
      "정상으로 [ 2 22 52]\n",
      "fancy= [30 42 55]\n",
      "green= [[30 32 35]\n",
      " [40 42 45]\n",
      " [50 52 55]]\n"
     ]
    }
   ],
   "source": [
    "# 2차원으로 일정한 규칙이 있어서 2중 for문으로 생성\n",
    "arr = []\n",
    "for i in range(6):\n",
    "    ad=[]\n",
    "    for j in range(6):        \n",
    "        ad.append(i*10 + j)\n",
    "    arr.append(ad)\n",
    "print(arr)\n",
    "arr = np.array(arr)\n",
    "#1)\n",
    "print(arr)\n",
    "print(arr[[0,1,2,3,4], [1,2,3,4,5]])\n",
    "#2)\n",
    "mask = np.array([1,0,1,0,0,1], dtype=bool)\n",
    "print(arr[mask,2])\n",
    "print(\"정상으로\", arr[[0,2,5],2])\n",
    "#3)\n",
    "print(\"fancy=\",arr[[3,4,5],[0,2,5]]) # fancy는 원치 않는 데이터\n",
    "print(\"green=\",arr[3:6][:,[0,2,5]])\n"
   ]
  },
  {
   "cell_type": "code",
   "execution_count": 10,
   "metadata": {},
   "outputs": [
    {
     "name": "stdout",
     "output_type": "stream",
     "text": [
      "[[1 0 1]\n",
      " [1 0 1]\n",
      " [1 0 1]\n",
      " [1 0 1]]\n",
      "[[ 2  2  4]\n",
      " [ 5  5  7]\n",
      " [ 8  8 10]\n",
      " [11 11 13]]\n"
     ]
    },
    {
     "data": {
      "text/plain": [
       "array([[ 2,  2,  4],\n",
       "       [ 5,  5,  7],\n",
       "       [ 8,  8, 10],\n",
       "       [11, 11, 13]])"
      ]
     },
     "execution_count": 10,
     "metadata": {},
     "output_type": "execute_result"
    }
   ],
   "source": [
    "# tile과 broadcasting 자동화\n",
    "# 행렬의 요소곱과 행렬곱\n",
    "# 요소연산은 치수가 일치해야 가능\n",
    "# 4 x 3 => \n",
    "import numpy as np\n",
    "x = np.array([[1,2,3], [4,5,6], [7,8,9], [10,11,12]])\n",
    "v = np.array([1,0,1])\n",
    "vv = np.tile(v, (4,1))\n",
    "print(vv) # v를 4행 1열로 출력\n",
    "y = x + vv # 행렬의 덧셈\n",
    "print(y)\n",
    "x+v"
   ]
  },
  {
   "cell_type": "code",
   "execution_count": 11,
   "metadata": {},
   "outputs": [
    {
     "name": "stdout",
     "output_type": "stream",
     "text": [
      "[[[ 0  1  2  3]\n",
      "  [ 4  5  6  7]]\n",
      "\n",
      " [[ 8  9 10 11]\n",
      "  [12 13 14 15]]]\n",
      "[[[ 0  1  2  3]\n",
      "  [ 8  9 10 11]]\n",
      "\n",
      " [[ 4  5  6  7]\n",
      "  [12 13 14 15]]]\n",
      "[[[ 0  4]\n",
      "  [ 1  5]\n",
      "  [ 2  6]\n",
      "  [ 3  7]]\n",
      "\n",
      " [[ 8 12]\n",
      "  [ 9 13]\n",
      "  [10 14]\n",
      "  [11 15]]]\n"
     ]
    }
   ],
   "source": [
    "arr = np.arange(16).reshape((2,2,4)) # 2행 2열, 4차원\n",
    "print(arr)\n",
    "print(arr.transpose((1,0,2)))\n",
    "\n",
    "print(arr.swapaxes(1,2))"
   ]
  },
  {
   "cell_type": "code",
   "execution_count": 12,
   "metadata": {},
   "outputs": [
    {
     "name": "stdout",
     "output_type": "stream",
     "text": [
      "[[0 1]\n",
      " [2 3]]\n",
      "[[0 2]\n",
      " [1 3]]\n",
      "[[[ 0  1  2  3]\n",
      "  [ 4  5  6  7]\n",
      "  [ 8  9 10 11]]\n",
      "\n",
      " [[12 13 14 15]\n",
      "  [16 17 18 19]\n",
      "  [20 21 22 23]]]\n",
      "[[[ 0  1  2  3]\n",
      "  [12 13 14 15]]\n",
      "\n",
      " [[ 4  5  6  7]\n",
      "  [16 17 18 19]]\n",
      "\n",
      " [[ 8  9 10 11]\n",
      "  [20 21 22 23]]]\n",
      "[[[ 0  4  8]\n",
      "  [ 1  5  9]\n",
      "  [ 2  6 10]\n",
      "  [ 3  7 11]]\n",
      "\n",
      " [[12 16 20]\n",
      "  [13 17 21]\n",
      "  [14 18 22]\n",
      "  [15 19 23]]]\n",
      "[[[ 0  4  8]\n",
      "  [ 1  5  9]\n",
      "  [ 2  6 10]\n",
      "  [ 3  7 11]]\n",
      "\n",
      " [[12 16 20]\n",
      "  [13 17 21]\n",
      "  [14 18 22]\n",
      "  [15 19 23]]]\n"
     ]
    }
   ],
   "source": [
    "# 전치 행렬\n",
    "x = np.arange(4).reshape((2,2))\n",
    "print(x)\n",
    "print(np.transpose(x))\n",
    "\n",
    "# 전치를 3차원으로 실행\n",
    "arr = np.arange(24).reshape((2,3,4)) # 2면 3행을 4열\n",
    "\n",
    "# 면과 행을 바꿔라\n",
    "# 0, 1, 2\n",
    "print(arr)\n",
    "# 3면 2행 => 열은 변화가 없고 3면, 2행으로 변경\n",
    "print(arr.transpose((1,0,2))) # 3면 2행 1열로\n",
    "print(arr.transpose((0,2,1))) \n",
    "# 행과 열을 변경\n",
    "print(arr.swapaxes(1,2)) # 축을 바꾼다."
   ]
  },
  {
   "cell_type": "code",
   "execution_count": 13,
   "metadata": {
    "scrolled": false
   },
   "outputs": [
    {
     "name": "stdout",
     "output_type": "stream",
     "text": [
      "[[ 0  1  2  3]\n",
      " [ 4  5  6  7]\n",
      " [ 8  9 10 11]\n",
      " [12 13 14 15]\n",
      " [16 17 18 19]\n",
      " [20 21 22 23]\n",
      " [24 25 26 27]\n",
      " [28 29 30 31]]\n",
      "[[ 4  5  6  7]\n",
      " [20 21 22 23]\n",
      " [28 29 30 31]\n",
      " [ 8  9 10 11]]\n",
      "[[28 29 30 31]\n",
      " [12 13 14 15]\n",
      " [ 4  5  6  7]\n",
      " [24 25 26 27]]\n",
      "[[ 4  5  6  7]\n",
      " [ 8  9 10 11]\n",
      " [20 21 22 23]]\n",
      "[ 4 23 29 10]\n",
      "[[ 4  5  6  7]\n",
      " [ 8  9 10 11]\n",
      " [20 21 22 23]\n",
      " [28 29 30 31]]\n",
      "[[ 4  7  5  6]\n",
      " [20 23 21 22]\n",
      " [28 31 29 30]\n",
      " [ 8 11  9 10]]\n"
     ]
    }
   ],
   "source": [
    "arr = np.arange(32).reshape((8,4))\n",
    "print(arr)\n",
    "# 다행선택\n",
    "print(arr[[1,5,7,2]])\n",
    "# 역순으로\n",
    "print(arr[[-1,-5,-7,-2]])\n",
    "# 앞 pipe, 뒤 filter => 재인덱싱\n",
    "print(arr[[1,5,7,2]][[0,3,1]])\n",
    "# fancy indexing\n",
    "print(arr[[1,5,7,2],[0,3,1,2]])\n",
    "print(arr[[1,2,5,7]][:, [0,1,2,3]])\n",
    "print(arr[[1,5,7,2]][:, [0,3,1,2]])"
   ]
  },
  {
   "cell_type": "code",
   "execution_count": 14,
   "metadata": {},
   "outputs": [
    {
     "name": "stdout",
     "output_type": "stream",
     "text": [
      "[ True False False False False False False]\n",
      "[[-0.37597762  0.6040836  -0.7530778  -0.31926776]]\n",
      "[[-0.7530778  -0.31926776]]\n",
      "[-0.31926776]\n",
      "[False  True  True  True  True  True  True]\n",
      "[False  True  True  True  True  True  True]\n",
      "[ True False  True False  True False False]\n",
      "[[-0.37597762  0.6040836  -0.7530778  -0.31926776]\n",
      " [-0.36959644  0.85041978  0.40585682 -0.19191682]\n",
      " [ 1.01065062  0.35451931  0.28467223 -0.78257925]]\n"
     ]
    }
   ],
   "source": [
    "import numpy as np\n",
    "# 행이 일치\n",
    "names = np.array(['Seoul', 'Daejun', 'chungju', 'seoul', 'chungju',\n",
    "                 'Daejun', 'Daejun'])\n",
    "data = np.random.randn(7,4) \n",
    "\n",
    "print(names == 'Seoul')\n",
    "\n",
    "print(data[names=='Seoul'])\n",
    "print(data[names=='Seoul', 2:])\n",
    "print(data[names=='Seoul', 3])\n",
    "\n",
    "print(names != 'Seoul')\n",
    "print(~(names == 'Seoul'))\n",
    "mask = (names == 'Seoul') | (names=='chungju')\n",
    "print(mask)\n",
    "print(data[mask])\n",
    "\n",
    "\n",
    "\n",
    "\n"
   ]
  },
  {
   "cell_type": "code",
   "execution_count": 15,
   "metadata": {},
   "outputs": [
    {
     "name": "stdout",
     "output_type": "stream",
     "text": [
      "<zip object at 0x00000000057FEDC8>\n",
      "[(1.1, 2.1, True), (1.2, 2.2, False), (1.3, 2.3, True), (1.4, 2.4, True), (1.5, 2.5, False)]\n",
      "result =  [1.1, 2.2, 1.3, 1.4, 2.5]\n",
      "[1.1 2.2 1.3 1.4 2.5]\n",
      "[[-0.69620826 -0.40298401 -1.29172026  0.42915887]\n",
      " [ 1.31040097  1.58692649  0.47038595 -0.70016974]\n",
      " [-0.10933281 -1.15248019 -1.63810112  0.8927144 ]\n",
      " [ 1.35303314  0.67970603  2.17245118 -2.07698463]]\n",
      "[[-2 -2 -2  2]\n",
      " [ 2  2  2 -2]\n",
      " [-2 -2 -2  2]\n",
      " [ 2  2  2 -2]]\n",
      "[[-0.69620826 -0.40298401 -1.29172026  2.        ]\n",
      " [ 2.          2.          2.         -0.70016974]\n",
      " [-0.10933281 -1.15248019 -1.63810112  2.        ]\n",
      " [ 2.          2.          2.         -2.07698463]]\n"
     ]
    }
   ],
   "source": [
    "# numpy 요소 삼항 연산자 np.where\n",
    "xarr = np.array([1.1, 1.2, 1.3, 1.4, 1.5])\n",
    "yarr = np.array([2.1, 2.2, 2.3, 2.4, 2.5])\n",
    "cond = np.array([True, False, True, True, False])\n",
    "print(zip(xarr, yarr, cond)) # 3 by 3\n",
    "print(list(zip(xarr, yarr, cond)))\n",
    "# 내장리스트 \n",
    "result = [(x if c else y) for x,y,c in zip(xarr, yarr, cond)]\n",
    "print(\"result = \", result)\n",
    "\n",
    "result = np.where(cond, xarr, yarr)\n",
    "print(result)\n",
    "\n",
    "arr=np.random.randn(4,4)\n",
    "print(arr)\n",
    "print(np.where(arr>0, 2, -2))\n",
    "print(np.where(arr>0, 2, arr))"
   ]
  },
  {
   "cell_type": "code",
   "execution_count": 16,
   "metadata": {},
   "outputs": [
    {
     "name": "stdout",
     "output_type": "stream",
     "text": [
      "조건문 [1, 2, 0, 0, 3, 2, 0]\n",
      "3항연산자 [1 2 0 0 3 2 0]\n",
      "수식을 이용한 [1 2 0 0 3 2 0]\n"
     ]
    }
   ],
   "source": [
    "# 문제) 다음 데이터를 이용하여 두개 다 참일 때는 0, cond1이 참일 때는 1, cond2가 참일 때는 2 \n",
    "# 그 외일 때는 3으로 처리하는 데이터를 생성하시오\n",
    "import numpy as np\n",
    "result = []\n",
    "cond1 = np.array([1,0,1,1,0,0,1],dtype=bool)\n",
    "cond2 = np.array([0,1,1,1,0,1,1],dtype=bool)\n",
    "\n",
    "n=7\n",
    "# 조건문을 이용한 해\n",
    "for i in range(n):\n",
    "    if(cond1[i] and cond2[i]):\n",
    "        result.append(0)\n",
    "    elif cond1[i]:\n",
    "        result.append(1)\n",
    "    elif cond2[i]:\n",
    "        result.append(2)\n",
    "    else:\n",
    "        result.append(3)\n",
    "    \n",
    "print(\"조건문\", result)\n",
    "#3항 연산자를 이용한 해\n",
    "result = np.where(cond1 & cond2, 0, np.where(cond1, 1, np.where(cond2, 2, 3)))\n",
    "print(\"3항연산자\", result)\n",
    "#수식을 이용한 해\n",
    "result = 1*(cond1 & ~cond2) + 2*(cond2 & ~cond1) + 3* ~(cond1 | cond2)\n",
    "print(\"수식을 이용한\", result)\n",
    "\n",
    "\n",
    "\n",
    "\n",
    "\n"
   ]
  },
  {
   "cell_type": "code",
   "execution_count": 17,
   "metadata": {},
   "outputs": [
    {
     "name": "stdout",
     "output_type": "stream",
     "text": [
      "[[5. 5. 5.]\n",
      " [5. 5. 5.]\n",
      " [5. 5. 5.]\n",
      " [5. 5. 5.]]\n",
      "[ 1.28 -0.42  0.44  1.6 ]\n",
      "[[ 1.28  1.28  1.28]\n",
      " [-0.42 -0.42 -0.42]\n",
      " [ 0.44  0.44  0.44]\n",
      " [ 1.6   1.6   1.6 ]]\n",
      "[[-1.37  -1.37  -1.37 ]\n",
      " [ 0.509  0.509  0.509]\n",
      " [ 0.44   0.44   0.44 ]\n",
      " [ 1.6    1.6    1.6  ]]\n",
      "[[ 2  2  4]\n",
      " [ 5  5  7]\n",
      " [ 8  8 10]\n",
      " [11 11 13]]\n",
      "[[ 2  2  4]\n",
      " [ 5  5  7]\n",
      " [ 8  8 10]\n",
      " [11 11 13]]\n"
     ]
    }
   ],
   "source": [
    "arr = np.zeros((4,3))\n",
    "arr[:]=5 # 4 by 3\n",
    "print(arr)\n",
    "# broad casting 1\n",
    "col = np.array([1.28, -0.42, 0.44, 1.6])\n",
    "print(col)\n",
    "arr[:]=col[:, np.newaxis] # 4 by 3\n",
    "print(arr)\n",
    "# broad casting 2 - broad casting, 같은 값으로 반복됨\n",
    "arr[:2] = [[-1.37], [0.509]] # 0하고 1번 행 선택 => 추가\n",
    "print(arr)\n",
    "# broad casting 3\n",
    "x = np.array([[1,2,3], [4,5,6], [7,8,9], [10,11,12]]) # 4 by 3\n",
    "v = np.array([1, 0, 1]) # 0 by 3\n",
    "y = np.empty_like(x) # empty_like, 데이터와 같은 차수의 형태를 만들고 데이터는 복사하지 않는다.\n",
    "for i in range(4):\n",
    "    y[i, :] = x[i, :] + v # 열에다가 같은 형식의 데이터를 더하여 값을 채움\n",
    "print(y)\n",
    "print(x+v)"
   ]
  },
  {
   "cell_type": "code",
   "execution_count": 18,
   "metadata": {
    "scrolled": false
   },
   "outputs": [
    {
     "name": "stdout",
     "output_type": "stream",
     "text": [
      "[0 1 2 3]\n",
      "[0 1]\n",
      "[[0 1]\n",
      " [2 3]\n",
      " [4 5]\n",
      " [6 7]]\n",
      "[[[0 1]\n",
      "  [2 3]\n",
      "  [4 5]\n",
      "  [6 7]]\n",
      "\n",
      " [[0 1]\n",
      "  [2 3]\n",
      "  [4 5]\n",
      "  [6 7]]\n",
      "\n",
      " [[0 1]\n",
      "  [2 3]\n",
      "  [4 5]\n",
      "  [6 7]]]\n",
      "[[[ 0  2]\n",
      "  [ 4  6]\n",
      "  [ 8 10]\n",
      "  [12 14]]\n",
      "\n",
      " [[ 0  2]\n",
      "  [ 4  6]\n",
      "  [ 8 10]\n",
      "  [12 14]]\n",
      "\n",
      " [[ 0  2]\n",
      "  [ 4  6]\n",
      "  [ 8 10]\n",
      "  [12 14]]]\n",
      "[[[ 0  2]\n",
      "  [ 4  6]\n",
      "  [ 8 10]\n",
      "  [12 14]]\n",
      "\n",
      " [[ 0  2]\n",
      "  [ 4  6]\n",
      "  [ 8 10]\n",
      "  [12 14]]\n",
      "\n",
      " [[ 0  2]\n",
      "  [ 4  6]\n",
      "  [ 8 10]\n",
      "  [12 14]]]\n",
      "[[[0 2]\n",
      "  [2 4]\n",
      "  [4 6]\n",
      "  [6 8]]\n",
      "\n",
      " [[0 2]\n",
      "  [2 4]\n",
      "  [4 6]\n",
      "  [6 8]]\n",
      "\n",
      " [[0 2]\n",
      "  [2 4]\n",
      "  [4 6]\n",
      "  [6 8]]]\n",
      "말단을 맞추면 [[[0 2]\n",
      "  [2 4]\n",
      "  [4 6]\n",
      "  [6 8]]\n",
      "\n",
      " [[0 2]\n",
      "  [2 4]\n",
      "  [4 6]\n",
      "  [6 8]]\n",
      "\n",
      " [[0 2]\n",
      "  [2 4]\n",
      "  [4 6]\n",
      "  [6 8]]]\n"
     ]
    },
    {
     "ename": "ValueError",
     "evalue": "operands could not be broadcast together with shapes (3,4,2) (4,) ",
     "output_type": "error",
     "traceback": [
      "\u001b[1;31m---------------------------------------------------------------------------\u001b[0m",
      "\u001b[1;31mValueError\u001b[0m                                Traceback (most recent call last)",
      "\u001b[1;32m<ipython-input-18-19c43ae1f19f>\u001b[0m in \u001b[0;36m<module>\u001b[1;34m()\u001b[0m\n\u001b[0;32m     13\u001b[0m \u001b[1;33m\u001b[0m\u001b[0m\n\u001b[0;32m     14\u001b[0m \u001b[0mprint\u001b[0m\u001b[1;33m(\u001b[0m\u001b[1;34m\"말단을 맞추면\"\u001b[0m\u001b[1;33m,\u001b[0m \u001b[0marr3d\u001b[0m \u001b[1;33m+\u001b[0m \u001b[0marr4\u001b[0m\u001b[1;33m)\u001b[0m\u001b[1;33m\u001b[0m\u001b[0m\n\u001b[1;32m---> 15\u001b[1;33m \u001b[0mprint\u001b[0m\u001b[1;33m(\u001b[0m\u001b[0marr3d\u001b[0m \u001b[1;33m+\u001b[0m \u001b[0marr1\u001b[0m \u001b[1;33m)\u001b[0m \u001b[1;31m# 연산이 불가능, 자동 broad casting\u001b[0m\u001b[1;33m\u001b[0m\u001b[0m\n\u001b[0m",
      "\u001b[1;31mValueError\u001b[0m: operands could not be broadcast together with shapes (3,4,2) (4,) "
     ]
    }
   ],
   "source": [
    "arr1 = np.arange(4)\n",
    "arr4 = np.arange(2)\n",
    "print(arr1)\n",
    "print(arr4)\n",
    "arr2 = np.arange(8).reshape(4,2)\n",
    "print(arr2)\n",
    "# 3 x 4 x 2 형태\n",
    "arr3d = np.array([arr2, arr2, arr2])\n",
    "print(arr3d)\n",
    "print(arr3d + arr3d)\n",
    "print(arr3d + arr2)\n",
    "print(arr3d + arr4) # 행, 면으로 브로드캐스팅 되면서 연산됨\n",
    "\n",
    "print(\"말단을 맞추면\", arr3d + arr4)\n",
    "print(arr3d + arr1 ) # 연산이 불가능, 자동 broad casting"
   ]
  },
  {
   "cell_type": "code",
   "execution_count": 19,
   "metadata": {},
   "outputs": [
    {
     "name": "stdout",
     "output_type": "stream",
     "text": [
      "13.0\n",
      "13.0\n",
      "[[1.         0.90419443]\n",
      " [0.90419443 1.        ]]\n"
     ]
    },
    {
     "data": {
      "text/plain": [
       "8"
      ]
     },
     "execution_count": 19,
     "metadata": {},
     "output_type": "execute_result"
    }
   ],
   "source": [
    "# 통계함수\n",
    "from statistics import *\n",
    "x=np.array([7,8,9])\n",
    "y=np.array([9,10,20])\n",
    "print(y.mean())\n",
    "#print(y.median())\n",
    "print(y.mean())\n",
    "#print(y.mode())\n",
    "#print(y.harmonic_mean())\n",
    "print(np.corrcoef(x,y))\n",
    "np.corrcoef(x,y)\n",
    "np.cov(x)\n",
    "mean(x)"
   ]
  },
  {
   "cell_type": "code",
   "execution_count": 23,
   "metadata": {},
   "outputs": [
    {
     "name": "stdout",
     "output_type": "stream",
     "text": [
      "10.0\n",
      "13.0\n"
     ]
    },
    {
     "ename": "AttributeError",
     "evalue": "module 'numpy' has no attribute 'mode'",
     "output_type": "error",
     "traceback": [
      "\u001b[1;31m---------------------------------------------------------------------------\u001b[0m",
      "\u001b[1;31mAttributeError\u001b[0m                            Traceback (most recent call last)",
      "\u001b[1;32m<ipython-input-23-dc3c2200bc9c>\u001b[0m in \u001b[0;36m<module>\u001b[1;34m()\u001b[0m\n\u001b[0;32m      1\u001b[0m \u001b[0mprint\u001b[0m\u001b[1;33m(\u001b[0m\u001b[0mnp\u001b[0m\u001b[1;33m.\u001b[0m\u001b[0mmedian\u001b[0m\u001b[1;33m(\u001b[0m\u001b[0my\u001b[0m\u001b[1;33m)\u001b[0m\u001b[1;33m)\u001b[0m\u001b[1;33m\u001b[0m\u001b[0m\n\u001b[0;32m      2\u001b[0m \u001b[0mprint\u001b[0m\u001b[1;33m(\u001b[0m\u001b[0my\u001b[0m\u001b[1;33m.\u001b[0m\u001b[0mmean\u001b[0m\u001b[1;33m(\u001b[0m\u001b[1;33m)\u001b[0m\u001b[1;33m)\u001b[0m\u001b[1;33m\u001b[0m\u001b[0m\n\u001b[1;32m----> 3\u001b[1;33m \u001b[0mprint\u001b[0m\u001b[1;33m(\u001b[0m\u001b[0mnp\u001b[0m\u001b[1;33m.\u001b[0m\u001b[0mmode\u001b[0m\u001b[1;33m(\u001b[0m\u001b[0my\u001b[0m\u001b[1;33m)\u001b[0m\u001b[1;33m)\u001b[0m\u001b[1;33m\u001b[0m\u001b[0m\n\u001b[0m\u001b[0;32m      4\u001b[0m \u001b[0mprint\u001b[0m\u001b[1;33m(\u001b[0m\u001b[0my\u001b[0m\u001b[1;33m.\u001b[0m\u001b[0mharmonic_mean\u001b[0m\u001b[1;33m(\u001b[0m\u001b[1;33m)\u001b[0m\u001b[1;33m)\u001b[0m\u001b[1;33m\u001b[0m\u001b[0m\n",
      "\u001b[1;31mAttributeError\u001b[0m: module 'numpy' has no attribute 'mode'"
     ]
    }
   ],
   "source": [
    "print(np.median(y))\n",
    "print(y.mean())\n",
    "print(np.mode(y))\n",
    "print(y.harmonic_mean())"
   ]
  },
  {
   "cell_type": "code",
   "execution_count": 19,
   "metadata": {},
   "outputs": [
    {
     "data": {
      "text/plain": [
       "Text(0,0.5,'y values')"
      ]
     },
     "execution_count": 19,
     "metadata": {},
     "output_type": "execute_result"
    },
    {
     "data": {
      "image/png": "[encoded data removed]",
      "text/plain": [
       "<Figure size 432x288 with 1 Axes>"
      ]
     },
     "metadata": {},
     "output_type": "display_data"
    }
   ],
   "source": [
    "%matplotlib inline\n",
    "import matplotlib.pyplot as plt\n",
    "x=[1,2,3,4,5,6]\n",
    "y=[1,2,3,4,6,5]\n",
    "plt.plot(x,y, ':rs') # 색 red, 모양 square\n",
    "# b:blue, g:green, c:cyan, m:magenta, y:yello\n",
    "# .,o,^,1:tri_down,2:tri_up,3:tri_left,4:tri_right,,s:square, p:pentagon\n",
    "plt.axis([0,8,0,7])\n",
    "plt.xlabel(\"x values\")\n",
    "plt.ylabel(\"y values\")\n",
    "\n"
   ]
  },
  {
   "cell_type": "code",
   "execution_count": 31,
   "metadata": {},
   "outputs": [
    {
     "data": {
      "text/plain": [
       "[<matplotlib.lines.Line2D at 0x7e4fc88>]"
      ]
     },
     "execution_count": 31,
     "metadata": {},
     "output_type": "execute_result"
    },
    {
     "data": {
      "image/png": "[encoded data removed]",
      "text/plain": [
       "<Figure size 432x288 with 4 Axes>"
      ]
     },
     "metadata": {},
     "output_type": "display_data"
    }
   ],
   "source": [
    "# 화면 분할 : sharex\n",
    "from numpy.random import randn\n",
    "fig, axes=plt.subplots(2,2, sharex=True, sharey=True) # 2,2 4개를 만듦\n",
    "for i in range(2):\n",
    "    for j in range(2):\n",
    "        axes[i,j].hist(randn(500), bins=10, color='k', alpha=0.5) # bin 간격을 10으로 함\n",
    "plt.subplots_adjust(wspace=0, hspace=0)\n",
    "\n",
    "plt.plot(randn(30).cumsum(), 'ko--')"
   ]
  },
  {
   "cell_type": "code",
   "execution_count": 34,
   "metadata": {},
   "outputs": [
    {
     "data": {
      "image/png": "[encoded data removed]",
      "text/plain": [
       "<Figure size 432x288 with 1 Axes>"
      ]
     },
     "metadata": {},
     "output_type": "display_data"
    }
   ],
   "source": [
    "# 선형공간\n",
    "xs = np.linspace(0, 2*np.pi, 100)\n",
    "ys = np.sin(xs)\n",
    "plt.plot(xs, ys);\n",
    "plt.show() # 마루, 골"
   ]
  },
  {
   "cell_type": "code",
   "execution_count": 37,
   "metadata": {},
   "outputs": [
    {
     "data": {
      "text/plain": [
       "array([[18, 14, 14, 18, 20, 16],\n",
       "       [16, 25, 16, 14, 14, 15],\n",
       "       [15, 19, 16, 12, 18, 20],\n",
       "       [19, 13, 14, 18, 18, 18],\n",
       "       [18, 20, 17, 16, 16, 13],\n",
       "       [15, 16, 15, 16, 20, 18],\n",
       "       [12, 17, 17, 18, 17, 19],\n",
       "       [15, 16, 22, 21, 13, 13],\n",
       "       [18, 12, 16, 17, 22, 15],\n",
       "       [14, 17, 25, 15, 15, 14]])"
      ]
     },
     "execution_count": 37,
     "metadata": {},
     "output_type": "execute_result"
    }
   ],
   "source": [
    "import numpy.random as npr\n",
    "npr.seed(123)\n",
    "\n",
    "roll=1.0/6\n",
    "x=npr.multinomial(100, [roll]*6,10)\n",
    "x"
   ]
  },
  {
   "cell_type": "code",
   "execution_count": 41,
   "metadata": {},
   "outputs": [
    {
     "name": "stdout",
     "output_type": "stream",
     "text": [
      "[[-0.50973882 -0.97368034]\n",
      " [-0.95170319  0.41877138]\n",
      " [ 0.84910377 -0.06533945]\n",
      " [-0.2497817   0.08572085]\n",
      " [ 0.71783368  0.30430775]\n",
      " [-0.53404021  0.54916041]\n",
      " [-0.73077301 -0.66888006]\n",
      " [ 0.22536457 -0.52243319]\n",
      " [ 0.4095571  -0.30096295]\n",
      " [-0.44515208  0.99783681]\n",
      " [-0.91876775  0.29164504]\n",
      " [-0.92260083  0.52042052]\n",
      " [-0.53982009 -0.82033627]\n",
      " [ 0.29689942  0.46520243]\n",
      " [ 0.35619063 -0.89619811]\n",
      " [-0.41138611 -0.09782331]\n",
      " [-0.42579342  0.62102691]\n",
      " [-0.73776979  0.22435872]\n",
      " [ 0.97642989  0.80511308]\n",
      " [-0.55568588 -0.99983622]\n",
      " [ 0.96119468  0.76542597]\n",
      " [ 0.83894493 -0.1689929 ]\n",
      " [ 0.48923092 -0.574337  ]\n",
      " [-0.21539186  0.7030961 ]\n",
      " [-0.74477555  0.78773074]\n",
      " [-0.00698406 -0.14780869]\n",
      " [-0.38870722  0.83369757]\n",
      " [ 0.03524692  0.60805274]\n",
      " [ 0.71530357  0.84476471]\n",
      " [-0.39323853 -0.32037829]\n",
      " [ 0.19014775 -0.11735173]\n",
      " [ 0.86568507 -0.2048719 ]\n",
      " [-0.0444439   0.23437218]\n",
      " [-0.19052103  0.98495687]\n",
      " [-0.80229743 -0.55879336]\n",
      " [-0.35468974 -0.70455431]\n",
      " [-0.43156153  0.55849059]\n",
      " [ 0.045784   -0.93209273]\n",
      " [ 0.96524517  0.23201296]\n",
      " [-0.88212104  0.32233754]\n",
      " [-0.24326126 -0.72865341]\n",
      " [ 0.12732919  0.4541599 ]\n",
      " [ 0.34225321 -0.50497369]\n",
      " [ 0.04973244  0.07532689]\n",
      " [ 0.43360673 -0.2802653 ]\n",
      " [ 0.59546519  0.2558437 ]\n",
      " [-0.92333679  0.09295804]\n",
      " [ 0.72382419  0.13514833]\n",
      " [-0.64834347  0.02075274]\n",
      " [ 0.51389167 -0.77978961]\n",
      " [ 0.63419816 -0.66503672]\n",
      " [ 0.06815298 -0.22851304]\n",
      " [-0.50275246  0.29486503]\n",
      " [-0.92521578  0.52009161]\n",
      " [ 0.05388128  0.75154242]\n",
      " [ 0.04143664 -0.92993366]\n",
      " [-0.71279806  0.59120918]\n",
      " [-0.0160479  -0.11624146]\n",
      " [-0.36313044 -0.4309016 ]\n",
      " [ 0.93177262 -0.13406134]\n",
      " [ 0.76800607  0.29632625]\n",
      " [ 0.71685529  0.70489909]\n",
      " [ 0.91262406  0.39588447]\n",
      " [ 0.61079387  0.46625579]\n",
      " [ 0.21045367  0.43470827]\n",
      " [ 0.43150082 -0.91818441]\n",
      " [ 0.03222167  0.58530272]\n",
      " [-0.51407563 -0.06970403]\n",
      " [-0.13002858 -0.19442566]\n",
      " [-0.75632094  0.05142308]\n",
      " [-0.10750327  0.32678551]\n",
      " [ 0.09882612 -0.94491414]\n",
      " [-0.93616402  0.4027196 ]\n",
      " [ 0.41516224  0.91987827]\n",
      " [ 0.75340936 -0.06388067]\n",
      " [ 0.25181302 -0.08563654]\n",
      " [-0.55410753 -0.24664601]\n",
      " [-0.79223154  0.33305424]\n",
      " [-0.61593971 -0.04906443]\n",
      " [ 0.93487321 -0.93666214]\n",
      " [-0.6965401  -0.40284163]\n",
      " [ 0.88361393  0.81768359]\n",
      " [-0.67599832  0.96223555]\n",
      " [ 0.50149505  0.07995417]\n",
      " [ 0.86340577  0.76121428]\n",
      " [-0.21736701  0.31268639]\n",
      " [ 0.29477029 -0.34606363]\n",
      " [-0.64121965 -0.06638025]\n",
      " [-0.47343793 -0.28986975]\n",
      " [ 0.90828794 -0.07772426]\n",
      " [ 0.36978293 -0.32754021]\n",
      " [ 0.99172216  0.31753521]\n",
      " [-0.60798107 -0.803632  ]\n",
      " [ 0.88636114  0.88955566]\n",
      " [ 0.24265675 -0.966017  ]\n",
      " [-0.54893023  0.60255357]\n",
      " [ 0.75091966 -0.09202037]\n",
      " [-0.26895876 -0.45154998]\n",
      " [-0.76605897 -0.76851093]\n",
      " [ 0.9052054   0.61725223]]\n"
     ]
    },
    {
     "data": {
      "image/png": "[encoded data removed]",
      "text/plain": [
       "<Figure size 432x288 with 1 Axes>"
      ]
     },
     "metadata": {},
     "output_type": "display_data"
    }
   ],
   "source": [
    "# 균등 분포\n",
    "x = npr.uniform(-1, 1, (100, 2)) #(100, 2) 갯수 (x, y)\n",
    "print(x)\n",
    "plt.scatter(x[:,0], x[:,1], s=50) # 산포도\n",
    "plt.axis([-1.05, 1.05, -1.05, 1.05]); # 축의 범위\n",
    "plt.show()"
   ]
  },
  {
   "cell_type": "code",
   "execution_count": 42,
   "metadata": {},
   "outputs": [
    {
     "data": {
      "text/plain": [
       "array([0, 6, 8, 1, 9, 5, 3, 4, 2, 7])"
      ]
     },
     "execution_count": 42,
     "metadata": {},
     "output_type": "execute_result"
    }
   ],
   "source": [
    "x = np.arange(10)\n",
    "npr.shuffle(x)\n",
    "x"
   ]
  },
  {
   "cell_type": "code",
   "execution_count": 44,
   "metadata": {},
   "outputs": [
    {
     "data": {
      "text/plain": [
       "array([[16, 11, 11, 14, 10, 17, 16, 18, 17, 16],\n",
       "       [18, 12, 16, 14, 10, 15, 18, 16, 14, 12],\n",
       "       [14, 10, 10, 15, 19, 10, 19, 18, 16, 15],\n",
       "       [15, 13, 18, 11, 18, 13, 17, 18, 15, 19],\n",
       "       [11, 14, 19, 13, 14, 14, 14, 10, 10, 16]])"
      ]
     },
     "execution_count": 44,
     "metadata": {},
     "output_type": "execute_result"
    }
   ],
   "source": [
    "x = np.arange(10, 20)\n",
    "npr.choice(x, 10, replace=False) # 비복원추출\n",
    "npr.choice(x, (5,10), replace=True) # 복원추출"
   ]
  },
  {
   "cell_type": "code",
   "execution_count": 45,
   "metadata": {},
   "outputs": [
    {
     "data": {
      "image/png": "[encoded data removed]",
      "text/plain": [
       "<Figure size 432x288 with 1 Axes>"
      ]
     },
     "metadata": {},
     "output_type": "display_data"
    }
   ],
   "source": [
    "x = range(10)\n",
    "y = range(10)\n",
    "\n",
    "plt.plot(x, y, label=\"y=x\")\n",
    "plt.title(\"example\")\n",
    "plt.xlabel(\"X axis\")\n",
    "plt.ylabel(\"Y axis\")\n",
    "plt.legend() # 범례\n",
    "plt.show()"
   ]
  },
  {
   "cell_type": "code",
   "execution_count": 47,
   "metadata": {},
   "outputs": [
    {
     "data": {
      "image/png": "[encoded data removed]",
      "text/plain": [
       "<Figure size 432x288 with 1 Axes>"
      ]
     },
     "metadata": {},
     "output_type": "display_data"
    }
   ],
   "source": [
    "a = [1, 0, 1, 0, \n",
    "     1, 0, 1, 0 ,\n",
    "     1, 1, 1, 1,   # 4 by 4 ,제대로 이해\n",
    "     0, 0, 1, 0]\n",
    "np1 = np.array(a)\n",
    "# 보간법 : 지정되지 않은 값은 nearest\n",
    "# 데이터를 이미지로 출력하면 데이터 형태 확인가능\n",
    "plt.imshow(np1.reshape(4, 4), cmap='Greys', interpolation='nearest')\n",
    "plt.show()"
   ]
  },
  {
   "cell_type": "code",
   "execution_count": 54,
   "metadata": {},
   "outputs": [
    {
     "data": {
      "image/png": "[encoded data removed]",
      "text/plain": [
       "<Figure size 432x288 with 1 Axes>"
      ]
     },
     "metadata": {},
     "output_type": "display_data"
    }
   ],
   "source": [
    "x = np.linspace(0, 10, 100) # 0부터 10까지 5개로 나눔, 숫자가 늘어나면 아~주 부드러워짐, 꺾여진 상태 - 값이 별로 없다.\n",
    "y = np.power(x, 2) # power 함수 - 제곱을 의미...\n",
    "plt.plot(x, y)\n",
    "plt.show()"
   ]
  },
  {
   "cell_type": "code",
   "execution_count": 56,
   "metadata": {},
   "outputs": [
    {
     "data": {
      "image/png": "[encoded data removed]",
      "text/plain": [
       "<Figure size 432x288 with 1 Axes>"
      ]
     },
     "metadata": {},
     "output_type": "display_data"
    }
   ],
   "source": [
    "x = np.linspace(-10, 10, 1000) # 0부터 10까지 5개로 나눔, 숫자가 늘어나면 아~주 부드러워짐, 꺾여진 상태 - 값이 별로 없다.\n",
    "y = np.power(x, 6) # power 함수 - 제곱을 의미...\n",
    "plt.plot(x, y)\n",
    "plt.show() # 밑동이 펑퍼짐한 항아리 모양"
   ]
  },
  {
   "cell_type": "code",
   "execution_count": 65,
   "metadata": {},
   "outputs": [
    {
     "data": {
      "image/png": "[encoded data removed]",
      "text/plain": [
       "<Figure size 432x288 with 1 Axes>"
      ]
     },
     "metadata": {},
     "output_type": "display_data"
    }
   ],
   "source": [
    "x = np.linspace(-100, 100, 1000) # 0부터 10까지 5개로 나눔, 숫자가 늘어나면 아~주 부드러워짐, 꺾여진 상태 - 값이 별로 없다.\n",
    "y = np.power(x, 5) # power 함수 - 제곱을 의미...\n",
    "plt.plot(x, y)\n",
    "plt.show() # 말의 등 모양"
   ]
  },
  {
   "cell_type": "code",
   "execution_count": null,
   "metadata": {},
   "outputs": [],
   "source": []
  },
  {
   "cell_type": "code",
   "execution_count": null,
   "metadata": {},
   "outputs": [],
   "source": []
  },
  {
   "cell_type": "code",
   "execution_count": 66,
   "metadata": {},
   "outputs": [
    {
     "data": {
      "image/png": "[encoded data removed]",
      "text/plain": [
       "<Figure size 432x288 with 2 Axes>"
      ]
     },
     "metadata": {},
     "output_type": "display_data"
    }
   ],
   "source": [
    "A = np.random.random((100, 100)) # 0~80(x), 0~80(y)\n",
    "plt.imshow(A)\n",
    "plt.hot()\n",
    "plt.colorbar()\n",
    "plt.savefig('imageplot.pdf') # 태양의 흑점 같은 사진이 나타남"
   ]
  },
  {
   "cell_type": "code",
   "execution_count": 67,
   "metadata": {},
   "outputs": [
    {
     "data": {
      "image/png": "[encoded data removed]",
      "text/plain": [
       "<Figure size 360x288 with 1 Axes>"
      ]
     },
     "metadata": {},
     "output_type": "display_data"
    }
   ],
   "source": [
    "# location : 중심, 평균, scale : 표준편차   size : 갯수\n",
    "samp1 = np.random.normal(loc=0., scale=1., size=100)\n",
    "samp2 = np.random.normal(loc=1., scale=2., size=100)\n",
    "samp3 = np.random.normal(loc=0.3, scale=1.2, size=100)\n",
    "f, ax = plt.subplots(1, 1, figsize=(5,4))\n",
    "ax.boxplot((samp1, samp2, samp3))\n",
    "ax.set_xticklabels(['sample 1', 'sample 2', 'sample 3'])\n",
    "plt.savefig('boxplot.pdf')"
   ]
  },
  {
   "cell_type": "code",
   "execution_count": 68,
   "metadata": {},
   "outputs": [
    {
     "data": {
      "image/png": "[encoded data removed]",
      "text/plain": [
       "<Figure size 432x288 with 1 Axes>"
      ]
     },
     "metadata": {},
     "output_type": "display_data"
    }
   ],
   "source": [
    "from mpl_toolkits.mplot3d import axes3d\n",
    "ax = plt.subplot(111, projection='3d')\n",
    "X, Y, Z = axes3d.get_test_data(0.1)\n",
    "ax.plot_wireframe(X, Y, Z, linewidth=0.1) # 와이어프레임 : 망사형 출력\n",
    "plt.savefig('wire.pdf')\n",
    "plt.show()"
   ]
  },
  {
   "cell_type": "code",
   "execution_count": 69,
   "metadata": {
    "scrolled": true
   },
   "outputs": [
    {
     "name": "stdout",
     "output_type": "stream",
     "text": [
      "범위 7\n",
      "열범위 [4 5 7]\n",
      "분위수 4.0\n",
      "[5. 4. 4.]\n",
      "행중위수 [3. 4. 5.]\n",
      "열중위수 [5. 5. 5.]\n",
      "2.0\n",
      "1.25\n",
      "1.118033988749895\n"
     ]
    }
   ],
   "source": [
    "# 통계기초 함수\n",
    "a = np.array([[3,7,5],[8,4,3],[2,4,9]])\n",
    "print(\"범위\", np.ptp(a))\n",
    "print(\"열범위\", np.ptp(a, axis = 1))\n",
    "print(\"분위수\", np.percentile(a,50))\n",
    "print(np.percentile(a,50, axis = 1))\n",
    "print(\"행중위수\", np.median(a, axis = 0))\n",
    "print(\"열중위수\", np.mean(a, axis = 1))\n",
    "\n",
    "a = np.array([1,2,3,4])\n",
    "wts = np.array([4,3,2,1])\n",
    "print (np.average(a,weights = wts)) # 가중 평균\n",
    "std = np.sqrt(mean(abs(x - x.mean())**2))\n",
    "\n",
    "print(np.var([1,2,3,4]))\n",
    "print(np.std([1,2,3,4]))\n"
   ]
  },
  {
   "cell_type": "code",
   "execution_count": 73,
   "metadata": {
    "scrolled": true
   },
   "outputs": [
    {
     "name": "stdout",
     "output_type": "stream",
     "text": [
      "[[ 1 -1  2]\n",
      " [ 3  2  0]]\n",
      "[1 2 3]\n",
      "[[2]\n",
      " [1]\n",
      " [3]]\n",
      "[[2]\n",
      " [1]\n",
      " [3]]\n",
      "[[ 2  1 -2]\n",
      " [ 3  0  1]\n",
      " [ 1  1 -1]]\n",
      "[[-3]\n",
      " [ 5]\n",
      " [-2]]\n",
      "[[ 1.]\n",
      " [-1.]\n",
      " [ 2.]]\n"
     ]
    },
    {
     "data": {
      "text/plain": [
       "array([[  3],\n",
       "       [-11],\n",
       "       [  4]])"
      ]
     },
     "execution_count": 73,
     "metadata": {},
     "output_type": "execute_result"
    }
   ],
   "source": [
    "# 선형 대수\n",
    "import numpy.linalg\n",
    "A = np.array([[1,-1,2],[3,2,0]]) # 2 by 3\n",
    "print(A)\n",
    "v = np.array([1,2,3]) # 3 by 1\n",
    "print(v)\n",
    "v = np.array([[2], [1], [3]])\n",
    "print(v)\n",
    "v = np.transpose(np.array([[2,1,3]]))\n",
    "print(v) # 3x1\n",
    "# 행렬곱 ( dot = 내적)  2x3 . 3x1 => 2x1,  행렬곱은 순서를 바꾸면 저얼~대 안 됨 : 변환이기 때문에   # 벡터값, 행렬값\n",
    "# 벡터내적은 순서를 바꿔도 괜찮아 ( 사이각 ) => scalar값\n",
    "w = np.dot(A,v) \n",
    "\n",
    "# 방정식의 계수들  \n",
    "A = np.array([[2,1,-2], [3,0,1], [1,1,-1]])\n",
    " # 2x1 + x2 - 2x3 = = -3\n",
    " # 3x1 + x3 = 5\n",
    " # x1 + x2 - x3 = -2 일 때\n",
    " # x1, x2, x3의 해를 구하는 방정식의 해를 구하고 있음   \n",
    "print(A)\n",
    "\n",
    "b = np.transpose(np.array([[-3,5,-2]]))\n",
    "print(b)\n",
    "x = np.linalg.solve(A,b) # R에서 방정식의 해를 구한 함수\n",
    "print(x)\n",
    "# [ 1.]  [-1.]  [ 2.]\n",
    "np.dot(A,b) # A를 역행렬로 만들어줘야 답이 나온다. 행렬은 나눗셈이 없음\n"
   ]
  },
  {
   "cell_type": "code",
   "execution_count": 75,
   "metadata": {
    "scrolled": true
   },
   "outputs": [
    {
     "name": "stdout",
     "output_type": "stream",
     "text": [
      "2차원 1.4142135623730951\n",
      "3차원 1.7320508075688772\n",
      "[-4 -3 -2 -1  0  1  2  3  4]\n",
      "[[-4 -3 -2]\n",
      " [-1  0  1]\n",
      " [ 2  3  4]]\n",
      "7.745966692414834\n"
     ]
    },
    {
     "data": {
      "text/plain": [
       "7.745966692414834"
      ]
     },
     "execution_count": 75,
     "metadata": {},
     "output_type": "execute_result"
    }
   ],
   "source": [
    "# 벡터의 크기는 norm이라고 한다.\n",
    "# 피타고라스의 정리로 구함\n",
    "from numpy import linalg as LA\n",
    "x = np.array([1.0,1.0]) \n",
    "print(\"2차원\", LA.norm(x))  # 1.414\n",
    "x = np.array([1.0,1.0,1.0]) # 1.732\n",
    "print(\"3차원\", LA.norm(x))\n",
    "# 4차원 벡터의 크기 , sqrt(4) => 벡터는 직선이다. 원점으로부터의 직선이다.\n",
    "a = np.arange(9) - 4\n",
    "print(a)\n",
    "# 행렬도 norm이 있다(크기가 있다).\n",
    "b = a.reshape((3, 3)) # 3 x 3 행렬\n",
    "print(b)\n",
    "print(LA.norm(a)) \n",
    "LA.norm(b)\n"
   ]
  },
  {
   "cell_type": "code",
   "execution_count": 76,
   "metadata": {},
   "outputs": [
    {
     "name": "stdout",
     "output_type": "stream",
     "text": [
      "[[-1.33894439  0.02462421 -0.67971694]\n",
      " [-0.71778154  0.68728175 -0.12652781]\n",
      " [ 0.74093258 -0.56732054 -1.11138619]\n",
      " [-1.78252871 -0.35960536 -0.54814659]\n",
      " [ 0.70924917  2.81195636  0.73498372]\n",
      " [-1.96475145  0.11717073 -0.31857366]]\n",
      "행렬내적\n",
      "[[10.39765476  1.45853838  2.30175194]\n",
      " [ 1.45853838  8.84495874  2.75334556]\n",
      " [ 2.30175194  2.75334556  2.6553586 ]]\n",
      "단일행렬내적\n",
      "[[ 2.25539355  1.06399642 -0.25060932  2.75043634 -1.37998389  2.85011808]\n",
      " [ 1.06399642  1.00357583 -0.78111553  1.10167178  1.33052445  1.53110005]\n",
      " [-0.25060932 -0.78111553  2.10601295 -0.50751954 -1.88662553 -1.16816337]\n",
      " [ 2.75043634  1.10167178 -0.50751954  3.6071893  -2.67833041  3.63471571]\n",
      " [-1.37998389  1.33052445 -1.88662553 -2.67833041  8.95033405 -1.29816582]\n",
      " [ 2.85011808  1.53110005 -1.16816337  3.63471571 -1.29816582  3.97546643]]\n",
      "[[ 2.25539355  1.06399642 -0.25060932  2.75043634 -1.37998389  2.85011808]\n",
      " [ 1.06399642  1.00357583 -0.78111553  1.10167178  1.33052445  1.53110005]\n",
      " [-0.25060932 -0.78111553  2.10601295 -0.50751954 -1.88662553 -1.16816337]\n",
      " [ 2.75043634  1.10167178 -0.50751954  3.6071893  -2.67833041  3.63471571]\n",
      " [-1.37998389  1.33052445 -1.88662553 -2.67833041  8.95033405 -1.29816582]\n",
      " [ 2.85011808  1.53110005 -1.16816337  3.63471571 -1.29816582  3.97546643]]\n"
     ]
    }
   ],
   "source": [
    "# 행렬의 순서를 변경하면 결과가 완전히 다름\n",
    "arr = np.random.randn(6,3) # np.dot - 내적 (3x6)\n",
    "print(arr)\n",
    "print(\"행렬내적\")\n",
    "print(np.dot(arr.T, arr)) # (3x6)(6x3) => (3x3)\n",
    "\n",
    "print(\"단일행렬내적\")\n",
    "print(arr.dot(arr.T))\n",
    "print(np.dot(arr, arr.T)) # (6x3)(3x6) => (6x6)\n"
   ]
  },
  {
   "cell_type": "code",
   "execution_count": 87,
   "metadata": {},
   "outputs": [
    {
     "name": "stdout",
     "output_type": "stream",
     "text": [
      "벡터내적 219\n",
      "벡터내적 219\n",
      "벡터내적 219\n",
      "[29 67]\n",
      "[29 67]\n",
      "[39 58]\n",
      "[[19 22]\n",
      " [43 50]]\n",
      "[[19 22]\n",
      " [43 50]]\n"
     ]
    },
    {
     "ename": "ValueError",
     "evalue": "shapes (3,) and (2,) not aligned: 3 (dim 0) != 2 (dim 0)",
     "output_type": "error",
     "traceback": [
      "\u001b[1;31m---------------------------------------------------------------------------\u001b[0m",
      "\u001b[1;31mValueError\u001b[0m                                Traceback (most recent call last)",
      "\u001b[1;32m<ipython-input-87-d52c2b219293>\u001b[0m in \u001b[0;36m<module>\u001b[1;34m()\u001b[0m\n\u001b[0;32m     24\u001b[0m \u001b[0ms\u001b[0m \u001b[1;33m=\u001b[0m \u001b[0mnp\u001b[0m\u001b[1;33m.\u001b[0m\u001b[0marray\u001b[0m\u001b[1;33m(\u001b[0m\u001b[1;33m[\u001b[0m\u001b[1;36m1\u001b[0m\u001b[1;33m,\u001b[0m\u001b[1;36m1\u001b[0m\u001b[1;33m,\u001b[0m\u001b[1;36m1\u001b[0m\u001b[1;33m]\u001b[0m\u001b[1;33m)\u001b[0m\u001b[1;33m\u001b[0m\u001b[0m\n\u001b[0;32m     25\u001b[0m \u001b[0mt\u001b[0m \u001b[1;33m=\u001b[0m \u001b[0mnp\u001b[0m\u001b[1;33m.\u001b[0m\u001b[0marray\u001b[0m\u001b[1;33m(\u001b[0m\u001b[1;33m[\u001b[0m\u001b[1;36m0\u001b[0m\u001b[1;33m,\u001b[0m\u001b[1;36m1\u001b[0m\u001b[1;33m]\u001b[0m\u001b[1;33m)\u001b[0m\u001b[1;33m\u001b[0m\u001b[0m\n\u001b[1;32m---> 26\u001b[1;33m \u001b[0mprint\u001b[0m\u001b[1;33m(\u001b[0m\u001b[0mnp\u001b[0m\u001b[1;33m.\u001b[0m\u001b[0mdot\u001b[0m\u001b[1;33m(\u001b[0m\u001b[0ms\u001b[0m\u001b[1;33m,\u001b[0m\u001b[0mt\u001b[0m\u001b[1;33m)\u001b[0m\u001b[1;33m)\u001b[0m\u001b[1;33m\u001b[0m\u001b[0m\n\u001b[0m",
      "\u001b[1;31mValueError\u001b[0m: shapes (3,) and (2,) not aligned: 3 (dim 0) != 2 (dim 0)"
     ]
    }
   ],
   "source": [
    "# 행렬의 역할 - 변환의 의미(Rotate + Scale) 변환을 한다.\n",
    "# 행렬과 행렬, 벡터와 벡터, 벡터와 행렬의 내적에 대하여\n",
    "# 행렬과 행렬 => 변환의 합\n",
    "# 벡터와 벡터 => 사이각\n",
    "# 벡터와 행렬 => 변환된 벡터, 변환의 결과\n",
    "x = np.array([[1,2],[3,4]])\n",
    "y = np.array([[5,6],[7,8]])\n",
    "\n",
    "v = np.array([9,10])\n",
    "w = np.array([11,12]) #\n",
    "\n",
    "print(\"벡터내적\",v.dot(w))\n",
    "print(\"벡터내적\",np.dot(v, w))\n",
    "print(\"벡터내적\",np.dot(w, v)) # 순서를 바꿔도 매우 상관없음\n",
    "\n",
    "print(x.dot(v))\n",
    "print(np.dot(x, v)) # 결과가 변환된 벡터\n",
    "print(np.dot(v, x)) # 순서를 바꾸면 값이 변경됨\n",
    "\n",
    "print(x.dot(y))\n",
    "print(np.dot(x, y))\n",
    "\n",
    "# 내적은 차수가 일치해야 함\n",
    "s = np.array([1,1,1])\n",
    "t = np.array([0,1])\n",
    "print(np.dot(s,t))"
   ]
  },
  {
   "cell_type": "code",
   "execution_count": 91,
   "metadata": {},
   "outputs": [
    {
     "name": "stdout",
     "output_type": "stream",
     "text": [
      "1번 [[22952.0504225  34634.98777487 33583.51248288 ... 44254.62331801\n",
      "  19974.92505267 32214.53768549]\n",
      " [22806.41179861 34414.96493059 33378.0646921  ... 43976.26844557\n",
      "  19844.53246052 32011.08060869]\n",
      " [22623.81176564 34130.54395935 33107.53139056 ... 43622.19344015\n",
      "  19673.75372624 31752.25258338]\n",
      " ...\n",
      " [27563.31713454 41587.16948596 40331.66795862 ... 53134.91454617\n",
      "  23977.0297054  38682.38297539]\n",
      " [23991.13690175 36191.10479892 35103.5736121  ... 46233.08777702\n",
      "  20872.68669044 33663.9056343 ]\n",
      " [24333.56573427 36712.04497594 35600.62100755 ... 46897.90002877\n",
      "  21172.65525971 34146.27812373]]\n",
      "2번 [[22952.0504225  34634.98777487 33583.51248288 ... 44254.62331801\n",
      "  19974.92505267 32214.53768549]\n",
      " [22806.41179861 34414.96493059 33378.0646921  ... 43976.26844557\n",
      "  19844.53246052 32011.08060869]\n",
      " [22623.81176564 34130.54395935 33107.53139056 ... 43622.19344015\n",
      "  19673.75372624 31752.25258338]\n",
      " ...\n",
      " [27563.31713454 41587.16948596 40331.66795862 ... 53134.91454617\n",
      "  23977.0297054  38682.38297539]\n",
      " [23991.13690175 36191.10479892 35103.5736121  ... 46233.08777702\n",
      "  20872.68669044 33663.9056343 ]\n",
      " [24333.56573427 36712.04497594 35600.62100755 ... 46897.90002877\n",
      "  21172.65525971 34146.27812373]]\n",
      "3번 [[22952.0504225  34634.98777487 33583.51248288 ... 44254.62331801\n",
      "  19974.92505267 32214.53768549]\n",
      " [22806.41179861 34414.96493059 33378.0646921  ... 43976.26844557\n",
      "  19844.53246052 32011.08060869]\n",
      " [22623.81176564 34130.54395935 33107.53139056 ... 43622.19344015\n",
      "  19673.75372624 31752.25258338]\n",
      " ...\n",
      " [27563.31713454 41587.16948596 40331.66795862 ... 53134.91454617\n",
      "  23977.0297054  38682.38297539]\n",
      " [23991.13690175 36191.10479892 35103.5736121  ... 46233.08777702\n",
      "  20872.68669044 33663.9056343 ]\n",
      " [24333.56573427 36712.04497594 35600.62100755 ... 46897.90002877\n",
      "  21172.65525971 34146.27812373]]\n"
     ]
    }
   ],
   "source": [
    "# 행렬연산은 사칙연산은 요소별로 수행됨\n",
    "# 행렬곱\n",
    "from numpy.linalg import multi_dot\n",
    "A = np.random.random((10000, 100))\n",
    "B = np.random.random((100, 1000))\n",
    "C = np.random.random((1000, 5))\n",
    "D = np.random.random((5, 333))\n",
    "\n",
    "# 동일한 결과\n",
    "print(\"1번\",multi_dot([A, B, C, D]))\n",
    "print(\"2번\",np.dot(np.dot(np.dot(A, B), C), D))\n",
    "print(\"3번\",A.dot(B).dot(C).dot(D))"
   ]
  },
  {
   "cell_type": "code",
   "execution_count": 96,
   "metadata": {},
   "outputs": [
    {
     "name": "stdout",
     "output_type": "stream",
     "text": [
      "-2.0000000000000004\n",
      "[[ 6  1  1]\n",
      " [ 4 -2  5]\n",
      " [ 2  8  7]]\n",
      "-306.0\n",
      "-306\n"
     ]
    }
   ],
   "source": [
    "# determinent\n",
    "# 결과가 0이면 근이 1개\n",
    "# 결과가 야수면 실근\n",
    "# 결과가 음수면 허근\n",
    "# 1, 2\n",
    "# 3, 4\n",
    "# 4 - 6 \n",
    "import numpy as np\n",
    "a = np.array([[1,2], [3,4]])\n",
    "print (np.linalg.det(a))\n",
    "# 3개씩 짝을 지움 우하방향 + 좌하 방향 - \n",
    "b = np.array([[6,1,1], [4,-2,5], [2,8,7]])\n",
    "print(b)\n",
    "print(np.linalg.det(b))\n",
    "print(6*(-2*7 - 5*8) - 1*(4*7 - 5*2) + 1*(4*8 - -2*2))\n",
    "\n"
   ]
  }
 ],
 "metadata": {
  "kernelspec": {
   "display_name": "Python 3",
   "language": "python",
   "name": "python3"
  },
  "language_info": {
   "codemirror_mode": {
    "name": "ipython",
    "version": 3
   },
   "file_extension": ".py",
   "mimetype": "text/x-python",
   "name": "python",
   "nbconvert_exporter": "python",
   "pygments_lexer": "ipython3",
   "version": "3.6.5"
  }
 },
 "nbformat": 4,
 "nbformat_minor": 2
}
