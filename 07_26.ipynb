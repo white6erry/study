{
 "cells": [
  {
   "cell_type": "code",
   "execution_count": null,
   "metadata": {},
   "outputs": [],
   "source": [
    "import pandas as pd\n",
    "import numpy as np\n",
    "\n",
    "# Panel은 3차원을 다루는 자료구조이다.\n",
    "# item 면, major_axis 행, minor_axis 열\n",
    "data = {\n",
    "    'Item1' : pd.DataFrame(np.random.randn(4, 3)),\n",
    "    'Item2' : pd.DataFrame(np.random.randn(4, 2)),\n",
    "    'Item3' : pd.DataFrame(np.random.randn(4, 1))\n",
    "}\n",
    "\n",
    "p = pd.Panel(data)\n",
    "print(data['Item1'])\n",
    "print()\n",
    "print(type(data), type(p))\n",
    "print()\n",
    "print(p['Item1'])\n",
    "print(p['Item2'])\n",
    "print(p['Item3'])"
   ]
  },
  {
   "cell_type": "code",
   "execution_count": null,
   "metadata": {},
   "outputs": [],
   "source": [
    "print(p.major_xs(0))\n",
    "print()\n",
    "print(p.minor_xs(1))"
   ]
  },
  {
   "cell_type": "code",
   "execution_count": null,
   "metadata": {},
   "outputs": [],
   "source": [
    "p['Item2'][1][1] = None\n",
    "p.iloc[1,1,1] = 0\n",
    "print(p['Item2'])"
   ]
  },
  {
   "cell_type": "code",
   "execution_count": null,
   "metadata": {},
   "outputs": [],
   "source": [
    "frame = pd.DataFrame(np.arange(12).reshape((4,3)), \\\n",
    "                     index = [['a','a','b','b'], [1,2,1,2]],\\\n",
    "                     columns = [['Ohio', 'Ohio','Colorado'],['Green','Red','Green']])\n",
    "print(frame)\n",
    "frame.index.names = ['key1', 'key2']\n",
    "frame.columns.names = ['state', 'color']\n"
   ]
  },
  {
   "cell_type": "code",
   "execution_count": null,
   "metadata": {},
   "outputs": [],
   "source": [
    "print(frame['Ohio'])"
   ]
  },
  {
   "cell_type": "code",
   "execution_count": null,
   "metadata": {},
   "outputs": [],
   "source": [
    "frame.swaplevel(0,1).sort_index(0)"
   ]
  },
  {
   "cell_type": "code",
   "execution_count": null,
   "metadata": {},
   "outputs": [],
   "source": [
    "frame"
   ]
  },
  {
   "cell_type": "code",
   "execution_count": null,
   "metadata": {},
   "outputs": [],
   "source": [
    "frame = pd.DataFrame({'a':range(7), 'b':range(7,0,-1),\n",
    "                     'c':['one', 'one','one','two', 'two','two','two'],\n",
    "                     'd':[0,1,2,0,1,2,3]})\n",
    "print(frame, end = '\\n\\n')\n",
    "frame2 = frame.set_index(['c','d'])\n",
    "print(frame2, end = '\\n\\n')\n",
    "print(frame2.reset_index)\n",
    "frame_reindex = frame.reindex(index=[0,2,5], columns=['a','d'])\n",
    "frame_reindex.describe()"
   ]
  },
  {
   "cell_type": "code",
   "execution_count": null,
   "metadata": {},
   "outputs": [],
   "source": [
    "import pymysql\n",
    "import numpy\n",
    "\n",
    "conn = pymysql.connect(host=\"192.168.0.164\", port=3306, user=\"root\", passwd=\"gksrlgns1\", db=\"acorn\", charset=\"utf8mb4\",\\\n",
    "                       cursorclass=pymysql.cursors.DictCursor)\n",
    "cursor = conn.cursor()\n",
    "a = cursor.execute(\"select * from sungjuk\")\n",
    "rez = cursor.fetchall()\n",
    "df = pd.DataFrame(rez)\n",
    "df.describe()\n",
    "print(df.dtypes)\n"
   ]
  },
  {
   "cell_type": "code",
   "execution_count": null,
   "metadata": {},
   "outputs": [],
   "source": [
    "# 문제 :  국어 영어 수학 점수만 골라내서 과목별 합계와 최대값을 출력\n",
    "df_numeric = df[['eng', 'kor','mat']]\n",
    "df_numeric.apply([sum,max])\n",
    "df.head()"
   ]
  },
  {
   "cell_type": "code",
   "execution_count": null,
   "metadata": {},
   "outputs": [],
   "source": [
    "#성별필드sex를 생성하고 성별필드를 중심으로 한 pivot_table을 생성한 후 그 합계를 출력하시오.\n",
    "df_numeric[\"sex\"] = np.random.randint(0,2,len(df))\n",
    "print(df_numeric)\n",
    "\n",
    "#행렬로 데이터 재구성\n",
    "pd.pivot_table(df_numeric, index=['sex'],\n",
    "              values=['kor','mat','eng'], aggfunc=[np.sum, np.max],\n",
    "              fill_value=0)\n",
    "\n",
    "#축만 변경\n",
    "frame2 = df_numeric.set_index(['sex'])\n",
    "print(frame2.sort_index(0))"
   ]
  },
  {
   "cell_type": "code",
   "execution_count": null,
   "metadata": {},
   "outputs": [],
   "source": [
    "from bs4 import BeautifulSoup\n",
    "import urllib3\n",
    "\n",
    "http = urllib3.PoolManager()\n",
    "movieListUrl = \"http://www.kobis.or.kr/kobisopenapi/webservice/rest/movie/searchMovieList.json?key=430156241533f1d058c603178cc3ca0e&openStartDt=2016&itemPerPage=20\"\n",
    "response = http.request('GET', movieListUrl)\n",
    "movieIdData = BeautifulSoup(response.data, \"html.parser\")\n",
    "\n",
    "print(type(movieIdData))"
   ]
  },
  {
   "cell_type": "code",
   "execution_count": null,
   "metadata": {},
   "outputs": [],
   "source": [
    "import json\n",
    "print(movieIdData)\n",
    "#movieIdData = json.loads(str(movieIdData))\n",
    "movieIdData[\"movieListResult\"]\n",
    "print(movieIdData[\"movieListResult\"]['totCnt'])\n",
    "print(len(movieIdData[\"movieListResult\"][\"movieList\"]))"
   ]
  },
  {
   "cell_type": "code",
   "execution_count": null,
   "metadata": {},
   "outputs": [],
   "source": [
    "movieIDDF = pd.DataFrame()\n",
    "movieIDDF = movieIDDF.append({\"movieCd\":\"\",\"movieNm\":\"\",\"movieNmEn\":\"\",\"openDt\":\"\", \"directorpeopleNm\":\"\"}, ignore_index=True)\n",
    "num = len(movieIdData[\"movieListResult\"][\"movieList\"])\n",
    "for i in range(0, num):\n",
    "    movieIDDF.loc[i,\"movieCd\"] = movieIdData[\"movieListResult\"][\"movieList\"][i][\"movieCd\"]\n",
    "    movieIDDF.loc[i,\"movieNm\"] = movieIdData[\"movieListResult\"][\"movieList\"][i][\"movieNm\"]\n",
    "    movieIDDF.loc[i,\"movieNmEn\"] = movieIdData[\"movieListResult\"][\"movieList\"][i][\"movieNmEn\"]\n",
    "    movieIDDF.loc[i,\"openDt\"] = movieIdData[\"movieListResult\"][\"movieList\"][i][\"openDt\"]\n",
    "    movieIDDF.loc[i,\"directorpeopleNm\"] = movieIdData[\"movieListResult\"][\"movieList\"][i][\"directors\"][0][\"peopleNm\"]\n",
    "    \n",
    "movieIDDF\n",
    "movieIDDF[\"year\"] = movieIDDF[\"openDt\"].apply(lambda x: str(x)[:4])\n",
    "movieIDDF[\"month\"] = movieIDDF[\"openDt\"].apply(lambda x: str(x)[4:6])\n",
    "movieIDDF[\"day\"] = movieIDDF[\"openDt\"].apply(lambda x: str(x)[6:])\n",
    "\n",
    "print(movieIDDF)"
   ]
  },
  {
   "cell_type": "code",
   "execution_count": 2,
   "metadata": {},
   "outputs": [
    {
     "name": "stdout",
     "output_type": "stream",
     "text": [
      "     A   B   C         D         E\n",
      "0   일반  서울  건조  1.639603  1.067398\n",
      "1   일반  대구  건조  0.899543  0.881165\n",
      "2   특수  부산  건조  2.227933  0.145587\n",
      "3   예외  서울  우기 -1.381313  0.211283\n",
      "4   일반  대구  우기 -0.491523 -0.523276\n",
      "5   일반  부산  우기  0.766509 -0.193277\n",
      "6   특수  서울  건조 -2.864838  0.966086\n",
      "7   예외  대구  건조 -0.454206 -0.927400\n",
      "8   일반  부산  건조 -0.089863  1.692646\n",
      "9   일반  서울  우기  0.068289  1.387298\n",
      "10  특수  대구  우기 -0.786248 -0.591151\n",
      "11  예외  부산  우기 -0.044740  1.315647\n",
      "12  일반  서울  건조 -0.601893 -0.759090\n",
      "13  일반  대구  건조  0.654757 -0.379187\n",
      "14  특수  부산  건조 -0.126376  0.826837\n",
      "15  예외  서울  우기 -0.290514 -0.284734\n",
      "16  일반  대구  우기 -1.747048  0.267520\n",
      "17  일반  부산  우기  0.373452  0.545379\n",
      "18  특수  서울  건조  0.332056 -0.918944\n",
      "19  예외  대구  건조 -0.501612 -1.542263\n",
      "20  일반  부산  건조  1.399615  0.466865\n",
      "21  일반  서울  우기  0.787323  0.466677\n",
      "22  특수  대구  우기  0.765386 -0.974680\n",
      "23  예외  부산  우기 -0.743804  0.301567\n"
     ]
    },
    {
     "data": {
      "text/html": [
       "<div>\n",
       "<style scoped>\n",
       "    .dataframe tbody tr th:only-of-type {\n",
       "        vertical-align: middle;\n",
       "    }\n",
       "\n",
       "    .dataframe tbody tr th {\n",
       "        vertical-align: top;\n",
       "    }\n",
       "\n",
       "    .dataframe thead th {\n",
       "        text-align: right;\n",
       "    }\n",
       "</style>\n",
       "<table border=\"1\" class=\"dataframe\">\n",
       "  <thead>\n",
       "    <tr style=\"text-align: right;\">\n",
       "      <th>B</th>\n",
       "      <th>대구</th>\n",
       "      <th>부산</th>\n",
       "      <th>서울</th>\n",
       "    </tr>\n",
       "    <tr>\n",
       "      <th>A</th>\n",
       "      <th></th>\n",
       "      <th></th>\n",
       "      <th></th>\n",
       "    </tr>\n",
       "  </thead>\n",
       "  <tbody>\n",
       "    <tr>\n",
       "      <th>예외</th>\n",
       "      <td>2</td>\n",
       "      <td>2</td>\n",
       "      <td>2</td>\n",
       "    </tr>\n",
       "    <tr>\n",
       "      <th>일반</th>\n",
       "      <td>4</td>\n",
       "      <td>4</td>\n",
       "      <td>4</td>\n",
       "    </tr>\n",
       "    <tr>\n",
       "      <th>특수</th>\n",
       "      <td>2</td>\n",
       "      <td>2</td>\n",
       "      <td>2</td>\n",
       "    </tr>\n",
       "  </tbody>\n",
       "</table>\n",
       "</div>"
      ],
      "text/plain": [
       "B   대구  부산  서울\n",
       "A             \n",
       "예외   2   2   2\n",
       "일반   4   4   4\n",
       "특수   2   2   2"
      ]
     },
     "execution_count": 2,
     "metadata": {},
     "output_type": "execute_result"
    }
   ],
   "source": [
    "import pandas as pd\n",
    "import numpy as np\n",
    "df = pd.DataFrame({\"A\":['일반', '일반', '특수', '예외'] * 6,\n",
    "                  \"B\":['서울','대구','부산']*8,\n",
    "                  \"C\":['건조','건조','건조','우기','우기','우기']*4,\n",
    "                  \"D\":np.random.randn(24),\n",
    "                  \"E\":np.random.randn(24)})\n",
    "print(df)\n",
    "pd.crosstab(df.A, df.B)"
   ]
  },
  {
   "cell_type": "code",
   "execution_count": 3,
   "metadata": {
    "collapsed": true
   },
   "outputs": [
    {
     "name": "stdout",
     "output_type": "stream",
     "text": [
      "price    326.0    327.0    334.0    335.0    336.0    337.0    338.0    \\\n",
      "clarity                                                                  \n",
      "I1             0        0        0        0        0        0        0   \n",
      "IF             0        0        0        0        0        0        0   \n",
      "SI1            1        0        0        0        0        1        0   \n",
      "SI2            1        0        0        1        0        0        0   \n",
      "VS1            0        1        0        0        0        0        1   \n",
      "VS2            0        0        1        0        0        1        0   \n",
      "VVS1           0        0        0        0        1        0        0   \n",
      "VVS2           0        0        0        0        1        0        0   \n",
      "\n",
      "price    339.0    340.0    342.0     ...     18787.0  18788.0  18791.0  \\\n",
      "clarity                              ...                                 \n",
      "I1             0        0        0   ...           0        0        0   \n",
      "IF             0        0        0   ...           0        0        0   \n",
      "SI1            1        0        1   ...           1        0        0   \n",
      "SI2            0        0        0   ...           0        1        1   \n",
      "VS1            0        1        0   ...           0        0        0   \n",
      "VS2            0        0        0   ...           0        0        1   \n",
      "VVS1           0        0        0   ...           0        0        0   \n",
      "VVS2           0        0        0   ...           0        0        0   \n",
      "\n",
      "price    18795.0  18797.0  18803.0  18804.0  18806.0  18818.0  18823.0  \n",
      "clarity                                                                 \n",
      "I1             0        0        0        0        0        0        0  \n",
      "IF             0        0        0        0        1        0        0  \n",
      "SI1            1        1        1        0        0        1        0  \n",
      "SI2            0        0        0        1        0        0        0  \n",
      "VS1            1        0        0        0        0        0        0  \n",
      "VS2            0        0        0        0        0        0        1  \n",
      "VVS1           0        0        0        0        0        0        0  \n",
      "VVS2           0        0        0        0        0        0        0  \n",
      "\n",
      "[8 rows x 9660 columns]\n"
     ]
    }
   ],
   "source": [
    "# clarity와 price간의 crosstab을 생성하시오\n",
    "# bar plot\n",
    "# price와 clarity boxplot\n",
    "# cut과 clarity 데이터로 군집화하고 그 size를 확인하시오\n",
    "# clarity와 color간의 crosstab을 생성 barplot\n",
    "\n",
    "import matplotlib.pyplot as plt\n",
    "\n",
    "df = pd.read_csv(\"diamond.csv\")\n",
    "df = pd.DataFrame(df)\n",
    "ct = pd.crosstab(df.clarity, df.price)\n",
    "print(ct)"
   ]
  },
  {
   "cell_type": "code",
   "execution_count": 10,
   "metadata": {},
   "outputs": [
    {
     "data": {
      "image/png": "[encoded data removed]",
      "text/plain": [
       "<Figure size 432x288 with 1 Axes>"
      ]
     },
     "metadata": {},
     "output_type": "display_data"
    }
   ],
   "source": [
    "plt.boxplot(ct)\n",
    "plt.show()"
   ]
  },
  {
   "cell_type": "code",
   "execution_count": null,
   "metadata": {},
   "outputs": [],
   "source": []
  },
  {
   "cell_type": "code",
   "execution_count": 38,
   "metadata": {},
   "outputs": [
    {
     "name": "stdout",
     "output_type": "stream",
     "text": [
      "Customer Number     int32\n",
      "Customer Name      object\n",
      "2016               object\n",
      "2017               object\n",
      "Percent Growth     object\n",
      "Jan Units          object\n",
      "Month               int64\n",
      "Day                 int64\n",
      "Year                int64\n",
      "Active             object\n",
      "dtype: object\n"
     ]
    }
   ],
   "source": [
    "# sales 데이터를 로딩하고 처리하시오\n",
    "# 1) Customer Number를 int형으로 처리\n",
    "# 2) df['Jan Units']를 int형으로 처리\n",
    "# 3) '2016'데이터를 float형으로 처리\n",
    "\n",
    "df = pd.read_csv('sales.csv', dtype={\n",
    "    'Customer Number' : 'int'.\n",
    "    converters = {'2016':covert_currency,\n",
    "                 '2017':convert_currency.\n",
    "                 'Percent Growth':convert_percent,\n",
    "                 ...\n",
    "                 'Active':lambda x:np.where(x=='Y', True, False)}\n",
    "})\n",
    "df = pd.DataFrame(df)\n",
    "df['Customer Number'] = df['Customer Number'].astype('int')\n",
    "\n",
    "print(df.dtypes)\n",
    "\n",
    "def convert_currency(val):\n",
    "    new_val = val.replace(',','').replace(\"$\", '')\n",
    "    return float(new_val)\n",
    "def convert_percent(val):\n",
    "    new_val = val.replace('%','')\n",
    "    return float(new_val)/100"
   ]
  },
  {
   "cell_type": "code",
   "execution_count": 36,
   "metadata": {},
   "outputs": [
    {
     "data": {
      "text/html": [
       "<div>\n",
       "<style scoped>\n",
       "    .dataframe tbody tr th:only-of-type {\n",
       "        vertical-align: middle;\n",
       "    }\n",
       "\n",
       "    .dataframe tbody tr th {\n",
       "        vertical-align: top;\n",
       "    }\n",
       "\n",
       "    .dataframe thead th {\n",
       "        text-align: right;\n",
       "    }\n",
       "</style>\n",
       "<table border=\"1\" class=\"dataframe\">\n",
       "  <thead>\n",
       "    <tr style=\"text-align: right;\">\n",
       "      <th></th>\n",
       "      <th>Customer Number</th>\n",
       "      <th>Customer Name</th>\n",
       "      <th>2016</th>\n",
       "      <th>2017</th>\n",
       "      <th>Percent Growth</th>\n",
       "      <th>Jan Units</th>\n",
       "      <th>Month</th>\n",
       "      <th>Day</th>\n",
       "      <th>Year</th>\n",
       "      <th>Active</th>\n",
       "    </tr>\n",
       "  </thead>\n",
       "  <tbody>\n",
       "    <tr>\n",
       "      <th>0</th>\n",
       "      <td>10002</td>\n",
       "      <td>Quest Industries</td>\n",
       "      <td>$125,000.00</td>\n",
       "      <td>$162500.00</td>\n",
       "      <td>30.00%</td>\n",
       "      <td>500</td>\n",
       "      <td>1</td>\n",
       "      <td>10</td>\n",
       "      <td>2015</td>\n",
       "      <td>Y</td>\n",
       "    </tr>\n",
       "    <tr>\n",
       "      <th>1</th>\n",
       "      <td>552278</td>\n",
       "      <td>Smith Plumbing</td>\n",
       "      <td>$920,000.00</td>\n",
       "      <td>$101,2000.00</td>\n",
       "      <td>10.00%</td>\n",
       "      <td>700</td>\n",
       "      <td>6</td>\n",
       "      <td>15</td>\n",
       "      <td>2014</td>\n",
       "      <td>Y</td>\n",
       "    </tr>\n",
       "    <tr>\n",
       "      <th>2</th>\n",
       "      <td>23477</td>\n",
       "      <td>ACME Industrial</td>\n",
       "      <td>$50,000.00</td>\n",
       "      <td>$62500.00</td>\n",
       "      <td>25.00%</td>\n",
       "      <td>125</td>\n",
       "      <td>3</td>\n",
       "      <td>29</td>\n",
       "      <td>2016</td>\n",
       "      <td>Y</td>\n",
       "    </tr>\n",
       "    <tr>\n",
       "      <th>3</th>\n",
       "      <td>24900</td>\n",
       "      <td>Brekke LTD</td>\n",
       "      <td>$350,000.00</td>\n",
       "      <td>$490000.00</td>\n",
       "      <td>4.00%</td>\n",
       "      <td>75</td>\n",
       "      <td>10</td>\n",
       "      <td>27</td>\n",
       "      <td>2015</td>\n",
       "      <td>Y</td>\n",
       "    </tr>\n",
       "    <tr>\n",
       "      <th>4</th>\n",
       "      <td>651029</td>\n",
       "      <td>Harbor Co</td>\n",
       "      <td>$15,000.00</td>\n",
       "      <td>$12750.00</td>\n",
       "      <td>-15.00%</td>\n",
       "      <td>Closed</td>\n",
       "      <td>2</td>\n",
       "      <td>2</td>\n",
       "      <td>2014</td>\n",
       "      <td>N</td>\n",
       "    </tr>\n",
       "  </tbody>\n",
       "</table>\n",
       "</div>"
      ],
      "text/plain": [
       "   Customer Number     Customer Name         2016          2017  \\\n",
       "0            10002  Quest Industries  $125,000.00    $162500.00   \n",
       "1           552278    Smith Plumbing  $920,000.00  $101,2000.00   \n",
       "2            23477   ACME Industrial   $50,000.00     $62500.00   \n",
       "3            24900        Brekke LTD  $350,000.00    $490000.00   \n",
       "4           651029         Harbor Co   $15,000.00     $12750.00   \n",
       "\n",
       "  Percent Growth Jan Units  Month  Day  Year Active  \n",
       "0         30.00%       500      1   10  2015      Y  \n",
       "1         10.00%       700      6   15  2014      Y  \n",
       "2         25.00%       125      3   29  2016      Y  \n",
       "3          4.00%        75     10   27  2015      Y  \n",
       "4        -15.00%    Closed      2    2  2014      N  "
      ]
     },
     "execution_count": 36,
     "metadata": {},
     "output_type": "execute_result"
    }
   ],
   "source": [
    "df"
   ]
  },
  {
   "cell_type": "code",
   "execution_count": null,
   "metadata": {},
   "outputs": [],
   "source": [
    "# fire_station 데이터를 로딩하고 다음 문제를 해결하시오 - 숙제\n",
    "# 종합문제)\n",
    "# 문제1 ) 불평의 종류(중복되지 않는) 와 불평의 종류별 개수를 출력하시오\n",
    "# 문제2 ) 불평의 상위 10개를 출력하시오\n",
    "# 문제3 ) 불평의 상위 10개를 bar형태로 출력하시오\n",
    "# 문제4 ) 거주지별 불평의 갯수를 확인하시오\n",
    "# 문제5 ) 불평의 종류별로 카운트 하시오\n",
    "# 문제6 ) 불평의 종류별로 카운트한 내용을 kde로 출력하시오\n",
    "# 문제7 ) 소음 불평이 많은 지역을 확인하시오\n",
    "# 문제8 ) 거주지별로 불평의 개수를 카운트 하시오\n",
    "# 문제9 ) 소음불평이 전체 불평에서 차지하는 비율을 출력하시오 "
   ]
  },
  {
   "cell_type": "code",
   "execution_count": 50,
   "metadata": {
    "scrolled": true
   },
   "outputs": [
    {
     "name": "stdout",
     "output_type": "stream",
     "text": [
      "   Unique Key            Created Date             Closed Date Agency  \\\n",
      "0    26589651  10/31/2013 02:08:41 AM                     NaN   NYPD   \n",
      "1    26593698  10/31/2013 02:01:04 AM                     NaN   NYPD   \n",
      "2    26594139  10/31/2013 02:00:24 AM  10/31/2013 02:40:32 AM   NYPD   \n",
      "3    26595721  10/31/2013 01:56:23 AM  10/31/2013 02:21:48 AM   NYPD   \n",
      "4    26590930  10/31/2013 01:53:44 AM                     NaN  DOHMH   \n",
      "5    26592370  10/31/2013 01:46:52 AM                     NaN   NYPD   \n",
      "6    26595682  10/31/2013 01:46:40 AM                     NaN   NYPD   \n",
      "7    26595195  10/31/2013 01:44:19 AM  10/31/2013 01:58:49 AM   NYPD   \n",
      "8    26590540  10/31/2013 01:44:14 AM  10/31/2013 02:28:04 AM   NYPD   \n",
      "9    26594392  10/31/2013 01:34:41 AM  10/31/2013 02:23:51 AM   NYPD   \n",
      "\n",
      "                               Agency Name           Complaint Type  \\\n",
      "0          New York City Police Department  Noise - Street/Sidewalk   \n",
      "1          New York City Police Department          Illegal Parking   \n",
      "2          New York City Police Department       Noise - Commercial   \n",
      "3          New York City Police Department          Noise - Vehicle   \n",
      "4  Department of Health and Mental Hygiene                   Rodent   \n",
      "5          New York City Police Department       Noise - Commercial   \n",
      "6          New York City Police Department         Blocked Driveway   \n",
      "7          New York City Police Department       Noise - Commercial   \n",
      "8          New York City Police Department       Noise - Commercial   \n",
      "9          New York City Police Department       Noise - Commercial   \n",
      "\n",
      "                     Descriptor        Location Type Incident Zip  \\\n",
      "0                  Loud Talking      Street/Sidewalk        11432   \n",
      "1  Commercial Overnight Parking      Street/Sidewalk        11378   \n",
      "2              Loud Music/Party  Club/Bar/Restaurant        10032   \n",
      "3                Car/Truck Horn      Street/Sidewalk        10023   \n",
      "4  Condition Attracting Rodents           Vacant Lot        10027   \n",
      "5              Banging/Pounding  Club/Bar/Restaurant        11372   \n",
      "6                     No Access      Street/Sidewalk        11419   \n",
      "7              Loud Music/Party  Club/Bar/Restaurant        11417   \n",
      "8                  Loud Talking  Club/Bar/Restaurant        10011   \n",
      "9              Loud Music/Party  Club/Bar/Restaurant        11225   \n",
      "\n",
      "            Incident Address                    ...                     \\\n",
      "0           90-03 169 STREET                    ...                      \n",
      "1                  58 AVENUE                    ...                      \n",
      "2              4060 BROADWAY                    ...                      \n",
      "3             WEST 72 STREET                    ...                      \n",
      "4            WEST 124 STREET                    ...                      \n",
      "5                  37 AVENUE                    ...                      \n",
      "6          107-50 109 STREET                    ...                      \n",
      "7  137-09 CROSSBAY BOULEVARD                    ...                      \n",
      "8         258 WEST 15 STREET                    ...                      \n",
      "9        835 NOSTRAND AVENUE                    ...                      \n",
      "\n",
      "  Bridge Highway Name Bridge Highway Direction Road Ramp  \\\n",
      "0                 NaN                      NaN       NaN   \n",
      "1                 NaN                      NaN       NaN   \n",
      "2                 NaN                      NaN       NaN   \n",
      "3                 NaN                      NaN       NaN   \n",
      "4                 NaN                      NaN       NaN   \n",
      "5                 NaN                      NaN       NaN   \n",
      "6                 NaN                      NaN       NaN   \n",
      "7                 NaN                      NaN       NaN   \n",
      "8                 NaN                      NaN       NaN   \n",
      "9                 NaN                      NaN       NaN   \n",
      "\n",
      "  Bridge Highway Segment Garage Lot Name Ferry Direction Ferry Terminal Name  \\\n",
      "0                    NaN             NaN             NaN                 NaN   \n",
      "1                    NaN             NaN             NaN                 NaN   \n",
      "2                    NaN             NaN             NaN                 NaN   \n",
      "3                    NaN             NaN             NaN                 NaN   \n",
      "4                    NaN             NaN             NaN                 NaN   \n",
      "5                    NaN             NaN             NaN                 NaN   \n",
      "6                    NaN             NaN             NaN                 NaN   \n",
      "7                    NaN             NaN             NaN                 NaN   \n",
      "8                    NaN             NaN             NaN                 NaN   \n",
      "9                    NaN             NaN             NaN                 NaN   \n",
      "\n",
      "    Latitude  Longitude                                  Location  \n",
      "0  40.708275 -73.791604   (40.70827532593202, -73.79160395779721)  \n",
      "1  40.721041 -73.909453  (40.721040535628305, -73.90945306791765)  \n",
      "2  40.843330 -73.939144   (40.84332975466513, -73.93914371913482)  \n",
      "3  40.778009 -73.980213    (40.7780087446372, -73.98021349023975)  \n",
      "4  40.807691 -73.947387   (40.80769092704951, -73.94738703491433)  \n",
      "5  40.749989 -73.881988    (40.7499893014072, -73.88198770727831)  \n",
      "6  40.681533 -73.831737   (40.68153278675525, -73.83173699701601)  \n",
      "7  40.671816 -73.843092   (40.67181584567338, -73.84309181950769)  \n",
      "8  40.739913 -74.000790   (40.73991339303542, -74.00079028612932)  \n",
      "9  40.668204 -73.950648   (40.66820406598287, -73.95064760056546)  \n",
      "\n",
      "[10 rows x 52 columns]\n"
     ]
    }
   ],
   "source": [
    "# 문제 2\n",
    "print(fire.head(10))"
   ]
  },
  {
   "cell_type": "code",
   "execution_count": 51,
   "metadata": {
    "scrolled": false
   },
   "outputs": [
    {
     "name": "stdout",
     "output_type": "stream",
     "text": [
      "Index(['Unique Key', 'Created Date', 'Closed Date', 'Agency', 'Agency Name',\n",
      "       'Complaint Type', 'Descriptor', 'Location Type', 'Incident Zip',\n",
      "       'Incident Address', 'Street Name', 'Cross Street 1', 'Cross Street 2',\n",
      "       'Intersection Street 1', 'Intersection Street 2', 'Address Type',\n",
      "       'City', 'Landmark', 'Facility Type', 'Status', 'Due Date',\n",
      "       'Resolution Action Updated Date', 'Community Board', 'Borough',\n",
      "       'X Coordinate (State Plane)', 'Y Coordinate (State Plane)',\n",
      "       'Park Facility Name', 'Park Borough', 'School Name', 'School Number',\n",
      "       'School Region', 'School Code', 'School Phone Number', 'School Address',\n",
      "       'School City', 'School State', 'School Zip', 'School Not Found',\n",
      "       'School or Citywide Complaint', 'Vehicle Type', 'Taxi Company Borough',\n",
      "       'Taxi Pick Up Location', 'Bridge Highway Name',\n",
      "       'Bridge Highway Direction', 'Road Ramp', 'Bridge Highway Segment',\n",
      "       'Garage Lot Name', 'Ferry Direction', 'Ferry Terminal Name', 'Latitude',\n",
      "       'Longitude', 'Location'],\n",
      "      dtype='object')\n"
     ]
    }
   ],
   "source": [
    "print(fire.columns)"
   ]
  },
  {
   "cell_type": "code",
   "execution_count": null,
   "metadata": {},
   "outputs": [],
   "source": []
  },
  {
   "cell_type": "code",
   "execution_count": null,
   "metadata": {},
   "outputs": [],
   "source": []
  },
  {
   "cell_type": "code",
   "execution_count": null,
   "metadata": {},
   "outputs": [],
   "source": []
  },
  {
   "cell_type": "code",
   "execution_count": null,
   "metadata": {},
   "outputs": [],
   "source": []
  }
 ],
 "metadata": {
  "kernelspec": {
   "display_name": "Python 3",
   "language": "python",
   "name": "python3"
  },
  "language_info": {
   "codemirror_mode": {
    "name": "ipython",
    "version": 3
   },
   "file_extension": ".py",
   "mimetype": "text/x-python",
   "name": "python",
   "nbconvert_exporter": "python",
   "pygments_lexer": "ipython3",
   "version": "3.6.5"
  }
 },
 "nbformat": 4,
 "nbformat_minor": 2
}
