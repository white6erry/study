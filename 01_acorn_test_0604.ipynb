{
 "cells": [
  {
   "cell_type": "markdown",
   "metadata": {},
   "source": [
    "#파이썬에서는 반드시 초기화를 실행한 다음에 변수를 사용한다\n",
    "#주석이 여러 줄이면 따옴표 \"\"\" 내용 \"\"\" 으로 입력한다"
   ]
  },
  {
   "cell_type": "code",
   "execution_count": 9,
   "metadata": {},
   "outputs": [
    {
     "name": "stdout",
     "output_type": "stream",
     "text": [
      "10\n"
     ]
    }
   ],
   "source": [
    "a = 10\n",
    "print(a)"
   ]
  },
  {
   "cell_type": "code",
   "execution_count": 10,
   "metadata": {},
   "outputs": [
    {
     "name": "stdout",
     "output_type": "stream",
     "text": [
      "수식을 입력하시오10\n",
      "10\n",
      "10\n",
      "10\n"
     ]
    }
   ],
   "source": [
    "#입력 : 문자열로 입력 출력\n",
    "problem = input(\"수식을 입력하시오\")\n",
    "print(problem)\n",
    "print(int(problem))   #casting\n",
    "print(eval(problem))  #문자열 계산식을 처리"
   ]
  },
  {
   "cell_type": "code",
   "execution_count": 11,
   "metadata": {},
   "outputs": [
    {
     "name": "stdout",
     "output_type": "stream",
     "text": [
      "33\n"
     ]
    }
   ],
   "source": [
    "x = 5\n",
    "print(eval(\"23+(2*x)\"))"
   ]
  },
  {
   "cell_type": "code",
   "execution_count": 13,
   "metadata": {},
   "outputs": [
    {
     "name": "stdout",
     "output_type": "stream",
     "text": [
      "123\n",
      "1.2\n",
      "0.00425\n",
      "127\n",
      "143\n",
      "<class 'int'>\n",
      "<class 'float'>\n",
      "<class 'float'>\n",
      "<class 'int'>\n",
      "<class 'int'>\n"
     ]
    }
   ],
   "source": [
    "#파이썬은 전체가 class다 : 객체지향 프로그램이기 때문에\n",
    "a1 = 123      #정수형\n",
    "a2 = 1.2      #실수형\n",
    "a3 = 4.25e-3  #지수형\n",
    "a4 = 0o177  #octal\n",
    "a5 = 0x8f   #hexa\n",
    "\n",
    "print(a1)\n",
    "print(a2)\n",
    "print(a3)\n",
    "print(a4)\n",
    "print(a5)\n",
    "\n",
    "print(type(a1)) #class int\n",
    "print(type(a2)) #float 부동소수점\n",
    "print(type(a3)) \n",
    "print(type(a4))\n",
    "print(type(a5))"
   ]
  },
  {
   "cell_type": "code",
   "execution_count": 14,
   "metadata": {},
   "outputs": [
    {
     "name": "stdout",
     "output_type": "stream",
     "text": [
      "My name is 김종호 and I am from AI,10.\n",
      "My name is AI and I am from 김종호 ans I like cats\n"
     ]
    }
   ],
   "source": [
    "# format 문자열 출력 - C, C#방식을 모두 지원\n",
    "print('My name is %s and I am from %s,%i.' %('김종호','AI',10))\n",
    "#순서와 키를 이용한 출력\n",
    "print('My name is {1} and I am from {0} ans I like {thing}'.format('김종호','AI',thing = 'cats'))\n",
    "\n",
    "#컴퓨터에서 숫자의 시작은 0이다.\n"
   ]
  },
  {
   "cell_type": "code",
   "execution_count": 15,
   "metadata": {},
   "outputs": [
    {
     "name": "stdout",
     "output_type": "stream",
     "text": [
      "7 -1 12 0.75\n",
      "-1\n",
      "12\n",
      "0.75\n",
      "3\n",
      "1\n",
      "0\n",
      "1\n",
      "0\n",
      "1.75\n",
      "1\n"
     ]
    }
   ],
   "source": [
    "#연산자\n",
    "a = 3\n",
    "b = 4\n",
    "\n",
    "print(a+b,a-b,a*b,a/b)\n",
    "print(a-b)\n",
    "print(a*b)\n",
    "print(a/b)  #진짜 나눠주는 연산자\n",
    "print(a%b)  #나눗셈의 나머지를 반환하는 연산자\n",
    "print(1%2)\n",
    "print(2%2)\n",
    "print(3%2)\n",
    "print(4%2)\n",
    "print(7/4)\n",
    "print(7//4)  #몫 연산자(=나눗셈의 결과의 소숫점 아래를 버리는 연산자)\n"
   ]
  },
  {
   "cell_type": "code",
   "execution_count": 17,
   "metadata": {},
   "outputs": [
    {
     "name": "stdout",
     "output_type": "stream",
     "text": [
      "01234567890123456\n",
      "a\tb\tc\n",
      "a         b         c\n",
      "Nudge,     nudge, \n",
      "wink,      wink.\n"
     ]
    }
   ],
   "source": [
    "# excape sequence # tab과 newline\n",
    "print(\"01234567890123456\")\n",
    "print(\"a\\tb\\tc\")   #\\t는 tab의 간격으로 띄어 쓰기\n",
    "print(\"a\\tb\\tc\".expandtabs(10))  #expandtabs는 간격 조정용 여기선 10칸씩\n",
    "print(\"Nudge, \\tnudge, \\nwink, \\twink.\".expandtabs(11))  #간격 조정으로 11칸씩 했고 한 줄의 범위를 넘어가면 다음줄에 쓰여진다"
   ]
  },
  {
   "cell_type": "code",
   "execution_count": 21,
   "metadata": {},
   "outputs": [
    {
     "name": "stdout",
     "output_type": "stream",
     "text": [
      "BankPlayerHR\n",
      "Rank->Player->HR\n",
      "Rank\tPlayer\tHR\n",
      "Rank Player               HR\n",
      "  1  Barry Bonds         762\n"
     ]
    }
   ],
   "source": [
    "print(\"Bank\", \"Player\",\"HR\", sep = \"\")\n",
    "print(\"Rank\", \"Player\", \"HR\", sep=  \"->\")\n",
    "print(\"Rank\", \"Player\", \"HR\", sep=  \"\\t\")\n",
    "print(\"Rank\".ljust(5), \"Player\".ljust(20),\"HR\".rjust(3), sep = \"\")  #l은 L의 소문자\n",
    "print('1'.center(5),\"Barry Bonds\".ljust(20),\"762\".rjust(3),sep=\"\")  "
   ]
  },
  {
   "cell_type": "code",
   "execution_count": 24,
   "metadata": {},
   "outputs": [
    {
     "name": "stdout",
     "output_type": "stream",
     "text": [
      "이름을 입력하시오: 에리카\n",
      "국어점수를 입력하시오!80\n",
      "수학점수를 입력하시오!80\n",
      "영어점수르 입력하시오!90\n",
      "    이름            국어        영어        수학        합계        평균\n",
      "   에리카            80        90        80       250     83.33\n"
     ]
    }
   ],
   "source": [
    "#프로그램은 순서적으로 진행, 처리를 위해 데이터 변환이 필요, 함수의 사용\n",
    "\n",
    "\n",
    "#성적 계산\n",
    "name = input(\"이름을 입력하시오: \")\n",
    "kor = input(\"국어점수를 입력하시오!\")\n",
    "mat = input('수학점수를 입력하시오!')\n",
    "eng = input('영어점수르 입력하시오!')\n",
    "\n",
    "tot = int(kor) + int(mat) +int(eng)\n",
    "avr = round(tot/3,2)\n",
    "print(\"이름\".center(10), \"국어\".rjust(10), \"영어\".rjust(10),\"수학\".rjust(10), \"합계\".rjust(10), \"평균\".rjust(10), sep=\"\")\n",
    "print(name.center(10), kor.rjust(10), eng.rjust(10),mat.rjust(10), str(tot).rjust(10), str(avr).rjust(10), sep='')\n",
    " "
   ]
  },
  {
   "cell_type": "code",
   "execution_count": null,
   "metadata": {},
   "outputs": [],
   "source": []
  },
  {
   "cell_type": "code",
   "execution_count": null,
   "metadata": {},
   "outputs": [],
   "source": []
  },
  {
   "cell_type": "code",
   "execution_count": null,
   "metadata": {},
   "outputs": [],
   "source": []
  },
  {
   "cell_type": "code",
   "execution_count": null,
   "metadata": {},
   "outputs": [],
   "source": []
  }
 ],
 "metadata": {
  "kernelspec": {
   "display_name": "Python 3",
   "language": "python",
   "name": "python3"
  },
  "language_info": {
   "codemirror_mode": {
    "name": "ipython",
    "version": 3
   },
   "file_extension": ".py",
   "mimetype": "text/x-python",
   "name": "python",
   "nbconvert_exporter": "python",
   "pygments_lexer": "ipython3",
   "version": "3.6.5"
  }
 },
 "nbformat": 4,
 "nbformat_minor": 2
}
