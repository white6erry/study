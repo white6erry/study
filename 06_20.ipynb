{
 "cells": [
  {
   "cell_type": "code",
   "execution_count": null,
   "metadata": {},
   "outputs": [],
   "source": [
    "s = 'uniTed states'\n",
    "s.title()"
   ]
  },
  {
   "cell_type": "code",
   "execution_count": null,
   "metadata": {},
   "outputs": [],
   "source": [
    "s.find('e')"
   ]
  },
  {
   "cell_type": "code",
   "execution_count": null,
   "metadata": {},
   "outputs": [],
   "source": [
    "s.rfind('e')"
   ]
  },
  {
   "cell_type": "code",
   "execution_count": null,
   "metadata": {},
   "outputs": [],
   "source": [
    "s.zfill(20)"
   ]
  },
  {
   "cell_type": "code",
   "execution_count": null,
   "metadata": {},
   "outputs": [],
   "source": [
    "s.center(20)"
   ]
  },
  {
   "cell_type": "code",
   "execution_count": null,
   "metadata": {},
   "outputs": [],
   "source": [
    "s.ljust(20)"
   ]
  },
  {
   "cell_type": "code",
   "execution_count": null,
   "metadata": {},
   "outputs": [],
   "source": [
    "s.rjust(20)"
   ]
  },
  {
   "cell_type": "code",
   "execution_count": null,
   "metadata": {},
   "outputs": [],
   "source": [
    "'대한민국'.encode() "
   ]
  },
  {
   "cell_type": "code",
   "execution_count": null,
   "metadata": {},
   "outputs": [],
   "source": [
    "'대한민국'.encode().decode()"
   ]
  },
  {
   "cell_type": "code",
   "execution_count": null,
   "metadata": {},
   "outputs": [],
   "source": [
    "'{}년 {}월 {}의 GDP 성장률은 {}퍼센트 포인트 입니다.'.format(2016,7,'한국',0.5)"
   ]
  },
  {
   "cell_type": "code",
   "execution_count": null,
   "metadata": {},
   "outputs": [],
   "source": [
    "'{year}년 {mon}월 {coun}의 GDP 성장률은 {point}퍼센트 포인트 입니다.'.format(year=2016, mon=7, coun='한국',point=0.5)"
   ]
  },
  {
   "cell_type": "code",
   "execution_count": null,
   "metadata": {},
   "outputs": [],
   "source": [
    "s='korea'\n",
    "print(s+s)\n",
    "print(s*3)\n",
    "print(s[4])\n",
    "print(s[-5])"
   ]
  },
  {
   "cell_type": "code",
   "execution_count": null,
   "metadata": {},
   "outputs": [],
   "source": [
    "s[0:2]"
   ]
  },
  {
   "cell_type": "code",
   "execution_count": null,
   "metadata": {},
   "outputs": [],
   "source": [
    "s.split('r')"
   ]
  },
  {
   "cell_type": "code",
   "execution_count": null,
   "metadata": {},
   "outputs": [],
   "source": [
    "','.join(['seoul', 'incheon', 'suwon'])"
   ]
  },
  {
   "cell_type": "code",
   "execution_count": null,
   "metadata": {},
   "outputs": [],
   "source": [
    "t = 'seoul, incheon, suwon'.split(',')\n",
    "','.join(t)"
   ]
  },
  {
   "cell_type": "code",
   "execution_count": null,
   "metadata": {},
   "outputs": [],
   "source": [
    "s.capitalize()"
   ]
  },
  {
   "cell_type": "code",
   "execution_count": null,
   "metadata": {},
   "outputs": [],
   "source": [
    "s.count('r')"
   ]
  },
  {
   "cell_type": "code",
   "execution_count": null,
   "metadata": {},
   "outputs": [],
   "source": [
    "s.isalpha()"
   ]
  },
  {
   "cell_type": "code",
   "execution_count": null,
   "metadata": {},
   "outputs": [],
   "source": [
    "s.isdigit()"
   ]
  },
  {
   "cell_type": "code",
   "execution_count": null,
   "metadata": {},
   "outputs": [],
   "source": [
    "'0123'.isdigit()\n",
    "# 문자열에 숫자가 들어가있으면 참값 반환"
   ]
  },
  {
   "cell_type": "code",
   "execution_count": null,
   "metadata": {},
   "outputs": [],
   "source": [
    "s.startswith('k')"
   ]
  },
  {
   "cell_type": "code",
   "execution_count": null,
   "metadata": {},
   "outputs": [],
   "source": [
    "s.endswith('a')"
   ]
  },
  {
   "cell_type": "code",
   "execution_count": null,
   "metadata": {},
   "outputs": [],
   "source": [
    "s2 = ' ' + s + ' '\n",
    "print(len(s2))\n",
    "s2.strip()\n",
    "print(len(s2.strip()))\n",
    "print(s2.strip())"
   ]
  },
  {
   "cell_type": "code",
   "execution_count": null,
   "metadata": {},
   "outputs": [],
   "source": [
    "import re\n",
    "# 아래 예제보다 빠르다\n",
    "text = 'Learning Python 01: 2016-07-14'\n",
    "p = re.compile('\\d')\n",
    "s = p.search(text)\n",
    "s"
   ]
  },
  {
   "cell_type": "code",
   "execution_count": null,
   "metadata": {},
   "outputs": [],
   "source": [
    "s = re.search('\\d', text)"
   ]
  },
  {
   "cell_type": "code",
   "execution_count": null,
   "metadata": {},
   "outputs": [],
   "source": [
    "if s is not None:\n",
    "    print(s.group(0))"
   ]
  },
  {
   "cell_type": "code",
   "execution_count": null,
   "metadata": {},
   "outputs": [],
   "source": [
    "%timeit -n 100 re.search('\\d', text)"
   ]
  },
  {
   "cell_type": "code",
   "execution_count": null,
   "metadata": {},
   "outputs": [],
   "source": [
    "%timeit -n 100 p.search(text)"
   ]
  },
  {
   "cell_type": "code",
   "execution_count": null,
   "metadata": {},
   "outputs": [],
   "source": [
    "m = re.match('.*\\d', text)\n",
    "m"
   ]
  },
  {
   "cell_type": "code",
   "execution_count": null,
   "metadata": {},
   "outputs": [],
   "source": [
    "print(m.group())"
   ]
  },
  {
   "cell_type": "code",
   "execution_count": null,
   "metadata": {},
   "outputs": [],
   "source": [
    "m = re.match('(.*?)(\\d+)', text)\n",
    "if m is not None:\n",
    "    print([m.group(0), m.group(1), m.group(2)])"
   ]
  },
  {
   "cell_type": "code",
   "execution_count": null,
   "metadata": {},
   "outputs": [],
   "source": [
    "re.findall('\\d', text)"
   ]
  },
  {
   "cell_type": "code",
   "execution_count": null,
   "metadata": {},
   "outputs": [],
   "source": [
    "re.findall(r'dog', 'dog cat dog')"
   ]
  },
  {
   "cell_type": "code",
   "execution_count": null,
   "metadata": {
    "scrolled": true
   },
   "outputs": [],
   "source": [
    "match = re.search(r'dog', 'dog cat dog')\n",
    "match"
   ]
  },
  {
   "cell_type": "code",
   "execution_count": null,
   "metadata": {},
   "outputs": [],
   "source": [
    "line = \"Cat are smarter than dogs\"\n",
    "matchObj = re.match(r'(.*) are (.*?) .*', line, re.M|re.I)\n",
    "if matchObj:\n",
    "    print(matchObj.group(0))\n",
    "    print(matchObj.group(1))\n",
    "    print(matchObj.group(2))\n",
    "    \n",
    "    print(matchObj.groups())\n",
    "else:\n",
    "    print(\"no\")"
   ]
  },
  {
   "cell_type": "code",
   "execution_count": null,
   "metadata": {
    "scrolled": false
   },
   "outputs": [],
   "source": [
    "from bs4 import BeautifulSoup\n",
    "import requests\n",
    "\n",
    "url = 'http://www.naver.com'\n",
    "r = requests.get(url)\n",
    "\n",
    "soup = BeautifulSoup(r.text, \"html.parser\")\n",
    "mr = soup.find(\"a\")\n",
    "print(mr.get_text())\n",
    "print(mr.string)"
   ]
  },
  {
   "cell_type": "code",
   "execution_count": null,
   "metadata": {},
   "outputs": [],
   "source": [
    "mr = soup.find(class_ = \"ac_btn_prev PM_CL_btnThemePrev\")\n",
    "print(mr.get_text())"
   ]
  },
  {
   "cell_type": "code",
   "execution_count": null,
   "metadata": {},
   "outputs": [],
   "source": [
    "mr = soup.find_all(\"a\")\n",
    "print(mr[3])"
   ]
  },
  {
   "cell_type": "code",
   "execution_count": null,
   "metadata": {},
   "outputs": [],
   "source": [
    "for contents in mr:\n",
    "    print(contents.get_text)"
   ]
  },
  {
   "cell_type": "code",
   "execution_count": null,
   "metadata": {},
   "outputs": [],
   "source": [
    "tables = soup.find_all(\"ul\")\n",
    "for lis in tables:\n",
    "    li = lis.find(\"li\")\n",
    "    print(li)"
   ]
  },
  {
   "cell_type": "code",
   "execution_count": null,
   "metadata": {},
   "outputs": [],
   "source": [
    "from bs4 import BeautifulSoup\n",
    "import re\n",
    "html = '''\n",
    "<!DOCTYPE html>\n",
    "<html>\n",
    "<head><title>story</title></head>\n",
    "<body>\n",
    "<p class = \"title\"><b>story</b></p>\n",
    "<p class = \"story\">\n",
    "once upon a time there were three sisters; and their name were\n",
    "<a href=\"http://example.com/elsie\" class=\"sister\" id =\"link1\">Elsie</a>\n",
    "<a href=\"http://example.com/lacie\" class=\"sister\" id =\"link2\">Lacie</a>\n",
    "<a href=\"http://example.com/tillie\" class=\"sister brother\" id =\"link3\">Tillie</a>\n",
    "and they lived at the bottom of a well.\n",
    "</p>\n",
    "</body>\n",
    "</html>\n",
    "'''\n",
    "\n",
    "\n",
    "soup = BeautifulSoup(html, 'html.parser')\n",
    "ele = soup.find('a', {'href':re.compile('.*/lacie')})\n",
    "ele = soup.find(href = re.compile('.*/lacie'))\n",
    "ele = soup.find('a', {'href':lambda val:val and 'lacie' in val})\n",
    "ele = soup.find(href = lambda val:val and 'lacie' in val)\n",
    "\n",
    "print(soup.head)\n",
    "print(soup.title)\n",
    "print(soup.body.b)"
   ]
  },
  {
   "cell_type": "code",
   "execution_count": null,
   "metadata": {},
   "outputs": [],
   "source": [
    "markup = \"<b>주소: </b>\"\n",
    "soup = BeautifulSoup(markup, 'html.parser')\n",
    "comment = soup.b.string\n",
    "type(comment)\n",
    "print(soup.b.prettify())"
   ]
  },
  {
   "cell_type": "code",
   "execution_count": null,
   "metadata": {},
   "outputs": [],
   "source": [
    "from bs4 import CData\n",
    "cdata = CData(\"A CDATA block\")\n",
    "comment.replace_with(cdata)\n",
    "print(soup.b.prettify())"
   ]
  },
  {
   "cell_type": "code",
   "execution_count": null,
   "metadata": {},
   "outputs": [],
   "source": [
    "def naverCrawlNews(date = time.strftime('%Y%m%d', time.localtime(time.time())), page_number=2)"
   ]
  },
  {
   "cell_type": "code",
   "execution_count": 16,
   "metadata": {},
   "outputs": [
    {
     "name": "stdout",
     "output_type": "stream",
     "text": [
      "<table border=\"0\" cellpadding=\"0\" cellspacing=\"0\" class=\"tbl_weather tbl_today3\" summary=\"오늘 내일 주간예보 테이블\">\n",
      "<caption class=\"blind\">인천 오늘/내일 반일예보</caption>\n",
      "<caption>오늘 내일 주간예보</caption>\n",
      "<colgroup>\n",
      "<col style=\"width:50%\"/>\n",
      "<col style=\"width:50%\"/>\n",
      "</colgroup>\n",
      "<thead>\n",
      "<tr>\n",
      "<th scope=\"col\">오늘 <span>6.20.</span></th>\n",
      "<th class=\"line\" scope=\"col\">내일 <span>6.21.</span></th>\n",
      "</tr>\n",
      "</thead>\n",
      "<tbody>\n",
      "<tr>\n",
      "<td>\n",
      "<div class=\"cell\">\n",
      "<p class=\"icon\"><img alt=\"구름조금\" height=\"46\" src=\"https://ssl.pstatic.net/static/weather/images/w_icon/w_l2.gif\" width=\"64\"/></p>\n",
      "<ul class=\"text\">\n",
      "<li class=\"nm\"><b>오전</b> <span class=\"temp\">18.0</span><em class=\"dgr\">℃</em></li>\n",
      "<li class=\"info\">구름조금<br/>강수확률 <span class=\"rain\"><strong>10%</strong></span></li>\n",
      "</ul>\n",
      "</div>\n",
      "<span class=\"cell_line\"></span>\n",
      "<div class=\"cell\">\n",
      "<p class=\"icon\"><img alt=\"구름조금\" height=\"46\" src=\"https://ssl.pstatic.net/static/weather/images/w_icon/w_l2.gif\" width=\"64\"/></p>\n",
      "<ul class=\"text\">\n",
      "<li class=\"nm\"><b>오후</b> <span class=\"temp\">24.0</span><em class=\"dgr\">℃</em></li>\n",
      "<li class=\"info\">구름조금<br/>강수확률 <span class=\"rain\"><strong>10%</strong></span></li>\n",
      "</ul>\n",
      "</div>\n",
      "<span class=\"cell_line line2\"></span>\n",
      "</td>\n",
      "<td>\n",
      "<div class=\"cell\">\n",
      "<p class=\"icon\"><img alt=\"맑음\" height=\"46\" src=\"https://ssl.pstatic.net/static/weather/images/w_icon/w_l1.gif\" width=\"64\"/></p>\n",
      "<ul class=\"text\">\n",
      "<li class=\"nm\"><b>오전</b> <span class=\"temp\">18.0</span><em class=\"dgr\">℃</em></li>\n",
      "<li class=\"info\">맑음<br/>강수확률 <span class=\"rain\"><strong>0%</strong></span></li>\n",
      "</ul>\n",
      "</div>\n",
      "<span class=\"cell_line\"></span>\n",
      "<div class=\"cell\">\n",
      "<p class=\"icon\"><img alt=\"맑음\" height=\"46\" src=\"https://ssl.pstatic.net/static/weather/images/w_icon/w_l1.gif\" width=\"64\"/></p>\n",
      "<ul class=\"text\">\n",
      "<li class=\"nm\"><b>오후</b> <span class=\"temp\">25.0</span><em class=\"dgr\">℃</em></li>\n",
      "<li class=\"info\">맑음<br/>강수확률 <span class=\"rain\"><strong>0%</strong></span></li>\n",
      "</ul>\n",
      "</div>\n",
      "<span class=\"cell_line line2\"></span>\n",
      "</td>\n",
      "</tr>\n",
      "</tbody>\n",
      "</table>\n",
      "[인천 날씨 검색 결과]\n",
      "- 오늘(6.20.)\n",
      "\t오전 - 18.0℃(구름조금, 강수확률 10%)\n",
      "\t오후 - 24.0℃(구름조금, 강수확률 10%)\n",
      "- 내일(6.21.)\n",
      "\t오전 - 18.0℃(맑음, 강수확률 0%)\n",
      "\t오후 - 25.0℃(맑음, 강수확률 0%)\n",
      "\n"
     ]
    }
   ],
   "source": [
    "import requests\n",
    "from bs4 import BeautifulSoup\n",
    "import re\n",
    "\n",
    "class naverWeather():\n",
    "    session = requests.Session() \n",
    "    addr = \"http://weather.naver.com/rgn/cityWetrCity.nhn?cityRgnCd=CT\"\n",
    "    map_cityNum = {     # 지역 번호 매핑\n",
    "            '가평':\"001001\", '강화':\"001002\", '고양':\"001003\", '과천':'001004','광명':\"001005\" , \n",
    "            '광주':\"001006\", '구리':\"001007\", '군포':\"001008\", '김포':\"001009\", '남양주':\"001010\",\n",
    "            '동두천':\"001011\", '문산':\"001035\", '부천':\"001012\", '서울':\"001013\", '성남':'001014',\n",
    "            '수원':\"001015\", '시흥':\"001016\", '신갈':\"001034\", '안산':\"001017\", '안성':'001018',\n",
    "            '안양':\"001019\", '양주':\"001020\", '양평':\"001021\", '여주':\"001036\", '연천':\"001022\", \n",
    "            '오산':\"001023\", '용인':\"001024\", '의왕':\"001025\", '의정부':\"001026\", '이천':\"001027\", \n",
    "            '인천':\"001028\", '파주':\"001029\", '평택':\"001030\", '포천':\"001031\", '하남':\"001032\", '화성':\"001033\",\n",
    "\n",
    "            '백령도':\"002001\", '소청도':\"002002\", '연평도':\"002003\",\n",
    "\n",
    "            '양구':\"003001\", '영월':\"003002\", '원주':\"003003\", '인제':\"003004\", '정선':\"003005\", \n",
    "            '철원':\"003006\", '춘천':\"003007\", '평창':\"003008\", '홍천':\"003009\", '화천':\"003010\", \n",
    "            '횡계':\"003012\", '횡성':\"003011\",\n",
    "            \n",
    "            '강릉':\"004001\", '강원':\"004002\", '산간':\"004003\", '고성':\"004004\", '대관령':\"004005\", \n",
    "            '동해':\"004006\", '삼척':\"004007\", '새말':\"004011\", '속초':\"004007\", '양양':\"004008\", \n",
    "            '태백':\"004009\",\n",
    "\n",
    "            '괴산':\"005001\", '남이':\"005013\", '단양':\"005002\", '보은':\"005003\", '영동':\"005004\", \n",
    "            '옥천':\"005005\", '음성':\"005006\", '제천':\"005007\", '증평':\"005008\", '진천':\"005009\", \n",
    "            '청원':\"005014\", '청주':\"005010\", '추풍령':\"005011\", '충주':\"005012\",\n",
    "\n",
    "            '계룡':\"006016\", '공주':\"006001\", '금산':\"006002\", '논산':\"006003\", '당진':\"006004\", \n",
    "            '대전':\"006005\", '보령':\"006006\", '부여':\"006007\", '서산':\"006008\", '서천':\"006009\", \n",
    "            '세종':\"006017\", '아산':\"006010\", '예산':\"006011\", '천안':\"006012\", '청양':\"006013\", \n",
    "            '태안':\"006014\", '홍성':\"006015\",\n",
    "\n",
    "            '경산':\"007001\", '경주':\"007002\", '고령':\"007003\", '구미':\"007004\", '군위':\"007005\", \n",
    "            '김천':\"007006\", '대구':\"007007\", '문경':\"007008\", '봉화':\"007009\", '상주':\"007010\", \n",
    "            '성주':\"007011\", '안동':\"007012\", '영덕':\"007013\", '영양':\"007014\", '영주':\"007015\", \n",
    "            '영천':\"007016\", '예천':\"007017\", '울진':\"007018\", '의성':\"007019\", '청도':\"007020\", \n",
    "            '청송':\"007021\", '칠곡':\"007022\", '포항':\"007023\",\n",
    "\n",
    "            '거제':\"008001\", '거창':\"008002\", '고성':\"008003\", '김해':\"008004\", '남해':\"008005\", \n",
    "            '밀양':\"008007\", '부산':\"008008\", '사천':\"008009\", '산청':\"008010\", '서상':\"008024\", \n",
    "            '양산':\"008011\", '울산':\"008012\", '의령':\"008013\", '진주':\"008014\", '창녕':\"008016\", \n",
    "            '창원':\"008017\", '통영':\"008018\", '하동':\"008019\", '하동(내륙)':\"008020\", '함안':\"008021\", \n",
    "            '함양':\"008022\", '합천':\"008023\",\n",
    "\n",
    "            '독도':\"009001\", '울릉도':\"009002\",\n",
    "\n",
    "            '고창':\"010001\", '군산':\"010002\", '김제':\"010003\", '남원':\"010004\", '무주':\"010005\", \n",
    "            '부안':\"010006\", '순창':\"010007\", '완주':\"010014\", '익산':\"010008\", '임실':\"010009\", \n",
    "            '장수':\"010010\", '전주':\"010011\", '정읍':\"010012\", '진안':\"010013\",\n",
    "\n",
    "            '강진':\"011001\", '고흥':\"011002\", '곡성':\"011003\", '광양':\"011004\", '광주':\"011005\", \n",
    "            '구례':\"011006\", '나주':\"011007\", '담양':\"011008\", '목포':\"011009\", '무안':\"011010\", \n",
    "            '보성':\"011011\", '순천':\"011012\", '신안':\"011013\", '여수':\"011014\", '영광':\"011015\", \n",
    "            '영암':\"011016\", '완도':\"011017\", '장성':\"011018\", '장흥':\"011019\", '진도':\"011020\", \n",
    "            '함평':\"011021\", '해남':\"011022\", '화순':\"011024\", '흑산도':\"011023\",\n",
    "\n",
    "            '고산':\"012001\", '서귀포':\"012002\", '성산포':\"012003\", '윗세오름':\"012004\", \n",
    "            '제주':\"012005\"\n",
    "            }\n",
    "\n",
    "    def __init__(self, area=\"인천\"):\n",
    "        self.area = area\n",
    "        self.addr = None\n",
    "        self.result = None\n",
    "        \n",
    "        cityNum = naverWeather.map_cityNum[area]\n",
    "        if not cityNum:\n",
    "            print(\"도시명 잘못\")\n",
    "            # 잘못된 도시명을 입력한 경우\n",
    "            return\n",
    "        self.addr = naverWeather.addr + cityNum\n",
    "        \n",
    "        self.search()\n",
    "\n",
    "    def search(self):\n",
    "        naverWeather.session.encoding = 'utf-8'\n",
    "\n",
    "        req = naverWeather.session.get(self.addr)\n",
    "        soup = BeautifulSoup(req.text, \"html.parser\")\n",
    "        table = soup.find(class_=\"tbl_weather tbl_today3\")\n",
    "        print(table)\n",
    "        t_ary = list(table.stripped_strings)\n",
    "\n",
    "        self.result = (\n",
    "                \"[\"+ self.area + \" 날씨 검색 결과]\\n\"\n",
    "                + \"- 오늘(\" + t_ary[3] + \")\\n\"\n",
    "                + \"\\t오전 - \" + t_ary[7] + \"℃(\" +  t_ary[9] + \", 강수확률 \" + t_ary[11] + \")\\n\"\n",
    "                + \"\\t오후 - \" + t_ary[13] + \"℃(\" +  t_ary[15] + \", 강수확률 \" + t_ary[17] + \")\\n\"\n",
    "                + \"- 내일(\" + t_ary[5] + \")\\n\"\n",
    "                + \"\\t오전 - \" + t_ary[19] + \"℃(\" +  t_ary[21] + \", 강수확률 \" + t_ary[23] + \")\\n\"\n",
    "                + \"\\t오후 - \" + t_ary[25] + \"℃(\" +  t_ary[27] + \", 강수확률 \" + t_ary[29] + \")\\n\"\n",
    "                )\n",
    "\n",
    "    def getWeather(self):\n",
    "        if not self.result:\n",
    "            # 도시명을 잘못 입력한 경우 결과가 나오지 않는다.\n",
    "            return \"잘못된 도시명입니다\"\n",
    "        return self.result\n",
    "    \n",
    "l = naverWeather.map_cityNum.keys()\n",
    "print(naverWeather().getWeather())\n",
    "#for s in l :\n",
    "   # print(naverWeather(s).getWeather())"
   ]
  },
  {
   "cell_type": "code",
   "execution_count": 14,
   "metadata": {},
   "outputs": [
    {
     "name": "stdout",
     "output_type": "stream",
     "text": [
      "1 페이지 크롤링...\n",
      "2 페이지 크롤링...\n",
      "3 페이지 크롤링...\n",
      "4 페이지 크롤링...\n",
      "5 페이지 크롤링...\n",
      "6 페이지 크롤링...\n",
      "7 페이지 크롤링...\n",
      "8 페이지 크롤링...\n",
      "9 페이지 크롤링...\n",
      "10 페이지 크롤링...\n",
      "저장완료\n"
     ]
    }
   ],
   "source": [
    "import time\n",
    "import urllib\n",
    "\n",
    "def naverCrawlNews(date=time.strftime('%Y%m%d', time.localtime(time.time())), page_number = 10):\n",
    "    with open(\"naver뉴스.txt\",'w', encoding='utf8') as f:\n",
    "        f.write(date + \"일자 속보\\n\\n\")\n",
    "        \n",
    "    pre_url = \"http://news.naver.com/main/list.nhn?mode=LSD&mid=sec&sid1=001&date=\" + str(date)\n",
    "    req = urllib.request\n",
    "    for page_no in range(1, page_number+1):\n",
    "        pre_url2 = pre_url + str(page_no)\n",
    "\n",
    "        try:\n",
    "            url = req.urlopen(pre_url2)\n",
    "        except:\n",
    "            print(\"urlopen error\")\n",
    "            return None\n",
    "        \n",
    "        soup = BeautifulSoup(url, 'lxml')\n",
    "        [x.decompose() for x in soup('phto')]\n",
    "        newslist = soup.find_all('a')\n",
    "        print(\"%d 페이지 크롤링...\" % page_no)\n",
    "    \n",
    "    for i in newslist:\n",
    "        if(i.text != None):\n",
    "            with open(\"naver뉴스.txt\", 'a', encoding='utf8') as f:\n",
    "                f.write(i.text.lstrip() + '\\n' + i['href']+ \"\\n\\n\")\n",
    "    print(\"저장완료\")\n",
    "    \n",
    "naverCrawlNews()  "
   ]
  }
 ],
 "metadata": {
  "kernelspec": {
   "display_name": "Python 3",
   "language": "python",
   "name": "python3"
  },
  "language_info": {
   "codemirror_mode": {
    "name": "ipython",
    "version": 3
   },
   "file_extension": ".py",
   "mimetype": "text/x-python",
   "name": "python",
   "nbconvert_exporter": "python",
   "pygments_lexer": "ipython3",
   "version": "3.6.5"
  }
 },
 "nbformat": 4,
 "nbformat_minor": 2
}
