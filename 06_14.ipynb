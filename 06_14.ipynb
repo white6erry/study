{
 "cells": [
  {
   "cell_type": "code",
   "execution_count": null,
   "metadata": {},
   "outputs": [],
   "source": [
    "# Database\n",
    "# DB - 중복의 배제(정규화)와 공유\n",
    "# 파일 처리 - 동시 접근처리 불가능\n",
    "\n",
    "# 비정형 데이터 - nosql\n",
    "# 정형 데이터 - mysql, mssql, oracle...\n",
    "\n",
    "# 실시간 접근성, 계속적인 변화, 동시공유, 내용에 의한 참조\n",
    "# DDL DML DCL\n",
    "# 정규화 \n",
    "\n",
    "# 순서 코드\n",
    "# "
   ]
  },
  {
   "cell_type": "code",
   "execution_count": null,
   "metadata": {},
   "outputs": [],
   "source": []
  },
  {
   "cell_type": "code",
   "execution_count": null,
   "metadata": {},
   "outputs": [],
   "source": []
  },
  {
   "cell_type": "code",
   "execution_count": null,
   "metadata": {},
   "outputs": [],
   "source": []
  },
  {
   "cell_type": "code",
   "execution_count": null,
   "metadata": {},
   "outputs": [],
   "source": []
  }
 ],
 "metadata": {
  "kernelspec": {
   "display_name": "Python 3",
   "language": "python",
   "name": "python3"
  },
  "language_info": {
   "codemirror_mode": {
    "name": "ipython",
    "version": 3
   },
   "file_extension": ".py",
   "mimetype": "text/x-python",
   "name": "python",
   "nbconvert_exporter": "python",
   "pygments_lexer": "ipython3",
   "version": "3.6.5"
  }
 },
 "nbformat": 4,
 "nbformat_minor": 2
}
