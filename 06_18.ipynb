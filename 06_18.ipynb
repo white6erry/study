{
 "cells": [
  {
   "cell_type": "code",
   "execution_count": 2,
   "metadata": {},
   "outputs": [],
   "source": [
    "# 2byte 문자열: utf8, 1byte 문자열: 아스키(256자)\n",
    "# DML:insert, update, delete 반드시 commit까지 실행\n",
    "# commit\n",
    "\n",
    "import pymysql\n",
    "\n",
    "conn = pymysql.connect(host='192.168.0.164', port=3306, user = 'root', password='gksrlgns', use_unicode = True, db = \"acorn\", charset='utf8', autocommit=True )"
   ]
  },
  {
   "cell_type": "code",
   "execution_count": null,
   "metadata": {},
   "outputs": [],
   "source": [
    "cursor = conn.cursor()"
   ]
  },
  {
   "cell_type": "code",
   "execution_count": null,
   "metadata": {},
   "outputs": [],
   "source": [
    "cursor.execute(\"\"\"\n",
    "    Create table persons(\n",
    "    id INT NOT NULL,\n",
    "    name VARCHAR(100),\n",
    "    salesrep VARCHAR(100),\n",
    "    PRIMARY KEY(id)\n",
    ")\n",
    "\"\"\")"
   ]
  },
  {
   "cell_type": "code",
   "execution_count": null,
   "metadata": {},
   "outputs": [],
   "source": [
    "# \"INSERT INTO persons VALUES(1,'기정은','조과장')\"\n",
    "# 한번에 여러번 insert할때 executemany 사용\n",
    "\n",
    "cursor.executemany(\n",
    "    \"INSERT INTO persons VALUES (%s, %s, %s)\",\n",
    "    [(1, '기정은', '조과장'),\n",
    "    (2, '트러프', '이과장'),\n",
    "    (3, '무재인', '무과장')])\n",
    "\n",
    "conn.commit()"
   ]
  },
  {
   "cell_type": "code",
   "execution_count": null,
   "metadata": {},
   "outputs": [],
   "source": [
    "cursor.execute('SELECT * FROM persons WHERE salesrep=%s', '조과장')\n",
    "row = cursor.fetchone() # record set으로 데이터 수신\n",
    "print(\"ID=%d, Name=%s\" % (row[0], row[1]))"
   ]
  },
  {
   "cell_type": "code",
   "execution_count": null,
   "metadata": {},
   "outputs": [],
   "source": [
    "# 문제\n",
    "cursor.execute(\"\"\"\n",
    "    Create table pet(\n",
    "        id INT NOT NULL,\n",
    "        name VARCHAR(20) NOT NULL,\n",
    "        owner VARCHAR(20),\n",
    "        species VARCHAR(20),\n",
    "        sex CHAR(1),\n",
    "        birth DATE DEFAULT NULL,\n",
    "        death DATE DEFAULT NULL,\n",
    "        PRIMARY KEY(id)\n",
    ")\n",
    "\"\"\")"
   ]
  },
  {
   "cell_type": "code",
   "execution_count": null,
   "metadata": {
    "scrolled": false
   },
   "outputs": [],
   "source": [
    "query = (\"INSERT INTO pet VALUES (%s, %s, %s, %s, %s)\"%(\"인천시\", '민주', 'cat', 'f', '2001-02-04'))\n",
    "cursor.execute(query.encode('utf8'))"
   ]
  },
  {
   "cell_type": "code",
   "execution_count": null,
   "metadata": {},
   "outputs": [],
   "source": [
    "cursor.executemany(\n",
    "    \"INSERT INTO pet VALUES (%s, %s, %s, %s, %s, %s, %s)\",\n",
    "    [(1, \"인천시\", '민주', 'cat', 'f', '2001-02-04', None),\n",
    "    (2, '대구시', '자유', 'cat', 'f', '2010-03-17', None),\n",
    "    (3, '대전시', '민주', 'dog', 'f', '2010-05-13', None),\n",
    "    (4, '광주시', '민주', 'dog', 'm', '2015-08-27', None),\n",
    "    (5, '부산시', '자유', 'dog', 'm', '2017-08-31', '2018-04-29')\n",
    "    ])\n",
    "\n",
    "conn.commit()"
   ]
  },
  {
   "cell_type": "code",
   "execution_count": null,
   "metadata": {
    "scrolled": true
   },
   "outputs": [],
   "source": [
    "# 이름이 대전시인 데이터를 출력\n",
    "print(\"1.\")\n",
    "cursor.execute('SELECT * FROM pet WHERE name=%s', '대전시')\n",
    "print(cursor.fetchone())\n",
    "\n",
    "# birth가 2015.1.1일 이후인 데이터를 출력\n",
    "print(\"2.\")\n",
    "cursor.execute('SELECT * FROM pet WHERE birth >= %s', '2015-01-01')\n",
    "temp = cursor.fetchall()\n",
    "for i in range(len(temp)):\n",
    "    print(temp[i])\n",
    "\n",
    "# dog이면서 f인 데이터 출력\n",
    "print(\"3.\")\n",
    "cursor.execute('SELECT * FROM pet WHERE species=%s and sex=%s', ('dog','f'))\n",
    "temp = cursor.fetchall()\n",
    "for i in range(len(temp)):\n",
    "    print(temp[i])\n",
    "\n",
    "# pet의 이름과 birth만 birth순으로 정렬하여 출력\n",
    "print(\"4.\")\n",
    "cursor.execute('SELECT name, birth FROM pet ORDER BY birth ASC')\n",
    "temp = cursor.fetchall()\n",
    "for i in range(len(temp)):\n",
    "    print(temp[i])\n",
    "\n",
    "# death가 NULL인 데이터만 출력\n",
    "print(\"5.\")\n",
    "cursor.execute('SELECT * FROM pet WHERE date is NULL')\n",
    "temp = cursor.fetchall()\n",
    "for i in range(len(temp)):\n",
    "    print(temp[i])"
   ]
  },
  {
   "cell_type": "code",
   "execution_count": null,
   "metadata": {},
   "outputs": [],
   "source": [
    "cursor.execute('SELECT * FROM pet WHERE name=%s', '대전시')\n",
    "row = cursor.fetchall()\n",
    "pet_select = list(row)\n",
    "for pet in pet_select:\n",
    "    print(\"ID=%d, Name=%s, 주인=%s\" % (pet[0], pet[1], pet[2]))"
   ]
  },
  {
   "cell_type": "code",
   "execution_count": null,
   "metadata": {},
   "outputs": [],
   "source": [
    "cursor.execute(\"SELECT * FROM pet WHERE birth > '2015-01-01'\")\n",
    "row = cursor.fetchall()\n",
    "pet_select = list(row)\n",
    "for pet in pet_select:\n",
    "    print(\"ID=%d, Name=%s, 주인=%s\" % (pet[0], pet[1], pet[2]))"
   ]
  },
  {
   "cell_type": "code",
   "execution_count": null,
   "metadata": {},
   "outputs": [],
   "source": [
    "cursor.execute(\"SELECT * FROM pet WHERE species = 'cat' and sex = 'f'\")\n",
    "row = cursor.fetchall()\n",
    "pet_select = list(row)\n",
    "for pet in pet_select:\n",
    "    print(\"ID= %d, Name= %s, 주인= %s\" % (pet[0], pet[1], pet[2]))"
   ]
  },
  {
   "cell_type": "code",
   "execution_count": null,
   "metadata": {},
   "outputs": [],
   "source": [
    "cursor.execute(\"SELECT name, birth FROM pet ORDER BY birth\")\n",
    "row = cursor.fetchall()\n",
    "pet_select = list(row)\n",
    "for pet in pet_select:\n",
    "    print(\"Name=%s, birth=%s\" % (pet[0], pet[1]))"
   ]
  },
  {
   "cell_type": "code",
   "execution_count": null,
   "metadata": {},
   "outputs": [],
   "source": [
    "cursor.execute(\"SELECT name, birth FROM pet WHERE death IS NULL\")\n",
    "row = cursor.fetchall()\n",
    "pet_select = list(row)\n",
    "for pet in pet_select:\n",
    "    print(\"Name=%s, birth=%s\" % (pet[0], pet[1]))"
   ]
  },
  {
   "cell_type": "code",
   "execution_count": null,
   "metadata": {},
   "outputs": [],
   "source": [
    "with pymysql.connect(host='192.168.0.164', port=3306, user = 'root', password='gksrlgns', use_unicode = True, db = \"acorn\", charset='utf8', autocommit=True ) as conn:\n",
    "    with conn.cursor(as_dict = True) as cursor:\n",
    "        cursor.callproc('all_pet')\n",
    "        for row in cursor:\n",
    "            print(\"ID=%s, name=%s\" % (row[0], row[1]))"
   ]
  },
  {
   "cell_type": "code",
   "execution_count": null,
   "metadata": {},
   "outputs": [],
   "source": [
    "cursor.callproc('all_pet')\n",
    "for row in cursor:\n",
    "    print(\"ID=%s, name=%s\" % (row[0], row[1]))"
   ]
  },
  {
   "cell_type": "code",
   "execution_count": null,
   "metadata": {},
   "outputs": [],
   "source": [
    "cursor.callproc('pet_find_name', ('대전시', ))\n",
    "for row in cursor:\n",
    "    print(\"ID =%s, name=%s\" %(row[0],row[1]))"
   ]
  },
  {
   "cell_type": "code",
   "execution_count": null,
   "metadata": {},
   "outputs": [],
   "source": [
    "cursor.callproc('pet_name_sex', ('대전시','f'))\n",
    "\n",
    "for row in cursor:\n",
    "    print(\"ID =%s, name=%s\" %(row[0],row[1]))"
   ]
  },
  {
   "cell_type": "code",
   "execution_count": 11,
   "metadata": {},
   "outputs": [],
   "source": [
    "# 문제 : 성적 프로그램\n",
    "# 성적 class + element + menu\n",
    "# => sungjuk + maria + management + menu"
   ]
  },
  {
   "cell_type": "code",
   "execution_count": 63,
   "metadata": {},
   "outputs": [
    {
     "name": "stdout",
     "output_type": "stream",
     "text": [
      "Table Check OK!\n",
      "1.출력 2.입력 3.업뎃 4.삭제 5.종료 =>1\n",
      "데이터가 없습니다. .\n",
      "1.출력 2.입력 3.업뎃 4.삭제 5.종료 =>5\n"
     ]
    }
   ],
   "source": [
    "class Student:\n",
    "    def __init__(self, name=\"\", kor=0, eng=0, mat=0, number=0):\n",
    "        self.name = name\n",
    "        self.num = number\n",
    "        self.kor = kor\n",
    "        self.eng = eng\n",
    "        self.mat = mat\n",
    "        self.tot = self.kor + self.eng + self.mat\n",
    "        self.avg = round(self.tot/3, 2)        \n",
    "        \n",
    "    def cal(self):\n",
    "        self.tot = self.kor + self.eng + self.mat\n",
    "        self.avg = round(self.tot/3, 2)\n",
    "        self.grade()\n",
    "        \n",
    "    def grade(self):\n",
    "        if self.tot > 290:\n",
    "            self.grade = 'A'\n",
    "        elif self.tot > 270:\n",
    "            self.grade = 'B'\n",
    "        elif self.tot > 250:\n",
    "            self.grade = 'C'\n",
    "        elif self.tot > 230:\n",
    "            self.grade = 'D'\n",
    "        else:\n",
    "            self.grade = 'F'\n",
    "        return self.grade\n",
    "    \n",
    "    def __str__(self):\n",
    "        return  \"%5s %5s %6s %6s %6s %7s %7s %s\" % (self.num, self.name, self.kor, self.eng, self.mat, self.tot, self.avg, self.grade)\n",
    "    \n",
    "   \n",
    "    def __cmp__(self, other):\n",
    "        return self.name == other.name\n",
    "        \n",
    "    def __call__(self, other):\n",
    "        for student in other:\n",
    "            stp.name = student[0]\n",
    "            stp.kor = student[1]\n",
    "            stp.eng = student[2]\n",
    "            stp.mat = student[3]\n",
    "            st.append(stp)\n",
    "        return st\n",
    "    \n",
    "    def inputData(self):\n",
    "        self.name = input(\"이름을 입력하세요\")\n",
    "        self.kor = eval(input(\"국어점수: \"))\n",
    "        self.mat = eval(input(\"수학점수: \"))\n",
    "        self.eng = eval(input(\"영어점수: \"))\n",
    "        self.cal()\n",
    "###############################################################################################################################\n",
    "class maria:\n",
    "    schoolname = \"에이콘 아카데미\"\n",
    "    \n",
    "    def __init__(self):\n",
    "        self.conn = pymysql.connect(host='192.168.0.164', port=3306, user = 'root', password='gksrlgns', use_unicode = True, db = \"acorn\", charset='utf8', autocommit=True)\n",
    "        con = self.conn.cursor()\n",
    "        con.execute(\"SHOW TABLES\")\n",
    "        tables = con.fetchall()\n",
    "        \n",
    "        c = []\n",
    "        for i in tables:\n",
    "            if i == ('sungjuk', ):\n",
    "                c.append(i)\n",
    "        if len(c) != 0:\n",
    "            sungjuk_table = \"SELECT * FROM sungjuk\"\n",
    "            con.execute(sungjuk_table)\n",
    "            print('Table Check OK!')\n",
    "        else:\n",
    "            con.execute(\"CREATE TABLE sungjuk (name VARCHAR(20), kor INTEGER(20), mat INTEGER(20), eng INTEGER(20))\")\n",
    "            print('Create Table sungjuk')\n",
    "                \n",
    "    def __del__(self):\n",
    "        self.conn.close()\n",
    "        \n",
    "    def selectdb(self):\n",
    "        cur = self.conn.cursor()\n",
    "        cur.callproc(\"sungjuk_select\")\n",
    "        if(cur.rowcount):\n",
    "            stu = list(cur.fetchall())\n",
    "        else:\n",
    "            stu = 0\n",
    "        cur.close()\n",
    "        return stu\n",
    "        \n",
    "    def insertdb(self, std):\n",
    "        cur = self.conn.cursor()\n",
    "        args = (std.name, std.kor, std.mat, std.eng, std.tot, std.avg, std.grade)\n",
    "        cur.execute(\"INSERT INTO sungjuk VALUES(%s, %s, %s, %s, %s, %s, %s)\", args)\n",
    "        #cur.callproc(\"sungjuk_insert\", args)\n",
    "        cur.close()\n",
    "    \n",
    "    def updatedb(self, in_name, up_name):\n",
    "        cur = self.conn.cursor()\n",
    "        args = (in_name, up_name, 0)\n",
    "        cur.callproc(\"sungjuk_update\", args)\n",
    "        cur.execute('SELECT @_sungjuk_update_2')\n",
    "        result = cur.fetchone()\n",
    "        if result == 2:\n",
    "            print(\"수정할 이름이 없습니다.\")\n",
    "        else :\n",
    "            print(\"성공적으로 수정하였습니다\")\n",
    "        cur.close()\n",
    "        return result\n",
    "    \n",
    "    def deletedb(self, in_name):\n",
    "        cur = self.conn.cursor()\n",
    "        args = (in_name, 0)\n",
    "        cur.callproc(\"sungjuk_delete\", args)\n",
    "        cur.execute('SELECT @_sungjuk_delete_1')\n",
    "        result = cur.fetchone()\n",
    "        if result == 2:\n",
    "            print(\"삭제할 이름이 없습니다.\")\n",
    "        else :\n",
    "            print(\"성공적으로 삭제하였습니다\")\n",
    "        cur.close()\n",
    "        return result\n",
    "##############################################################################################################################\n",
    "class management:\n",
    "    def __init__(self):\n",
    "        self.maria = maria()\n",
    "\n",
    "    def M_select(self):\n",
    "        data = self.maria.selectdb()\n",
    "        st = []\n",
    "        if data:\n",
    "            for student in data:\n",
    "                stp = Student()\n",
    "                stp.name = student[0]\n",
    "                stp.kor = student[1]\n",
    "                stp.eng = student[2]\n",
    "                stp.mat = student[3]\n",
    "                stp.cal()\n",
    "                st.append(stp)\n",
    "            print(maria.schoolname + \"성적 계산표\")\n",
    "            print('%5s %5s %6s %6s %6s %6s %6s %6s' % ('번 호', '이 름', '국 어', '수 학', '영 어', '총 점', '평 균', '학 점'))\n",
    "            for stud in st:\n",
    "                print(stud)\n",
    "        else:\n",
    "               print(\"데이터가 없습니다. .\")\n",
    "    \n",
    "    def M_insert(self):\n",
    "        stu = Student()\n",
    "        stu.inputData()\n",
    "        self.maria.insertdb(stu)\n",
    "        \n",
    "    def M_update(self):\n",
    "        name = input(\"검색할 이름을 입력하시오\")\n",
    "        replace_name = input(\"수정할 이름을 입력하시오\")\n",
    "        result = self.maria.updatedb(name, replace_name)\n",
    "\n",
    "    def M_delete(self):    \n",
    "        name = input(\"삭제할 이름을 입력하시오\")\n",
    "        self.maria.deletedb(name)\n",
    "##############################################################################################################################\n",
    "from math import *\n",
    "from statistics import *\n",
    "\n",
    "manage = management()\n",
    "\n",
    "while True:\n",
    "    choice = input(\"1.출력 2.입력 3.업뎃 4.삭제 5.종료 =>\")\n",
    "\n",
    "    if choice == '1':\n",
    "        manage.M_select()\n",
    "\n",
    "    elif choice == '2':\n",
    "        manage.M_insert()\n",
    "\n",
    "    elif choice == '3':\n",
    "        manage.M_update()\n",
    "\n",
    "    elif choice == '4':\n",
    "        manage.M_delete()\n",
    "                    \n",
    "    else:\n",
    "        break"
   ]
  },
  {
   "cell_type": "code",
   "execution_count": null,
   "metadata": {},
   "outputs": [],
   "source": [
    "# 확장"
   ]
  },
  {
   "cell_type": "code",
   "execution_count": null,
   "metadata": {},
   "outputs": [],
   "source": []
  }
 ],
 "metadata": {
  "kernelspec": {
   "display_name": "Python 3",
   "language": "python",
   "name": "python3"
  },
  "language_info": {
   "codemirror_mode": {
    "name": "ipython",
    "version": 3
   },
   "file_extension": ".py",
   "mimetype": "text/x-python",
   "name": "python",
   "nbconvert_exporter": "python",
   "pygments_lexer": "ipython3",
   "version": "3.6.5"
  }
 },
 "nbformat": 4,
 "nbformat_minor": 2
}
