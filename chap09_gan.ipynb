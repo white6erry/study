{
 "cells": [
  {
   "cell_type": "markdown",
   "metadata": {},
   "source": [
    "# GAN Generative Adversarial Network\n",
    "\n",
    "- 서로 대립하는 두 신경망을 경쟁시켜 결과물을 생성하는 방법\n",
    "- 위조지폐범과 경찰의 비유\n",
    "\n",
    "\n",
    "1. 실제 이미지를 구분자(Disriminator)에게 이 이미지가 진짜인지 판단하게 함.\n",
    "2. 생성자(Generator)를 통해 노이즈로 부터 임의의 이미지를 만들고 이것을 다시 구분자에게 판단하게 함.\n",
    "이 둘을 반복하여 생성자는 구분자를 속여 최대한 진짜처럼 보이게 하고, 구분자는 최대한 진짜와 가짜를 구별하도록 훈련\n"
   ]
  },
  {
   "cell_type": "code",
   "execution_count": 1,
   "metadata": {},
   "outputs": [
    {
     "name": "stderr",
     "output_type": "stream",
     "text": [
      "/Users/yeomyeongwoo/anaconda3/lib/python3.6/site-packages/h5py/__init__.py:36: FutureWarning: Conversion of the second argument of issubdtype from `float` to `np.floating` is deprecated. In future, it will be treated as `np.float64 == np.dtype(float).type`.\n",
      "  from ._conv import register_converters as _register_converters\n"
     ]
    },
    {
     "name": "stdout",
     "output_type": "stream",
     "text": [
      "WARNING:tensorflow:From /Users/yeomyeongwoo/anaconda3/lib/python3.6/site-packages/tensorflow/contrib/learn/python/learn/datasets/base.py:198: retry (from tensorflow.contrib.learn.python.learn.datasets.base) is deprecated and will be removed in a future version.\n",
      "Instructions for updating:\n",
      "Use the retry module or similar alternatives.\n",
      "WARNING:tensorflow:From <ipython-input-1-35b75f963996>:6: read_data_sets (from tensorflow.contrib.learn.python.learn.datasets.mnist) is deprecated and will be removed in a future version.\n",
      "Instructions for updating:\n",
      "Please use alternatives such as official/mnist/dataset.py from tensorflow/models.\n",
      "WARNING:tensorflow:From /Users/yeomyeongwoo/anaconda3/lib/python3.6/site-packages/tensorflow/contrib/learn/python/learn/datasets/mnist.py:260: maybe_download (from tensorflow.contrib.learn.python.learn.datasets.base) is deprecated and will be removed in a future version.\n",
      "Instructions for updating:\n",
      "Please write your own downloading logic.\n",
      "WARNING:tensorflow:From /Users/yeomyeongwoo/anaconda3/lib/python3.6/site-packages/tensorflow/contrib/learn/python/learn/datasets/mnist.py:262: extract_images (from tensorflow.contrib.learn.python.learn.datasets.mnist) is deprecated and will be removed in a future version.\n",
      "Instructions for updating:\n",
      "Please use tf.data to implement this functionality.\n",
      "Extracting ./mnist/data/train-images-idx3-ubyte.gz\n",
      "WARNING:tensorflow:From /Users/yeomyeongwoo/anaconda3/lib/python3.6/site-packages/tensorflow/contrib/learn/python/learn/datasets/mnist.py:267: extract_labels (from tensorflow.contrib.learn.python.learn.datasets.mnist) is deprecated and will be removed in a future version.\n",
      "Instructions for updating:\n",
      "Please use tf.data to implement this functionality.\n",
      "Extracting ./mnist/data/train-labels-idx1-ubyte.gz\n",
      "WARNING:tensorflow:From /Users/yeomyeongwoo/anaconda3/lib/python3.6/site-packages/tensorflow/contrib/learn/python/learn/datasets/mnist.py:110: dense_to_one_hot (from tensorflow.contrib.learn.python.learn.datasets.mnist) is deprecated and will be removed in a future version.\n",
      "Instructions for updating:\n",
      "Please use tf.one_hot on tensors.\n",
      "Extracting ./mnist/data/t10k-images-idx3-ubyte.gz\n",
      "Extracting ./mnist/data/t10k-labels-idx1-ubyte.gz\n",
      "WARNING:tensorflow:From /Users/yeomyeongwoo/anaconda3/lib/python3.6/site-packages/tensorflow/contrib/learn/python/learn/datasets/mnist.py:290: DataSet.__init__ (from tensorflow.contrib.learn.python.learn.datasets.mnist) is deprecated and will be removed in a future version.\n",
      "Instructions for updating:\n",
      "Please use alternatives such as official/mnist/dataset.py from tensorflow/models.\n"
     ]
    }
   ],
   "source": [
    "import tensorflow as tf\n",
    "import numpy as np\n",
    "import matplotlib.pyplot as plt\n",
    "\n",
    "from tensorflow.examples.tutorials.mnist import input_data\n",
    "mnist = input_data.read_data_sets(\"./mnist/data/\", one_hot=True)"
   ]
  },
  {
   "cell_type": "code",
   "execution_count": 2,
   "metadata": {},
   "outputs": [],
   "source": [
    "# 하이퍼 파라미터 따로 빼기\n",
    "total_epoch = 100\n",
    "batch_size = 100\n",
    "learning_rate = 0.0002\n",
    "n_hidden = 256\n",
    "n_input = 28*28\n",
    "n_noise = 128"
   ]
  },
  {
   "cell_type": "code",
   "execution_count": 3,
   "metadata": {},
   "outputs": [],
   "source": [
    "X = tf.placeholder(tf.float32, [None, n_input])\n",
    "Z = tf.placeholder(tf.float32, [None, n_noise])"
   ]
  },
  {
   "cell_type": "code",
   "execution_count": 29,
   "metadata": {},
   "outputs": [
    {
     "name": "stdout",
     "output_type": "stream",
     "text": [
      "<tf.Variable 'Variable_8:0' shape=(128, 256) dtype=float32_ref>\n"
     ]
    }
   ],
   "source": [
    "# 생성자 Generator\n",
    "G_W1 = tf.Variable(tf.random_normal([n_noise, n_hidden], stddev=0.01))\n",
    "print(G_W1)\n",
    "G_b1 = tf.Variable(tf.zeros([n_hidden]))\n",
    "G_W2 = tf.Variable(tf.random_normal([n_hidden, n_input], stddev=0.01))\n",
    "G_b2 = tf.Variable(tf.zeros([n_input]))"
   ]
  },
  {
   "cell_type": "code",
   "execution_count": 30,
   "metadata": {},
   "outputs": [],
   "source": [
    "# Discriminator\n",
    "D_W1 = tf.Variable(tf.random_normal([n_input, n_hidden], stddev=0.01))\n",
    "D_b1 = tf.Variable(tf.zeros([n_hidden]))\n",
    "D_W2 = tf.Variable(tf.random_normal([n_hidden, 1], stddev=0.01))\n",
    "D_b2 = tf.Variable(tf.zeros([1]))"
   ]
  },
  {
   "cell_type": "code",
   "execution_count": 31,
   "metadata": {},
   "outputs": [],
   "source": [
    "def generator(noise_z):\n",
    "    hidden = tf.nn.relu(tf.matmul(noise_z, G_W1) + G_b1)\n",
    "    output = tf.nn.relu(tf.matmul(hidden, G_W2) + G_b2)\n",
    "    return output"
   ]
  },
  {
   "cell_type": "code",
   "execution_count": 32,
   "metadata": {},
   "outputs": [],
   "source": [
    "def discriminator(inputs):\n",
    "    hidden = tf.nn.relu(tf.matmul(inputs, D_W1) + D_b1)\n",
    "    output = tf.nn.sigmoid(tf.matmul(hidden, D_W2) + D_b2)\n",
    "    return output"
   ]
  },
  {
   "cell_type": "code",
   "execution_count": 33,
   "metadata": {},
   "outputs": [],
   "source": [
    "def get_noise(batch_size, n_noise):\n",
    "    return np.random.normal(size=(batch_size, n_noise))"
   ]
  },
  {
   "cell_type": "code",
   "execution_count": 34,
   "metadata": {},
   "outputs": [],
   "source": [
    "G = generator(Z)\n",
    "D_gene = discriminator(G)\n",
    "D_real = discriminator(X)"
   ]
  },
  {
   "cell_type": "code",
   "execution_count": 35,
   "metadata": {},
   "outputs": [],
   "source": [
    "loss_D = tf.reduce_mean(tf.log(D_real) + tf.log(1 - D_gene))\n",
    "loss_G = tf.reduce_mean(tf.log(D_gene))"
   ]
  },
  {
   "cell_type": "code",
   "execution_count": 36,
   "metadata": {},
   "outputs": [],
   "source": [
    "D_var_list = [D_W1, D_b1, D_W2, D_b2]\n",
    "G_var_list = [G_W1, G_b1, G_W2, G_b2]"
   ]
  },
  {
   "cell_type": "code",
   "execution_count": 37,
   "metadata": {},
   "outputs": [],
   "source": [
    "train_D = tf.train.AdamOptimizer(learning_rate).minimize(-loss_D, var_list=D_var_list)\n",
    "train_G = tf.train.AdamOptimizer(learning_rate).minimize(-loss_G, var_list=G_var_list)"
   ]
  },
  {
   "cell_type": "code",
   "execution_count": 38,
   "metadata": {},
   "outputs": [
    {
     "name": "stdout",
     "output_type": "stream",
     "text": [
      "Epoch: 0001 D loss : -0.4687 G loss : -1.1333\n",
      "Epoch: 0002 D loss : -0.3481 G loss : -1.8892\n",
      "Epoch: 0003 D loss : -0.5524 G loss : -2.1364\n",
      "Epoch: 0004 D loss : -0.5464 G loss : -2.0392\n",
      "Epoch: 0005 D loss : -0.6426 G loss : -1.6062\n",
      "Epoch: 0006 D loss : -0.5210 G loss : -1.9267\n",
      "Epoch: 0007 D loss : -0.7458 G loss : -1.7057\n",
      "Epoch: 0008 D loss : -0.6001 G loss : -1.9615\n",
      "Epoch: 0009 D loss : -0.4084 G loss : -2.0869\n",
      "Epoch: 0010 D loss : -0.6642 G loss : -1.6989\n",
      "Epoch: 0011 D loss : -1.0569 G loss : -1.2004\n",
      "Epoch: 0012 D loss : -0.6423 G loss : -1.7607\n",
      "Epoch: 0013 D loss : -0.7084 G loss : -1.5176\n",
      "Epoch: 0014 D loss : -0.6590 G loss : -1.8130\n",
      "Epoch: 0015 D loss : -0.9645 G loss : -1.4351\n",
      "Epoch: 0016 D loss : -0.8347 G loss : -1.5460\n",
      "Epoch: 0017 D loss : -0.8914 G loss : -1.5856\n",
      "Epoch: 0018 D loss : -0.6683 G loss : -1.5007\n",
      "Epoch: 0019 D loss : -0.8830 G loss : -1.4426\n",
      "Epoch: 0020 D loss : -1.3042 G loss : -1.2588\n",
      "Epoch: 0021 D loss : -0.8215 G loss : -1.6145\n",
      "Epoch: 0022 D loss : -0.9496 G loss : -1.3921\n",
      "Epoch: 0023 D loss : -0.9886 G loss : -1.4991\n",
      "Epoch: 0024 D loss : -0.5508 G loss : -1.6895\n",
      "Epoch: 0025 D loss : -1.1245 G loss : -1.2787\n",
      "Epoch: 0026 D loss : -1.1597 G loss : -1.0848\n",
      "Epoch: 0027 D loss : -0.8482 G loss : -1.4606\n",
      "Epoch: 0028 D loss : -0.7504 G loss : -1.4017\n",
      "Epoch: 0029 D loss : -1.0319 G loss : -1.4865\n",
      "Epoch: 0030 D loss : -0.6887 G loss : -1.4004\n",
      "Epoch: 0031 D loss : -0.7778 G loss : -1.3749\n",
      "Epoch: 0032 D loss : -1.1521 G loss : -1.1666\n",
      "Epoch: 0033 D loss : -1.7225 G loss : -0.9727\n",
      "Epoch: 0034 D loss : -1.0819 G loss : -1.1769\n",
      "Epoch: 0035 D loss : -0.9423 G loss : -1.1737\n",
      "Epoch: 0036 D loss : -0.9560 G loss : -1.2279\n",
      "Epoch: 0037 D loss : -0.9795 G loss : -1.2338\n",
      "Epoch: 0038 D loss : -0.7305 G loss : -1.4554\n",
      "Epoch: 0039 D loss : -1.0720 G loss : -1.2602\n",
      "Epoch: 0040 D loss : -1.1776 G loss : -1.1470\n",
      "Epoch: 0041 D loss : -1.2713 G loss : -0.9307\n",
      "Epoch: 0042 D loss : -1.0219 G loss : -1.0425\n",
      "Epoch: 0043 D loss : -1.1229 G loss : -1.0643\n",
      "Epoch: 0044 D loss : -0.8790 G loss : -1.1258\n",
      "Epoch: 0045 D loss : -1.3674 G loss : -0.9251\n",
      "Epoch: 0046 D loss : -1.4722 G loss : -0.9627\n",
      "Epoch: 0047 D loss : -1.2039 G loss : -1.1327\n",
      "Epoch: 0048 D loss : -1.0628 G loss : -1.2264\n",
      "Epoch: 0049 D loss : -1.0818 G loss : -1.0482\n",
      "Epoch: 0050 D loss : -1.4429 G loss : -0.9148\n",
      "Epoch: 0051 D loss : -1.0345 G loss : -1.1203\n",
      "Epoch: 0052 D loss : -1.5803 G loss : -0.9452\n",
      "Epoch: 0053 D loss : -1.1796 G loss : -1.1223\n",
      "Epoch: 0054 D loss : -1.0368 G loss : -1.3128\n",
      "Epoch: 0055 D loss : -1.1376 G loss : -1.1837\n",
      "Epoch: 0056 D loss : -0.9861 G loss : -1.2328\n",
      "Epoch: 0057 D loss : -0.9428 G loss : -1.2610\n",
      "Epoch: 0058 D loss : -1.1602 G loss : -1.0724\n",
      "Epoch: 0059 D loss : -1.2418 G loss : -1.0281\n",
      "Epoch: 0060 D loss : -1.1775 G loss : -1.1487\n",
      "Epoch: 0061 D loss : -1.6328 G loss : -0.7285\n",
      "Epoch: 0062 D loss : -1.1311 G loss : -1.2393\n",
      "Epoch: 0063 D loss : -1.2286 G loss : -0.9670\n",
      "Epoch: 0064 D loss : -1.2796 G loss : -0.8921\n",
      "Epoch: 0065 D loss : -1.4802 G loss : -0.7975\n",
      "Epoch: 0066 D loss : -1.2059 G loss : -0.9938\n",
      "Epoch: 0067 D loss : -0.9424 G loss : -1.3808\n",
      "Epoch: 0068 D loss : -1.0797 G loss : -1.1384\n",
      "Epoch: 0069 D loss : -1.2352 G loss : -1.0542\n",
      "Epoch: 0070 D loss : -1.0277 G loss : -1.2401\n",
      "Epoch: 0071 D loss : -1.1618 G loss : -1.0777\n",
      "Epoch: 0072 D loss : -1.2275 G loss : -1.0712\n",
      "Epoch: 0073 D loss : -0.9755 G loss : -1.1929\n",
      "Epoch: 0074 D loss : -0.9190 G loss : -1.2855\n",
      "Epoch: 0075 D loss : -1.0576 G loss : -1.2086\n",
      "Epoch: 0076 D loss : -1.1852 G loss : -1.1662\n",
      "Epoch: 0077 D loss : -1.0536 G loss : -1.1927\n",
      "Epoch: 0078 D loss : -1.2455 G loss : -1.0650\n",
      "Epoch: 0079 D loss : -1.8260 G loss : -0.7275\n",
      "Epoch: 0080 D loss : -0.9993 G loss : -1.4368\n",
      "Epoch: 0081 D loss : -0.9700 G loss : -1.2151\n",
      "Epoch: 0082 D loss : -0.9711 G loss : -1.2572\n",
      "Epoch: 0083 D loss : -1.0580 G loss : -1.2467\n",
      "Epoch: 0084 D loss : -1.1624 G loss : -1.1604\n",
      "Epoch: 0085 D loss : -1.0803 G loss : -1.2754\n",
      "Epoch: 0086 D loss : -1.1826 G loss : -1.2527\n",
      "Epoch: 0087 D loss : -1.0462 G loss : -1.2957\n",
      "Epoch: 0088 D loss : -1.4042 G loss : -0.8930\n",
      "Epoch: 0089 D loss : -1.1871 G loss : -0.9805\n",
      "Epoch: 0090 D loss : -1.0437 G loss : -1.1447\n",
      "Epoch: 0091 D loss : -1.2440 G loss : -1.1258\n",
      "Epoch: 0092 D loss : -1.0275 G loss : -1.2319\n",
      "Epoch: 0093 D loss : -0.9953 G loss : -1.2805\n",
      "Epoch: 0094 D loss : -0.9495 G loss : -1.1592\n",
      "Epoch: 0095 D loss : -1.1494 G loss : -1.2280\n",
      "Epoch: 0096 D loss : -1.0008 G loss : -1.2147\n",
      "Epoch: 0097 D loss : -0.9083 G loss : -1.3331\n",
      "Epoch: 0098 D loss : -1.0289 G loss : -1.0931\n",
      "Epoch: 0099 D loss : -1.0818 G loss : -1.2594\n",
      "Epoch: 0100 D loss : -1.0939 G loss : -1.3359\n"
     ]
    },
    {
     "ename": "NameError",
     "evalue": "name 'complete' is not defined",
     "output_type": "error",
     "traceback": [
      "\u001b[0;31m---------------------------------------------------------------------------\u001b[0m",
      "\u001b[0;31mNameError\u001b[0m                                 Traceback (most recent call last)",
      "\u001b[0;32m<ipython-input-38-7ec7b2a9f919>\u001b[0m in \u001b[0;36m<module>\u001b[0;34m()\u001b[0m\n\u001b[1;32m     32\u001b[0m         \u001b[0mplt\u001b[0m\u001b[0;34m.\u001b[0m\u001b[0mclose\u001b[0m\u001b[0;34m(\u001b[0m\u001b[0mfig\u001b[0m\u001b[0;34m)\u001b[0m\u001b[0;34m\u001b[0m\u001b[0m\n\u001b[1;32m     33\u001b[0m \u001b[0;34m\u001b[0m\u001b[0m\n\u001b[0;32m---> 34\u001b[0;31m \u001b[0mprint\u001b[0m\u001b[0;34m(\u001b[0m\u001b[0mcomplete\u001b[0m\u001b[0;34m)\u001b[0m\u001b[0;34m\u001b[0m\u001b[0m\n\u001b[0m",
      "\u001b[0;31mNameError\u001b[0m: name 'complete' is not defined"
     ]
    }
   ],
   "source": [
    "sess = tf.Session()\n",
    "sess.run(tf.global_variables_initializer())\n",
    "\n",
    "total_batch = int(mnist.train.num_examples / batch_size)\n",
    "loss_val_D, loss_val_G = 0, 0\n",
    "\n",
    "for epoch in range(total_epoch):\n",
    "    for i in range(total_batch):\n",
    "        batch_xs, batch_ys = mnist.train.next_batch(batch_size)\n",
    "        noise = get_noise(batch_size, n_noise)\n",
    "        \n",
    "        _, loss_val_D = sess.run([train_D, loss_D], feed_dict={X: batch_xs, Z: noise})\n",
    "        _, loss_val_G = sess.run([train_G, loss_G], feed_dict={Z: noise})\n",
    "    \n",
    "    epoch_str = '{:04d}'.format(epoch + 1)\n",
    "    loss_d = '{:.4f}'.format(loss_val_D)\n",
    "    loss_g = '{:.4f}'.format(loss_val_G)\n",
    "    print(f'Epoch: {epoch_str} D loss : {loss_d} G loss : {loss_g}')\n",
    "    \n",
    "    if epoch == 0 or (epoch + 1) % 10 == 0:\n",
    "        sample_size = 10\n",
    "        noise = get_noise(sample_size, n_noise)\n",
    "        samples = sess.run(G, feed_dict={Z: noise})\n",
    "        \n",
    "        fig, ax = plt.subplots(1, sample_size, figsize=(sample_size, 1))\n",
    "        \n",
    "        for i in range(sample_size):\n",
    "            ax[i].set_axis_off()\n",
    "            ax[i].imshow(np.reshape(samples[i], (28, 28)))\n",
    "        \n",
    "        plt.savefig('samples/{}.png'.format(str(epoch).zfill(3)), bbox_inches='tight')\n",
    "        plt.close(fig)\n",
    "    \n",
    "print(complete)"
   ]
  },
  {
   "cell_type": "code",
   "execution_count": null,
   "metadata": {},
   "outputs": [],
   "source": []
  }
 ],
 "metadata": {
  "kernelspec": {
   "display_name": "Python 3",
   "language": "python",
   "name": "python3"
  },
  "language_info": {
   "codemirror_mode": {
    "name": "ipython",
    "version": 3
   },
   "file_extension": ".py",
   "mimetype": "text/x-python",
   "name": "python",
   "nbconvert_exporter": "python",
   "pygments_lexer": "ipython3",
   "version": "3.6.4"
  }
 },
 "nbformat": 4,
 "nbformat_minor": 2
}
