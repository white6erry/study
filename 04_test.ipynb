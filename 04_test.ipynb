{
 "cells": [
  {
   "cell_type": "markdown",
   "metadata": {},
   "source": [
    "# function (함수)\n",
    "    - def 함수명(매개변수): \n",
    "    - return 생략 가능\n",
    "\n",
    "# call by reference, value\n",
    "\n",
    "# overloading, overriding\n",
    "    - 파이썬은 overloading 사용할 필요 없다.(이미 처리됨)"
   ]
  },
  {
   "cell_type": "code",
   "execution_count": 1,
   "metadata": {},
   "outputs": [
    {
     "name": "stdout",
     "output_type": "stream",
     "text": [
      "python's recipe no.1\n",
      "perl's recipe no.2\n"
     ]
    },
    {
     "data": {
      "text/plain": [
       "(88913440, 88913984)"
      ]
     },
     "execution_count": 1,
     "metadata": {},
     "output_type": "execute_result"
    }
   ],
   "source": [
    "# closure\n",
    "# inner 함수를 리턴하는 함수: 클래스처럼 값을 기억하고 있음\n",
    "# javascript에서 클래스 대신 사용하던 방식\n",
    "# perl과 python의 주소값이 다르다. -> 함수는 객체\n",
    "\n",
    "def cookbook(name):\n",
    "    def recipe(no):\n",
    "        print(\"%s's recipe no.%d\" % (name, no))\n",
    "    return recipe\n",
    "\n",
    "python_recipe = cookbook('python')\n",
    "perl_recipe = cookbook('perl')\n",
    "\n",
    "python_recipe(1)\n",
    "perl_recipe(2)\n",
    "\n",
    "id(python_recipe), id(perl_recipe) # id 주소값을 리턴하는 함수"
   ]
  },
  {
   "cell_type": "code",
   "execution_count": 2,
   "metadata": {},
   "outputs": [
    {
     "name": "stdout",
     "output_type": "stream",
     "text": [
      "    1.7560\n"
     ]
    }
   ],
   "source": [
    "def format_and_pad(template, space):\n",
    "    def formatter(x):\n",
    "        return (template % x).rjust(space)\n",
    "    return formatter\n",
    "\n",
    "fmt = format_and_pad(\"%.4f\",10)\n",
    "print(fmt(1.756))"
   ]
  },
  {
   "cell_type": "code",
   "execution_count": 4,
   "metadata": {},
   "outputs": [
    {
     "name": "stdout",
     "output_type": "stream",
     "text": [
      "0.38965734175733646\n",
      "0.6483723328715882\n",
      "0.07052331228406128\n",
      "0.7844847955673305\n",
      "0.01432229003886365\n"
     ]
    }
   ],
   "source": [
    "# generator\n",
    "# for in { Iterable한 객체, generator(비동기 방식으로 호출) }\n",
    "import random\n",
    "\n",
    "def gaus_dist(n):\n",
    "    while n > 0:\n",
    "        yield random.random() # 값의 범위 0 ~ 1\n",
    "        n -= 1\n",
    "        \n",
    "gd = gaus_dist(5) # 함수 인스턴스화: 함수도 객체\n",
    "\n",
    "for i in gd:\n",
    "    print(i)"
   ]
  },
  {
   "cell_type": "code",
   "execution_count": null,
   "metadata": {},
   "outputs": [],
   "source": [
    "gd = gaus_dist(5)\n",
    "print(gd)\n",
    "print(next(gd))\n",
    "print(next(gd))\n",
    "print(sum(gd))\n",
    "list(gaus_dist(5))"
   ]
  },
  {
   "cell_type": "code",
   "execution_count": null,
   "metadata": {},
   "outputs": [],
   "source": [
    "# 데이터를 입력받아 삼각형의 넓이 사각형의 넓이 원의 넓이를 계산하는 함수를 작성하시요\n",
    "import math\n",
    "\n",
    "def cal(shape, data):\n",
    "    if shape == \"삼각형\":\n",
    "        return data[0] * data[1] / 2\n",
    "    elif shape == \"사각형\":\n",
    "        return data[0] * data[1]\n",
    "    elif shape == \"원\":\n",
    "        return (data ** 2) * math.pi\n",
    "    else:\n",
    "        return -1\n",
    "    \n",
    "shape = input(\"모양 입력: \")\n",
    "data = []\n",
    "\n",
    "if shape == '원':\n",
    "    data = int(input(\"반지름 입력: \"))\n",
    "else:\n",
    "    data.append(int(input(\"높이: \")))\n",
    "    data.append(int(input(\"밑변: \")))\n",
    "    \n",
    "print(\"넓이는 %.3f입니다.\" % cal(shape, data))\n",
    "    "
   ]
  },
  {
   "cell_type": "code",
   "execution_count": null,
   "metadata": {},
   "outputs": [],
   "source": [
    "# 문제 : 시간과 시간당 급여를 입력받아 주당 40시간이 넘으면 2.5배 하여 총임금을 출력하는 함수를 작성하시오\n",
    "basictime = 40\n",
    "def pay(hours, wage):\n",
    "    if hours >= basictime:\n",
    "        return (wage * (hours - basictime) * 2.5) + (wage * basictime)\n",
    "    else:\n",
    "        return wage * hours\n",
    "    \n",
    "hours = int(input(\"총 시간: \"))\n",
    "wage = int(input(\"시간당 급여: \"))\n",
    "print(\"급여는 %d원 입니다.\" % pay(hours, wage))"
   ]
  },
  {
   "cell_type": "code",
   "execution_count": null,
   "metadata": {},
   "outputs": [],
   "source": [
    "# 이자율이 주어졌을 때 거치기간(년)의 총액과 이자수익을 출력하시요\n",
    "# 입력 : 예금액과 기간 # 출력 : 이자수익을 합한 총금액과 이자수익\n",
    "\n",
    "INTEREST_RATE = .04\n",
    "\n",
    "def cal(money, period):\n",
    "    total = money * (1 + INTEREST_RATE)**period\n",
    "    profit = total - money\n",
    "    return total, profit\n",
    "\n",
    "money = float(input(\"예금액: \"))\n",
    "period = int(input(\"기간(년): \"))\n",
    "\n",
    "print(\"총 금액: %.1f, 이자 수익: %.1f\" % cal(money, period))"
   ]
  },
  {
   "cell_type": "code",
   "execution_count": null,
   "metadata": {},
   "outputs": [],
   "source": [
    "# 클래스 단위로 작업하고 클래스로 결합하여 문제해결\n",
    "# 성적 프로그램\n",
    "# 성적을 입력받는 함수, 성적을 처리하는 함수, 성적을 출력하는 함수로 구분하여 작성하시오\n",
    "# 위 3개의 함수를 호출하는 main 함수를 작성하시오\n",
    "\n",
    "def inputScore():    \n",
    "    slist = []\n",
    "    slist.append(int(input(\"번호:\")))\n",
    "    slist.append(int(input(\"국어:\")))\n",
    "    slist.append(int(input(\"영어:\")))\n",
    "    slist.append(int(input(\"수학:\")))     \n",
    "        \n",
    "    return slist\n",
    "\n",
    "def calScore(slist):\n",
    "    sum = 0\n",
    "    for i in range(1,4):\n",
    "        sum += slist[i]\n",
    "   \n",
    "    slist.append(sum)\n",
    "    slist.append(round(sum / 3, 2))\n",
    "    \n",
    "    return slist\n",
    "    \n",
    "def printList(tList, num):\n",
    "    print(\"번호\\t국어\\t영어\\t수학\\t총점\\t평균\")\n",
    "    for i in range(0, num*6, 6):\n",
    "        print(\"%d\\t%d\\t%d\\t%d\\t%d\\t%.2f\\t\" % (tList[i], tList[i+1],tList[i+2],tList[i+3],tList[i+4],tList[i+5]))\n",
    "    print()\n",
    "\n",
    "def main():\n",
    "    num = int(input(\"학생 수:\"))\n",
    "    score_board = []\n",
    "    \n",
    "    for i in range(0, num):\n",
    "        score_board.extend(calScore(inputScore()))   \n",
    "    printList(score_board, num)\n",
    "    \n",
    "main()"
   ]
  },
  {
   "cell_type": "code",
   "execution_count": null,
   "metadata": {},
   "outputs": [],
   "source": [
    "name_list = [\"진정인\", \"김종호\", \"희망이\", \"협동인\", \"통일대박\", \"딥러닝\", \"다함께\"]\n",
    "name_list.sort()\n",
    "print(name_list)\n",
    "\n",
    "def binary_search_recursive(search_list, key, lower_bound, upper_bound):\n",
    "    middle_pos = (lower_bound + upper_bound) // 2\n",
    "    if middle_pos < lower_bound:\n",
    "        print(\"찾는 데이터가 없습니다.\")\n",
    "        return\n",
    "    if search_list[middle_pos] < key:\n",
    "        binary_search_recursive(search_list, key, middle_pos + 1, upper_bound)\n",
    "    elif search_list[middle_pos] > key:\n",
    "        binary_search_recursive(search_list, key, lower_bound, middle_pos)\n",
    "    else:\n",
    "        print(\"데이터가 있는 인덱스\", middle_pos)\n",
    "\n",
    "lower_bound = 0 \n",
    "upper_bound = len(name_list) - 1\n",
    "search_word = input(\"검색하고자 하는 단어를 입력하시오 \")\n",
    "binary_search_recursive(name_list, search_word, lower_bound, upper_bound)"
   ]
  },
  {
   "cell_type": "code",
   "execution_count": null,
   "metadata": {},
   "outputs": [],
   "source": [
    "person = {'age' : 20, 'height' : 170, 'weight' : 60}\n",
    "person"
   ]
  },
  {
   "cell_type": "code",
   "execution_count": null,
   "metadata": {},
   "outputs": [],
   "source": [
    "person = dict({'age':20, 'height':170, 'weight':60})\n",
    "print(person)\n",
    "len(person)"
   ]
  },
  {
   "cell_type": "code",
   "execution_count": null,
   "metadata": {},
   "outputs": [],
   "source": [
    "print(person['age'])\n",
    "a = person.pop('age')\n",
    "print(person)\n",
    "print('리턴된 a값 = ',a)\n",
    "person['age']=20\n",
    "b = person.popitem()\n",
    "print(person)\n",
    "print(\"리턴된 popitem = \", b)"
   ]
  },
  {
   "cell_type": "code",
   "execution_count": null,
   "metadata": {},
   "outputs": [],
   "source": [
    "account = {'daum': 'boy@daum.net', 'naver': 'girl@naver.com'}\n",
    "person.update(account)\n",
    "print(person)\n",
    "email = account\n",
    "email= {}\n",
    "person, account, email"
   ]
  },
  {
   "cell_type": "code",
   "execution_count": null,
   "metadata": {},
   "outputs": [],
   "source": [
    "email = account\n",
    "email.clear()\n",
    "person, account, email"
   ]
  },
  {
   "cell_type": "code",
   "execution_count": null,
   "metadata": {},
   "outputs": [],
   "source": [
    "'age' in person\n",
    "person.keys()\n",
    "list(person.values())\n",
    "list(person.items())\n",
    "person.get('foot_size',200)"
   ]
  },
  {
   "cell_type": "code",
   "execution_count": null,
   "metadata": {},
   "outputs": [],
   "source": [
    "person\n",
    "man = person.copy()\n",
    "man\n",
    "man['blood'] = 'B'\n",
    "print(person)\n",
    "print(man)"
   ]
  },
  {
   "cell_type": "markdown",
   "metadata": {},
   "source": [
    "# set : 중복을 허용하지 않음, 순서가 없음\n",
    "-- 집합함수(union, difference, intersection, symmetric_difference"
   ]
  },
  {
   "cell_type": "code",
   "execution_count": null,
   "metadata": {},
   "outputs": [],
   "source": [
    "s1 = set([1, 2, 3, 3, 4, 2, 1])\n",
    "print(s1)\n",
    "print(type(s1))"
   ]
  },
  {
   "cell_type": "code",
   "execution_count": null,
   "metadata": {},
   "outputs": [],
   "source": [
    "colors = {'yellow', 'red', 'blue', 'black'}\n",
    "print(colors)\n",
    "colors.add('blue')\n",
    "colors.update(['gray', 'orange'])\n",
    "colors.discard('gray') # 없는거 삭제 시 에러 안남\n",
    "colors.remove('gray') #이건 에러 남\n",
    "colors3 = colors.union(다른 셋) # 합집합\n",
    "colors.difference(colors2) # 차집합\n",
    "symmetric_difference # 양쪽에 다 없는 원자 출력\n",
    "intersection # 교집합\n",
    "issuperset # \n",
    "isdisjoint #"
   ]
  },
  {
   "cell_type": "code",
   "execution_count": null,
   "metadata": {},
   "outputs": [],
   "source": [
    "# 함수적 프로그래밍: 반복문 없이 반복처리: multi-core를 사용하기 때문에 빠름\n",
    "(lambda x: x * x)(10)\n",
    "\n",
    "def 무명(x):\n",
    "    return x * x\n",
    "\n",
    "g = lambda x, y: x+y\n",
    "g = lambda x, y = 1: x+y"
   ]
  },
  {
   "cell_type": "code",
   "execution_count": null,
   "metadata": {},
   "outputs": [],
   "source": [
    "strings = ['foo', 'card','bar', 'aaaa', 'abab'] # 데이터 매핑\n",
    "strings.sort(key = lambda x: len(set(list(x)))) # ['f','o','o'] -> ['f','o']로 변경함 -> 2\n",
    "print(strings)"
   ]
  },
  {
   "cell_type": "code",
   "execution_count": null,
   "metadata": {},
   "outputs": [],
   "source": [
    "# map, filter, reduce\n",
    "m = map(lambda x: x*x,[3,4,5,6,7]) # iterator\n",
    "print(m)\n",
    "print(next(m)) # generator\n",
    "print(next(m))\n",
    "print(list(map(lambda x:x*x, [3,4,5,6,7])))\n",
    "print(list(m))"
   ]
  },
  {
   "cell_type": "code",
   "execution_count": null,
   "metadata": {},
   "outputs": [],
   "source": [
    "# 문제 0부터 5까지 수를 제곱하는 프로그램을 작성하시오\n",
    "m = map(lambda x: x*x,range(0,6))\n",
    "print(list(m))\n",
    "\n",
    "def pow(x):\n",
    "    l = []\n",
    "    for i in range(0,x+1):\n",
    "        l.append(i*i)\n",
    "    return l\n",
    "print(pow(5))\n",
    "\n",
    "def sqr2(x):\n",
    "    return x*x\n",
    "list(map(sqr2,range(6)))"
   ]
  },
  {
   "cell_type": "code",
   "execution_count": null,
   "metadata": {},
   "outputs": [],
   "source": [
    "# 문제 : 출근시간 데이터에 대하여 기본급 10000원 시간당 7500원의 급여를 계산하고자 한다.\n",
    "# lambda함수와 map함수를 이용하여 구하시오\n",
    "norm = 10000\n",
    "earn = 7500\n",
    "total_time = [160,150,120,180,300,400]\n",
    "\n",
    "print(list(map(lambda x: norm + earn*x, total_time)))"
   ]
  },
  {
   "cell_type": "code",
   "execution_count": null,
   "metadata": {},
   "outputs": [],
   "source": [
    "#filter:참인 데이터만 걸러냄, 함수의 리턴값은 True/ False\n",
    "def odd(k):\n",
    "    return k%2\n",
    "list(filter(odd,range(100)))"
   ]
  },
  {
   "cell_type": "code",
   "execution_count": null,
   "metadata": {},
   "outputs": [],
   "source": [
    "# 문제 1~100사이의 3의 배수만 출력하는 프로그램을 작성하시오\n",
    "def f(n):\n",
    "    return n % 3 == 0\n",
    "print(list(filter(f,range(1, 101))), end=\" \")"
   ]
  },
  {
   "cell_type": "code",
   "execution_count": null,
   "metadata": {},
   "outputs": [],
   "source": [
    "# reduce : 누적합이나 누적 곱등을 출력해 줌 (분산처리)\n",
    "# from module(함수의 집합) \n",
    "# from math import pi\n",
    "from functools import reduce\n",
    "reduce(lambda x, y: x + y, range(11)) # 0~10 (0,1) (1,2) (3,3) (6,4)"
   ]
  },
  {
   "cell_type": "code",
   "execution_count": null,
   "metadata": {},
   "outputs": [],
   "source": [
    "reduce(lambda x, y: x+y,'abcde')\n",
    "reduce(lambda x, y: y+x,'abcde')"
   ]
  },
  {
   "cell_type": "code",
   "execution_count": null,
   "metadata": {},
   "outputs": [],
   "source": [
    "# 함수 리스트를 만들고 선택하여 실행 가능\n",
    "func_choice = [lambda x, y: x**y, lambda x, y:x/y]\n",
    "func_choice[0].__class__ # __: 클래스에서 시스템 속성이나 시스템 함수에 사용"
   ]
  },
  {
   "cell_type": "code",
   "execution_count": null,
   "metadata": {},
   "outputs": [],
   "source": [
    "print(func_choice[0](10,2))\n",
    "print(func_choice)"
   ]
  },
  {
   "cell_type": "code",
   "execution_count": null,
   "metadata": {},
   "outputs": [],
   "source": [
    "def f1(x,y):\n",
    "    return x**y\n",
    "def f2(x,y):\n",
    "    return x/y\n",
    "func_choice2 = [f1,f2]\n",
    "print(func_choice2[0](10,2))\n",
    "print(func_choice2[1](10,2))"
   ]
  },
  {
   "cell_type": "code",
   "execution_count": null,
   "metadata": {},
   "outputs": [],
   "source": [
    "data = [1,2,3,4,5,6,7,8,3,4,2,1]\n",
    "# 문제 : 위의 데이터에서 4보다 큰 수만 출력하도록 filtering하시오\n",
    "# 숫자를 입력받아서 홀수인 경우 나는 행복하다라고 출력하고 짝수인 경우는 나는 귀중한 사람이다 라고 \n",
    "# 출력하도록 하는 함수를 구현하여 출력하시오\n",
    "list(filter(lambda x: x > 4, data))"
   ]
  },
  {
   "cell_type": "code",
   "execution_count": null,
   "metadata": {},
   "outputs": [],
   "source": [
    "func_c = [lambda :print(\"나는 귀중한 사람이다.\"),lambda : print(\"나는 행복하다.\")]\n",
    "cond = eval(input(\"숫자 입력\"))\n",
    "cond %= 2\n",
    "func_c[cond]()"
   ]
  },
  {
   "cell_type": "code",
   "execution_count": null,
   "metadata": {},
   "outputs": [],
   "source": [
    "# 수학함수\n",
    "import math\n",
    "print(math.ceil(1.001)) #올림\n",
    "print(math.floor(1.001)) #내림\n",
    "print(math.factorial(5))\n",
    "print(math.gcd(10,125)) \n",
    "print(math.trunc(1.001)) # truncation(버림)\n",
    "print(math.trunc(1.999)) \n",
    "print(\"round(3.141592) : \",round(3.141592))\n",
    "print(\"round(3.141592,2) : \", round(3.141592,2))\n",
    "print(\"divmod(10,7) : \",divmod(10,7))\n",
    "'''\n",
    "abs : 절대값\n",
    "pow\n",
    "sum\n",
    "max\n",
    "min\n",
    "mat.fabs : float 절대값\n",
    "math.sqrt\n",
    "math.log\n",
    "'''"
   ]
  },
  {
   "cell_type": "code",
   "execution_count": 14,
   "metadata": {},
   "outputs": [
    {
     "name": "stdout",
     "output_type": "stream",
     "text": [
      "0.7853981633974483\n",
      "0.7853981633974483\n",
      "0.9999999999999999\n",
      "45.0\n",
      "0.7853981633974483\n",
      "45.0\n",
      "57.29577951308232\n",
      "58.31007808870444\n",
      "0.49999999999999994\n",
      "-1.0\n"
     ]
    }
   ],
   "source": [
    "# 각도는 반드시 라디안으로 변경해서 계산\n",
    "\n",
    "x = math.radians(45)\n",
    "print(x)\n",
    "print(math.pi / 4)\n",
    "print(math.tan(x)) # 0.9999999999999999 연산오차\n",
    "print(math.degrees(x))\n",
    "ang = math.atan(math.tan(x))\n",
    "print(ang)\n",
    "print(math.degrees(ang))\n",
    "print(math.degrees(1.0))\n",
    "print(math.degrees(1.0177028497428946))\n",
    "\n",
    "x = math.radians(30)\n",
    "print(math.sin(x))\n",
    "x = math.radians(180)\n",
    "v = math.cos(x)\n",
    "print(v)"
   ]
  },
  {
   "cell_type": "code",
   "execution_count": 21,
   "metadata": {
    "scrolled": true
   },
   "outputs": [
    {
     "name": "stdout",
     "output_type": "stream",
     "text": [
      "5.656854249492381\n",
      "5.656854249492381\n",
      "0.10000000000000002\n",
      "8.660254037844384\n"
     ]
    }
   ],
   "source": [
    "# 대각선이 8이고 그 사이각이 45도 라면 밑변의 길이와 높이의 길이를 구하시오\n",
    "x = math.radians(45)\n",
    "print(math.cos(x) * 8)\n",
    "print(math.sin(x) * 8)\n",
    "\n",
    "# 밑변이 5이고 그 사이각이 60도라면 대각선의 길이는 그리고 높이를 구하시오\n",
    "x = math.radians(60)\n",
    "print(math.cos(x) / 5)\n",
    "print(math.tan(x)*5)\n",
    "\n",
    "# 입력되는 두 변의 길이를 이용하여 그 내각을 구하는 함수를 작성하시오\n",
    "# atan2 이용"
   ]
  },
  {
   "cell_type": "code",
   "execution_count": 6,
   "metadata": {},
   "outputs": [
    {
     "data": {
      "text/plain": [
       "'<p>My name is steve, 빅데이터</p>'"
      ]
     },
     "execution_count": 6,
     "metadata": {},
     "output_type": "execute_result"
    }
   ],
   "source": [
    "# decorator : closure를 이용한 장식자 구현하기\n",
    "def print_name(first, last):\n",
    "    return ('My name is %s, %s' % (last, first))\n",
    "\n",
    "def p_dec(func):\n",
    "    def func_wrapper(*args, **kwargs): # * list ** dictionary\n",
    "        text = func(*args, **kwargs)\n",
    "        return '<p>%s</p>'% text\n",
    "    return func_wrapper\n",
    "\n",
    "print_name = p_dec(print_name)\n",
    "print_name('빅데이터', 'steve')"
   ]
  },
  {
   "cell_type": "code",
   "execution_count": 5,
   "metadata": {},
   "outputs": [
    {
     "ename": "NameError",
     "evalue": "name 'p_dec' is not defined",
     "output_type": "error",
     "traceback": [
      "\u001b[1;31m---------------------------------------------------------------------------\u001b[0m",
      "\u001b[1;31mNameError\u001b[0m                                 Traceback (most recent call last)",
      "\u001b[1;32m<ipython-input-5-ea9e6f4d4e99>\u001b[0m in \u001b[0;36m<module>\u001b[1;34m()\u001b[0m\n\u001b[0;32m      1\u001b[0m \u001b[1;31m# 장식자\u001b[0m\u001b[1;33m\u001b[0m\u001b[1;33m\u001b[0m\u001b[0m\n\u001b[0;32m      2\u001b[0m \u001b[1;31m# @p_dec는 위의 print_name = p_dec(print_name) 구문과 같은 역할을 한다.\u001b[0m\u001b[1;33m\u001b[0m\u001b[1;33m\u001b[0m\u001b[0m\n\u001b[1;32m----> 3\u001b[1;33m \u001b[1;33m@\u001b[0m\u001b[0mp_dec\u001b[0m\u001b[1;33m\u001b[0m\u001b[0m\n\u001b[0m\u001b[0;32m      4\u001b[0m \u001b[1;32mdef\u001b[0m \u001b[0mprint_name2\u001b[0m\u001b[1;33m(\u001b[0m\u001b[0mfirst\u001b[0m\u001b[1;33m,\u001b[0m \u001b[0mlast\u001b[0m\u001b[1;33m)\u001b[0m\u001b[1;33m:\u001b[0m\u001b[1;33m\u001b[0m\u001b[0m\n\u001b[0;32m      5\u001b[0m     \u001b[1;32mreturn\u001b[0m \u001b[1;33m(\u001b[0m\u001b[1;34m'My name is %s, %s'\u001b[0m \u001b[1;33m%\u001b[0m \u001b[1;33m(\u001b[0m\u001b[0mlast\u001b[0m\u001b[1;33m,\u001b[0m \u001b[0mfirst\u001b[0m\u001b[1;33m)\u001b[0m\u001b[1;33m)\u001b[0m\u001b[1;33m\u001b[0m\u001b[0m\n",
      "\u001b[1;31mNameError\u001b[0m: name 'p_dec' is not defined"
     ]
    }
   ],
   "source": [
    "# 장식자 \n",
    "# @p_dec는 위의 print_name = p_dec(print_name) 구문과 같은 역할을 한다.\n",
    "@p_dec\n",
    "def print_name2(first, last):\n",
    "    return ('My name is %s, %s' % (last, first))"
   ]
  },
  {
   "cell_type": "code",
   "execution_count": null,
   "metadata": {},
   "outputs": [],
   "source": []
  },
  {
   "cell_type": "code",
   "execution_count": null,
   "metadata": {},
   "outputs": [],
   "source": []
  },
  {
   "cell_type": "code",
   "execution_count": null,
   "metadata": {},
   "outputs": [],
   "source": []
  },
  {
   "cell_type": "code",
   "execution_count": null,
   "metadata": {},
   "outputs": [],
   "source": []
  },
  {
   "cell_type": "code",
   "execution_count": null,
   "metadata": {},
   "outputs": [],
   "source": []
  }
 ],
 "metadata": {
  "kernelspec": {
   "display_name": "Python 3",
   "language": "python",
   "name": "python3"
  },
  "language_info": {
   "codemirror_mode": {
    "name": "ipython",
    "version": 3
   },
   "file_extension": ".py",
   "mimetype": "text/x-python",
   "name": "python",
   "nbconvert_exporter": "python",
   "pygments_lexer": "ipython3",
   "version": "3.6.5"
  }
 },
 "nbformat": 4,
 "nbformat_minor": 2
}
