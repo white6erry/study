{
 "cells": [
  {
   "cell_type": "code",
   "execution_count": 2,
   "metadata": {},
   "outputs": [
    {
     "name": "stdout",
     "output_type": "stream",
     "text": [
      "[1]\n",
      "[1]\n"
     ]
    }
   ],
   "source": [
    "import numpy as np\n",
    "X = np.array([[-1, -1], [-2, -1], [-3, -2], [1,1], [2, 1],[3,2]])\n",
    "Y = np.array([1,1,1,2,2,2])\n",
    "\n",
    "\n",
    "from sklearn.naive_bayes import GaussianNB\n",
    "clf = GaussianNB()\n",
    "clf.fit(X, Y)\n",
    "\n",
    "print(clf.predict([[-0.8, -1]]))\n",
    "\n",
    "clf_pf = GaussianNB()\n",
    "clf_pf.partial_fit(X, Y, np.unique(Y))\n",
    "\n",
    "print(clf_pf.predict([[-0.8, -1]]))"
   ]
  },
  {
   "cell_type": "code",
   "execution_count": 5,
   "metadata": {},
   "outputs": [],
   "source": [
    "%matplotlib inline\n",
    "from matplotlib import font_manager, rc\n",
    "import warnings\n",
    "warnings.simplefilter(\"ignore\")\n",
    "font_fname = 'C:/Windows/Fonts/malgun.ttf'\n",
    "font_name = font_manager.FontProperties(fname=font_fname).get_name()\n",
    "\n",
    "rc('font', family=font_name)"
   ]
  },
  {
   "cell_type": "code",
   "execution_count": 7,
   "metadata": {},
   "outputs": [],
   "source": [
    "X = np.array([[0, 1, 0 ,1],\n",
    "            [1, 0, 1, 1],\n",
    "            [0, 0, 0, 1],\n",
    "            [1, 0 , 1, 0]])\n",
    "y = np.array([0, 1, 0, 1])"
   ]
  },
  {
   "cell_type": "code",
   "execution_count": 8,
   "metadata": {},
   "outputs": [
    {
     "name": "stderr",
     "output_type": "stream",
     "text": [
      "C:\\Users\\acorn\\Anaconda3\\lib\\site-packages\\matplotlib\\axes\\_axes.py:6462: UserWarning: The 'normed' kwarg is deprecated, and has been replaced by the 'density' kwarg.\n",
      "  warnings.warn(\"The 'normed' kwarg is deprecated, and has been \"\n",
      "C:\\Users\\acorn\\Anaconda3\\lib\\site-packages\\matplotlib\\axes\\_axes.py:6462: UserWarning: The 'normed' kwarg is deprecated, and has been replaced by the 'density' kwarg.\n",
      "  warnings.warn(\"The 'normed' kwarg is deprecated, and has been \"\n"
     ]
    },
    {
     "data": {
      "image/png": "[encoded data removed]",
      "text/plain": [
       "<Figure size 432x288 with 1 Axes>"
      ]
     },
     "metadata": {},
     "output_type": "display_data"
    }
   ],
   "source": [
    "# label 별로 카운트 해보시오\n",
    "X = np.array([[0,1,0,1],\n",
    "             [1,0,1,1],\n",
    "             [0,0,0,1],\n",
    "             [1,0,1,0]])\n",
    "\n",
    "y = np.array([0,1,0,1])\n",
    "\n",
    "import numpy as np\n",
    "import pandas as pd\n",
    "import scipy as sp\n",
    "import seaborn as sns\n",
    "import matplotlib.pyplot as plt\n",
    "np.random.seed(0)\n",
    "\n",
    "X0 =sp.stats.norm(-2, 1).rvs(40)\n",
    "X1 = sp.stats.norm(+2, 1).rvs(60)\n",
    "X = sp.hstack([X0, X1])[:, np.newaxis]\n",
    "y0 = np.zeros(40)\n",
    "y1 = np.ones(60)\n",
    "y = np.hstack([y0, y1])\n",
    "\n",
    "\n",
    "sns.distplot(X0, rug = True, kde=False, norm_hist=True, label = \"class0\")\n",
    "sns.distplot(X1, rug = True, kde=False, norm_hist=True, label = \"class1\")\n",
    "\n",
    "plt.legend()\n",
    "plt.xlim(-6,6)\n",
    "plt.show()"
   ]
  },
  {
   "cell_type": "code",
   "execution_count": 9,
   "metadata": {},
   "outputs": [
    {
     "data": {
      "text/plain": [
       "array([0.4, 0.6])"
      ]
     },
     "execution_count": 9,
     "metadata": {},
     "output_type": "execute_result"
    }
   ],
   "source": [
    "from sklearn.naive_bayes import GaussianNB\n",
    "clf_norm = GaussianNB().fit(X, y)\n",
    "\n",
    "clf_norm.classes_\n",
    "clf_norm.class_count_\n",
    "clf_norm.class_prior_"
   ]
  },
  {
   "cell_type": "code",
   "execution_count": 10,
   "metadata": {},
   "outputs": [
    {
     "name": "stderr",
     "output_type": "stream",
     "text": [
      "C:\\Users\\acorn\\Anaconda3\\lib\\site-packages\\matplotlib\\axes\\_axes.py:6462: UserWarning: The 'normed' kwarg is deprecated, and has been replaced by the 'density' kwarg.\n",
      "  warnings.warn(\"The 'normed' kwarg is deprecated, and has been \"\n",
      "C:\\Users\\acorn\\Anaconda3\\lib\\site-packages\\matplotlib\\axes\\_axes.py:6462: UserWarning: The 'normed' kwarg is deprecated, and has been replaced by the 'density' kwarg.\n",
      "  warnings.warn(\"The 'normed' kwarg is deprecated, and has been \"\n"
     ]
    },
    {
     "data": {
      "image/png": "[encoded data removed]",
      "text/plain": [
       "<Figure size 432x288 with 1 Axes>"
      ]
     },
     "metadata": {},
     "output_type": "display_data"
    }
   ],
   "source": [
    "xx=np.linspace(-6,6,100)\n",
    "p0 = sp.stats.norm(clf_norm.theta_[0],clf_norm.sigma_[0]).pdf(xx)\n",
    "p1 = sp.stats.norm(clf_norm.theta_[1],clf_norm.theta_[1]).pdf(xx)\n",
    "sns.distplot(X0, rug=True, kde=False, norm_hist=True, color=\"r\", \n",
    "             label=\"class 0 hist\")\n",
    "sns.distplot(X1, rug=True, kde=False, norm_hist=True, color=\"b\", \n",
    "             label=\"class 1 hist\")\n",
    "plt.plot(xx, p0, c=\"r\", label=\"class 0 est.pdf\")\n",
    "plt.plot(xx, p0, c=\"b\", label=\"class 1 est.pdf\")\n",
    "plt.legend()\n",
    "plt.show()"
   ]
  },
  {
   "cell_type": "code",
   "execution_count": 11,
   "metadata": {},
   "outputs": [
    {
     "data": {
      "text/plain": [
       "array([0.98327446, 0.01672554])"
      ]
     },
     "execution_count": 11,
     "metadata": {},
     "output_type": "execute_result"
    }
   ],
   "source": [
    "x_new = -1\n",
    "clf_norm.predict_proba([[x_new]])\n",
    "#우도\n",
    "px = sp.stats.norm(clf_norm.theta_, np.sqrt(clf_norm.sigma_)).pdf(x_new)\n",
    "px\n",
    "#사전확률\n",
    "p = px.flatten() * clf_norm.class_prior_\n",
    "p\n",
    "#사후확률\n",
    "p / p.sum()"
   ]
  },
  {
   "cell_type": "code",
   "execution_count": 12,
   "metadata": {},
   "outputs": [
    {
     "name": "stderr",
     "output_type": "stream",
     "text": [
      "Downloading 20news dataset. This may take a few minutes.\n",
      "Downloading dataset from https://ndownloader.figshare.com/files/5975967 (14 MB)\n"
     ]
    }
   ],
   "source": [
    "from sklearn.datasets import fetch_20newsgroups\n",
    "news = fetch_20newsgroups(subset=\"all\")\n",
    "X = news.data\n",
    "y = news.target"
   ]
  },
  {
   "cell_type": "code",
   "execution_count": 13,
   "metadata": {},
   "outputs": [],
   "source": [
    "from sklearn.feature_extraction.text import TfidfVectorizer, HashingVectorizer, CountVectorizer\n",
    "from sklearn.naive_bayes import MultinomialNB\n",
    "from sklearn.pipeline import Pipeline\n",
    "model1 = Pipeline([\n",
    "        ('vect', CountVectorizer()),\n",
    "        ('clf', MultinomialNB()),\n",
    "    ])\n",
    "model2 = Pipeline([\n",
    "        ('vect', TfidfVectorizer()),\n",
    "        ('clf', MultinomialNB()),\n",
    "    ])\n",
    "model3 = Pipeline([\n",
    "        ('vect', TfidfVectorizer(stop_words=\"english\")),\n",
    "        ('clf', MultinomialNB()),\n",
    "        ])\n",
    "model4 = Pipeline([\n",
    "        ('vect', TfidfVectorizer(stop_words=\"english\",\n",
    "                                 token_pattern=r\"\\b[a-z0-9_\\-\\.]+ [a-z][a-z0-9_\\-\\.]+\\b\")),\n",
    "                                 ('clf', MultinomialNB()),\n",
    "                                 ])"
   ]
  },
  {
   "cell_type": "code",
   "execution_count": 14,
   "metadata": {},
   "outputs": [],
   "source": [
    "from sklearn.feature_extraction.text import TfidfVectorizer,HashingVectorizer, CountVectorizer\n",
    "from sklearn.naive_bayes import MultinomialNB\n",
    "from sklearn.pipeline import Pipeline\n",
    "model1 = Pipeline([\n",
    "    ('vect', CountVectorizer()),\n",
    "    ('clf', MultinomialNB()),\n",
    "])\n",
    "\n",
    "model2 = Pipeline([\n",
    "    ('vect', CountVectorizer()),\n",
    "    ('clf', MultinomialNB()),\n",
    "])\n",
    "\n",
    "model3 = Pipeline([\n",
    "    ('vect', TfidfVectorizer(stop_words =\"english\")),\n",
    "    ('clf', MultinomialNB()),\n",
    "])\n",
    "\n",
    "model4 = Pipeline([\n",
    "    ('vect', TfidfVectorizer(stop_words =\"english\",\n",
    "                            token_pattern=r\"\\b[a-z0-9_\\-\\.]+[a-z][a-z0-9_\\-\\.]+\\b\")),\n",
    "    ('clf', MultinomialNB()),\n",
    "])"
   ]
  },
  {
   "cell_type": "code",
   "execution_count": 84,
   "metadata": {},
   "outputs": [],
   "source": [
    "from sklearn import datasets\n",
    "from sklearn.naive_bayes import GaussianNB\n",
    "from sklearn.svm import LinearSVC\n",
    "from sklearn.linear_model import LogisticRegression\n",
    "from sklearn.metrics import (brier_score_loss, precision_score, recall_score, f1_score)\n",
    "from sklearn.calibration import CalibratedClassifierCV, calibration_curve\n",
    "from sklearn.model_selection import train_test_split\n",
    "# 데이터 생성\n",
    "X, y = datasets.make_classification(n_samples =100000, n_features =20, n_informative=2, n_redundant=10, random_state=42)\n",
    "X_train, X_test, y_train, y_test = train_test_split(X, y, test_size = 0.99, random_state=42)"
   ]
  },
  {
   "cell_type": "code",
   "execution_count": 87,
   "metadata": {
    "scrolled": true
   },
   "outputs": [
    {
     "name": "stdout",
     "output_type": "stream",
     "text": [
      "Logistic:\n",
      "\tBrier: 0.099\n",
      "\tPrecision: 0.872\n",
      "\tRecall: 0.851\n",
      "\tF1: 0.862\n",
      "\n",
      "Naive Bayes:\n",
      "\tBrier: 0.118\n",
      "\tPrecision: 0.857\n",
      "\tRecall: 0.876\n",
      "\tF1: 0.867\n",
      "\n",
      "Naive Bayes + Isotonic:\n",
      "\tBrier: 0.098\n",
      "\tPrecision: 0.883\n",
      "\tRecall: 0.836\n",
      "\tF1: 0.859\n",
      "\n",
      "Naive Bayes + Sigmoid:\n",
      "\tBrier: 0.109\n",
      "\tPrecision: 0.861\n",
      "\tRecall: 0.871\n",
      "\tF1: 0.866\n",
      "\n",
      "Logistic:\n",
      "\tBrier: 0.099\n",
      "\tPrecision: 0.872\n",
      "\tRecall: 0.851\n",
      "\tF1: 0.862\n",
      "\n",
      "SVC:\n",
      "\tBrier: 0.163\n",
      "\tPrecision: 0.872\n",
      "\tRecall: 0.852\n",
      "\tF1: 0.862\n",
      "\n",
      "SVC + Isotonic:\n",
      "\tBrier: 0.100\n",
      "\tPrecision: 0.853\n",
      "\tRecall: 0.878\n",
      "\tF1: 0.865\n",
      "\n",
      "SVC + Sigmoid:\n",
      "\tBrier: 0.099\n",
      "\tPrecision: 0.874\n",
      "\tRecall: 0.849\n",
      "\tF1: 0.861\n",
      "\n"
     ]
    },
    {
     "data": {
      "image/png": "[encoded data removed]",
      "text/plain": [
       "<Figure size 720x720 with 2 Axes>"
      ]
     },
     "metadata": {},
     "output_type": "display_data"
    },
    {
     "data": {
      "image/png": "[encoded data removed]",
      "text/plain": [
       "<Figure size 720x720 with 2 Axes>"
      ]
     },
     "metadata": {},
     "output_type": "display_data"
    }
   ],
   "source": [
    "def plot_calibration_curve(est, name, fig_index):\n",
    "    isotonic = CalibratedClassifierCV(est, cv=2, method='isotonic')\n",
    "    sigmoid = CalibratedClassifierCV(est, cv=2, method= 'sigmoid')\n",
    "    lr = LogisticRegression(C=1., solver = 'lbfgs')\n",
    "    \n",
    "    fig = plt.figure(fig_index, figsize=(10, 10))\n",
    "    ax1 = plt.subplot2grid((3, 1), (0, 0), rowspan=2)\n",
    "    ax2 = plt.subplot2grid((3, 1), (2, 0))\n",
    "\n",
    "    ax1.plot([0, 1], [0, 1], \"k:\", label=\"Perfectly calibrated\")\n",
    "    for clf, name in [(lr, 'Logistic'),\n",
    "                      (est, name),\n",
    "                      (isotonic, name + ' + Isotonic'),\n",
    "                      (sigmoid, name + ' + Sigmoid')]:\n",
    "        clf.fit(X_train, y_train)\n",
    "        y_pred = clf.predict(X_test)\n",
    "        if hasattr(clf, \"predict_proba\"):\n",
    "            prob_pos = clf.predict_proba(X_test)[:, 1]\n",
    "        else:  \n",
    "            prob_pos = clf.decision_function(X_test)\n",
    "            prob_pos = \\\n",
    "                (prob_pos - prob_pos.min()) / (prob_pos.max() - prob_pos.min())\n",
    "\n",
    "        clf_score = brier_score_loss(y_test, prob_pos, pos_label=y.max())\n",
    "        print(\"%s:\" % name)\n",
    "        print(\"\\tBrier: %1.3f\" % (clf_score))\n",
    "        print(\"\\tPrecision: %1.3f\" % precision_score(y_test, y_pred))\n",
    "        print(\"\\tRecall: %1.3f\" % recall_score(y_test, y_pred))\n",
    "        print(\"\\tF1: %1.3f\\n\" % f1_score(y_test, y_pred))\n",
    "\n",
    "        fraction_of_positives, mean_predicted_value = \\\n",
    "            calibration_curve(y_test, prob_pos, n_bins=10)\n",
    "\n",
    "        ax1.plot(mean_predicted_value, fraction_of_positives, \"s-\",\n",
    "                 label=\"%s (%1.3f)\" % (name, clf_score))\n",
    "\n",
    "        ax2.hist(prob_pos, range=(0, 1), bins=10, label=name,\n",
    "                 histtype=\"step\", lw=2)\n",
    "\n",
    "    ax1.set_ylabel(\"Fraction of positives\")\n",
    "    ax1.set_ylim([-0.05, 1.05])\n",
    "    ax1.legend(loc=\"lower right\")\n",
    "    ax1.set_title('Calibration plots  (reliability curve)')\n",
    "\n",
    "    ax2.set_xlabel(\"Mean predicted value\")\n",
    "    ax2.set_ylabel(\"Count\")\n",
    "    ax2.legend(loc=\"upper center\", ncol=2)\n",
    "\n",
    "    plt.tight_layout()\n",
    "\n",
    "# Plot calibration curve for Gaussian Naive Bayes\n",
    "plot_calibration_curve(GaussianNB(), \"Naive Bayes\", 1)\n",
    "\n",
    "# Plot calibration curve for Linear SVC\n",
    "plot_calibration_curve(LinearSVC(), \"SVC\", 2)\n",
    "\n",
    "plt.show()"
   ]
  },
  {
   "cell_type": "code",
   "execution_count": 92,
   "metadata": {
    "scrolled": true
   },
   "outputs": [
    {
     "data": {
      "text/html": [
       "<div>\n",
       "<style scoped>\n",
       "    .dataframe tbody tr th:only-of-type {\n",
       "        vertical-align: middle;\n",
       "    }\n",
       "\n",
       "    .dataframe tbody tr th {\n",
       "        vertical-align: top;\n",
       "    }\n",
       "\n",
       "    .dataframe thead th {\n",
       "        text-align: right;\n",
       "    }\n",
       "</style>\n",
       "<table border=\"1\" class=\"dataframe\">\n",
       "  <thead>\n",
       "    <tr style=\"text-align: right;\">\n",
       "      <th></th>\n",
       "      <th>Survived</th>\n",
       "      <th>Pclass</th>\n",
       "      <th>Sex_cleaned</th>\n",
       "      <th>Age</th>\n",
       "      <th>SibSp</th>\n",
       "      <th>Parch</th>\n",
       "      <th>Fare</th>\n",
       "      <th>Embarked_cleaned</th>\n",
       "    </tr>\n",
       "  </thead>\n",
       "  <tbody>\n",
       "    <tr>\n",
       "      <th>0</th>\n",
       "      <td>0</td>\n",
       "      <td>3</td>\n",
       "      <td>0</td>\n",
       "      <td>22.0</td>\n",
       "      <td>1</td>\n",
       "      <td>0</td>\n",
       "      <td>7.2500</td>\n",
       "      <td>0</td>\n",
       "    </tr>\n",
       "    <tr>\n",
       "      <th>1</th>\n",
       "      <td>1</td>\n",
       "      <td>1</td>\n",
       "      <td>1</td>\n",
       "      <td>38.0</td>\n",
       "      <td>1</td>\n",
       "      <td>0</td>\n",
       "      <td>71.2833</td>\n",
       "      <td>1</td>\n",
       "    </tr>\n",
       "    <tr>\n",
       "      <th>2</th>\n",
       "      <td>1</td>\n",
       "      <td>3</td>\n",
       "      <td>1</td>\n",
       "      <td>26.0</td>\n",
       "      <td>0</td>\n",
       "      <td>0</td>\n",
       "      <td>7.9250</td>\n",
       "      <td>0</td>\n",
       "    </tr>\n",
       "    <tr>\n",
       "      <th>3</th>\n",
       "      <td>1</td>\n",
       "      <td>1</td>\n",
       "      <td>1</td>\n",
       "      <td>35.0</td>\n",
       "      <td>1</td>\n",
       "      <td>0</td>\n",
       "      <td>53.1000</td>\n",
       "      <td>0</td>\n",
       "    </tr>\n",
       "    <tr>\n",
       "      <th>4</th>\n",
       "      <td>0</td>\n",
       "      <td>3</td>\n",
       "      <td>0</td>\n",
       "      <td>35.0</td>\n",
       "      <td>0</td>\n",
       "      <td>0</td>\n",
       "      <td>8.0500</td>\n",
       "      <td>0</td>\n",
       "    </tr>\n",
       "  </tbody>\n",
       "</table>\n",
       "</div>"
      ],
      "text/plain": [
       "   Survived  Pclass  Sex_cleaned   Age  SibSp  Parch     Fare  \\\n",
       "0         0       3            0  22.0      1      0   7.2500   \n",
       "1         1       1            1  38.0      1      0  71.2833   \n",
       "2         1       3            1  26.0      0      0   7.9250   \n",
       "3         1       1            1  35.0      1      0  53.1000   \n",
       "4         0       3            0  35.0      0      0   8.0500   \n",
       "\n",
       "   Embarked_cleaned  \n",
       "0                 0  \n",
       "1                 1  \n",
       "2                 0  \n",
       "3                 0  \n",
       "4                 0  "
      ]
     },
     "execution_count": 92,
     "metadata": {},
     "output_type": "execute_result"
    }
   ],
   "source": [
    "data.head()"
   ]
  },
  {
   "cell_type": "code",
   "execution_count": 91,
   "metadata": {},
   "outputs": [
    {
     "name": "stdout",
     "output_type": "stream",
     "text": [
      "총 357 , 잘못 분류된 것 : 88, 정 분류율 : 75.35%\n",
      "생존확률 = 40.62%, 사망확률 = 59.38%\n",
      "총 357, 잘못 분류된 것: 124, 정분류율: 65.27%\n",
      "생존자 운임 표준편차: 68.17\n",
      "생존자 운임 평균: 48.59\n"
     ]
    }
   ],
   "source": [
    "import time\n",
    "from sklearn.model_selection import train_test_split\n",
    "from sklearn.naive_bayes import GaussianNB, BernoulliNB, MultinomialNB\n",
    "\n",
    "data = pd.read_csv(\"titanic_train.csv\")\n",
    "#범주화\n",
    "data[\"Sex_cleaned\"] = np.where(data[\"Sex\"] == \"male\", 0,1)\n",
    "data[\"Embarked_cleaned\"] = np.where(data[\"Embarked\"]==\"S\",0,\n",
    "    np.where(data[\"Embarked\"]==\"C\",1, np.where(data[\"Embarked\"]==\"Q\",2,3)))\n",
    "#결측치 처리\n",
    "data=data[[\"Survived\", \"Pclass\", \"Sex_cleaned\", \"Age\", \"SibSp\", \"Parch\", \"Fare\", \"Embarked_cleaned\"]].dropna(axis=0, how='any')\n",
    "\n",
    "#데이터 분할\n",
    "X_train, X_test= train_test_split(data, test_size=0.5, random_state=int(time.time()))\n",
    "# 생존여부와 관련이 있는 변수를 선택하고 \"Survived\"를 종속변수로 하여 naive bayes 분석하시오\n",
    "gnb = GaussianNB()\n",
    "used_features = [\n",
    "     \"Pclass\", \"Sex_cleaned\", \"Age\", \"SibSp\", \"Parch\", \"Fare\", \"Embarked_cleaned\"\n",
    "]\n",
    "gnb.fit(X_train[used_features].values, X_train[\"Survived\"])\n",
    "y_pred=gnb.predict(X_test[used_features])\n",
    "print(\"총 {} , 잘못 분류된 것 : {}, 정 분류율 : {:05.2f}%\".format(X_test.shape[0], (X_test[\"Survived\"]!=y_pred).sum(), \n",
    "                                                      100*((X_test[\"Survived\"] == y_pred).sum()/X_test.shape[0])))\n",
    "# 운임(fare)와 Survived의 모델을 생성하고 예측해 보시오\n",
    "    # 모델로부터 다음 값을 찾으시오\n",
    "    # 운임과 survived와의 모델로부터 위의 운임평균과 표준편차를 구하시오 \n",
    "\n",
    "#1) 생존자 운임 평균\n",
    "mean_fare_survived = np.mean(X_train[X_train[\"Survived\"] ==1][\"Fare\"])\n",
    "std_fare_survived = np.std(X_train[X_train[\"Survived\"] ==1][\"Fare\"])\n",
    "\n",
    "#2 ) 생존확률과 사망확률\n",
    "mean_survival = np.mean(X_train[\"Survived\"])\n",
    "mean_not_survival = 1- mean_survival\n",
    "\n",
    "print(\"생존확률 = {:03.2f}%, 사망확률 = {:03.2f}%\".format(100*mean_survival, 100*mean_not_survival))\n",
    "#3)Fare와 survived의 NB모델화\n",
    "gnb = GaussianNB()\n",
    "used_features = [\n",
    "        \"Fare\"]\n",
    "gnb.fit(X_train[used_features].values, X_train[\"Survived\"])\n",
    "y_pred = gnb.predict(X_test[used_features])\n",
    "print(\"총 {}, 잘못 분류된 것: {}, 정분류율: {:05.2f}%\".format(X_test.shape[0],\n",
    "      (X_test[\"Survived\"] != y_pred).sum(), \n",
    "      100*((X_test[\"Survived\"]==y_pred).sum()/X_test.shape[0])))\n",
    "print(\"생존자 운임 표준편차: {:05.2f}\".format(np.sqrt(gnb.sigma_)[1][0]))\n",
    "print(\"생존자 운임 평균: {:05.2f}\".format(gnb.theta_[1][0]))"
   ]
  },
  {
   "cell_type": "markdown",
   "metadata": {},
   "source": [
    "# 문제\n",
    "- 결측치 처리\n",
    "- 잘못된 데이터 cleaning\n",
    "- 범주화\n",
    "- naive bayes 모델 생성 후 테스팅( GaussianNB() )"
   ]
  },
  {
   "cell_type": "code",
   "execution_count": 157,
   "metadata": {},
   "outputs": [],
   "source": [
    "from sklearn.preprocessing import Imputer\n",
    "from sklearn import preprocessing\n",
    "from sklearn.naive_bayes import GaussianNB\n",
    "from sklearn.metrics import accuracy_score\n",
    "adult_df = pd.read_csv(\"adult.data\", header = None, delimiter=\" *, *\", engine=\"python\")\n",
    "adult_df.columns = ['age', 'workclass', 'fnlwgt', 'education', 'education_num', \n",
    "                    'maritial_status', 'occupation', 'relationship', 'race', 'sex', 'capital_gain', 'capital_loss',\n",
    "                   'hours_per_week', 'native_country', 'income']"
   ]
  },
  {
   "cell_type": "code",
   "execution_count": 158,
   "metadata": {},
   "outputs": [
    {
     "name": "stdout",
     "output_type": "stream",
     "text": [
      "(32561, 15)\n",
      "age                0\n",
      "workclass          0\n",
      "fnlwgt             0\n",
      "education          0\n",
      "education_num      0\n",
      "maritial_status    0\n",
      "occupation         0\n",
      "relationship       0\n",
      "race               0\n",
      "sex                0\n",
      "capital_gain       0\n",
      "capital_loss       0\n",
      "hours_per_week     0\n",
      "native_country     0\n",
      "income             0\n",
      "dtype: int64\n"
     ]
    },
    {
     "data": {
      "text/plain": [
       "age                 int64\n",
       "workclass          object\n",
       "fnlwgt              int64\n",
       "education          object\n",
       "education_num       int64\n",
       "maritial_status    object\n",
       "occupation         object\n",
       "relationship       object\n",
       "race               object\n",
       "sex                object\n",
       "capital_gain        int64\n",
       "capital_loss        int64\n",
       "hours_per_week      int64\n",
       "native_country     object\n",
       "income             object\n",
       "dtype: object"
      ]
     },
     "execution_count": 158,
     "metadata": {},
     "output_type": "execute_result"
    }
   ],
   "source": [
    "print(adult_df.shape)\n",
    "print(adult_df.isnull().sum())\n",
    "adult_df.dtypes"
   ]
  },
  {
   "cell_type": "code",
   "execution_count": 160,
   "metadata": {
    "scrolled": true
   },
   "outputs": [
    {
     "data": {
      "text/html": [
       "<div>\n",
       "<style scoped>\n",
       "    .dataframe tbody tr th:only-of-type {\n",
       "        vertical-align: middle;\n",
       "    }\n",
       "\n",
       "    .dataframe tbody tr th {\n",
       "        vertical-align: top;\n",
       "    }\n",
       "\n",
       "    .dataframe thead th {\n",
       "        text-align: right;\n",
       "    }\n",
       "</style>\n",
       "<table border=\"1\" class=\"dataframe\">\n",
       "  <thead>\n",
       "    <tr style=\"text-align: right;\">\n",
       "      <th></th>\n",
       "      <th>age</th>\n",
       "      <th>workclass</th>\n",
       "      <th>fnlwgt</th>\n",
       "      <th>education</th>\n",
       "      <th>education_num</th>\n",
       "      <th>maritial_status</th>\n",
       "      <th>occupation</th>\n",
       "      <th>relationship</th>\n",
       "      <th>race</th>\n",
       "      <th>sex</th>\n",
       "      <th>capital_gain</th>\n",
       "      <th>capital_loss</th>\n",
       "      <th>hours_per_week</th>\n",
       "      <th>native_country</th>\n",
       "      <th>income</th>\n",
       "    </tr>\n",
       "  </thead>\n",
       "  <tbody>\n",
       "    <tr>\n",
       "      <th>0</th>\n",
       "      <td>39</td>\n",
       "      <td>State-gov</td>\n",
       "      <td>77516</td>\n",
       "      <td>Bachelors</td>\n",
       "      <td>13</td>\n",
       "      <td>Never-married</td>\n",
       "      <td>Adm-clerical</td>\n",
       "      <td>Not-in-family</td>\n",
       "      <td>White</td>\n",
       "      <td>Male</td>\n",
       "      <td>2174</td>\n",
       "      <td>0</td>\n",
       "      <td>40</td>\n",
       "      <td>United-States</td>\n",
       "      <td>&lt;=50K</td>\n",
       "    </tr>\n",
       "    <tr>\n",
       "      <th>1</th>\n",
       "      <td>50</td>\n",
       "      <td>Self-emp-not-inc</td>\n",
       "      <td>83311</td>\n",
       "      <td>Bachelors</td>\n",
       "      <td>13</td>\n",
       "      <td>Married-civ-spouse</td>\n",
       "      <td>Exec-managerial</td>\n",
       "      <td>Husband</td>\n",
       "      <td>White</td>\n",
       "      <td>Male</td>\n",
       "      <td>0</td>\n",
       "      <td>0</td>\n",
       "      <td>13</td>\n",
       "      <td>United-States</td>\n",
       "      <td>&lt;=50K</td>\n",
       "    </tr>\n",
       "    <tr>\n",
       "      <th>2</th>\n",
       "      <td>38</td>\n",
       "      <td>Private</td>\n",
       "      <td>215646</td>\n",
       "      <td>HS-grad</td>\n",
       "      <td>9</td>\n",
       "      <td>Divorced</td>\n",
       "      <td>Handlers-cleaners</td>\n",
       "      <td>Not-in-family</td>\n",
       "      <td>White</td>\n",
       "      <td>Male</td>\n",
       "      <td>0</td>\n",
       "      <td>0</td>\n",
       "      <td>40</td>\n",
       "      <td>United-States</td>\n",
       "      <td>&lt;=50K</td>\n",
       "    </tr>\n",
       "    <tr>\n",
       "      <th>3</th>\n",
       "      <td>53</td>\n",
       "      <td>Private</td>\n",
       "      <td>234721</td>\n",
       "      <td>11th</td>\n",
       "      <td>7</td>\n",
       "      <td>Married-civ-spouse</td>\n",
       "      <td>Handlers-cleaners</td>\n",
       "      <td>Husband</td>\n",
       "      <td>Black</td>\n",
       "      <td>Male</td>\n",
       "      <td>0</td>\n",
       "      <td>0</td>\n",
       "      <td>40</td>\n",
       "      <td>United-States</td>\n",
       "      <td>&lt;=50K</td>\n",
       "    </tr>\n",
       "    <tr>\n",
       "      <th>4</th>\n",
       "      <td>28</td>\n",
       "      <td>Private</td>\n",
       "      <td>338409</td>\n",
       "      <td>Bachelors</td>\n",
       "      <td>13</td>\n",
       "      <td>Married-civ-spouse</td>\n",
       "      <td>Prof-specialty</td>\n",
       "      <td>Wife</td>\n",
       "      <td>Black</td>\n",
       "      <td>Female</td>\n",
       "      <td>0</td>\n",
       "      <td>0</td>\n",
       "      <td>40</td>\n",
       "      <td>Cuba</td>\n",
       "      <td>&lt;=50K</td>\n",
       "    </tr>\n",
       "  </tbody>\n",
       "</table>\n",
       "</div>"
      ],
      "text/plain": [
       "   age         workclass  fnlwgt  education  education_num  \\\n",
       "0   39         State-gov   77516  Bachelors             13   \n",
       "1   50  Self-emp-not-inc   83311  Bachelors             13   \n",
       "2   38           Private  215646    HS-grad              9   \n",
       "3   53           Private  234721       11th              7   \n",
       "4   28           Private  338409  Bachelors             13   \n",
       "\n",
       "      maritial_status         occupation   relationship   race     sex  \\\n",
       "0       Never-married       Adm-clerical  Not-in-family  White    Male   \n",
       "1  Married-civ-spouse    Exec-managerial        Husband  White    Male   \n",
       "2            Divorced  Handlers-cleaners  Not-in-family  White    Male   \n",
       "3  Married-civ-spouse  Handlers-cleaners        Husband  Black    Male   \n",
       "4  Married-civ-spouse     Prof-specialty           Wife  Black  Female   \n",
       "\n",
       "   capital_gain  capital_loss  hours_per_week native_country income  \n",
       "0          2174             0              40  United-States  <=50K  \n",
       "1             0             0              13  United-States  <=50K  \n",
       "2             0             0              40  United-States  <=50K  \n",
       "3             0             0              40  United-States  <=50K  \n",
       "4             0             0              40           Cuba  <=50K  "
      ]
     },
     "execution_count": 160,
     "metadata": {},
     "output_type": "execute_result"
    }
   ],
   "source": [
    "adult_df.head()"
   ]
  },
  {
   "cell_type": "code",
   "execution_count": 161,
   "metadata": {},
   "outputs": [],
   "source": [
    "adult_df = adult_df.drop(adult_df.loc[adult_df['workclass'] == '?', :].index)\n",
    "adult_df = adult_df.drop(adult_df.loc[adult_df['occupation'] == '?', :].index)"
   ]
  },
  {
   "cell_type": "code",
   "execution_count": 162,
   "metadata": {
    "collapsed": true
   },
   "outputs": [
    {
     "name": "stdout",
     "output_type": "stream",
     "text": [
      "{'Self-emp-not-inc': 0, 'Federal-gov': 1, 'Private': 2, 'State-gov': 3, 'Local-gov': 4, 'Self-emp-inc': 5, 'Without-pay': 6}\n",
      "{'Preschool': 0, 'Prof-school': 1, 'Masters': 2, '11th': 3, 'Assoc-acdm': 4, '5th-6th': 5, 'Assoc-voc': 6, 'Some-college': 7, '1st-4th': 8, '9th': 9, '12th': 10, 'Bachelors': 11, 'Doctorate': 12, '7th-8th': 13, '10th': 14, 'HS-grad': 15}\n",
      "{'Divorced': 0, 'Married-AF-spouse': 1, 'Married-spouse-absent': 2, 'Never-married': 3, 'Widowed': 4, 'Married-civ-spouse': 5, 'Separated': 6}\n",
      "{'Prof-specialty': 0, 'Transport-moving': 1, 'Handlers-cleaners': 2, 'Tech-support': 3, 'Adm-clerical': 4, 'Farming-fishing': 5, 'Armed-Forces': 6, 'Protective-serv': 7, 'Other-service': 8, 'Craft-repair': 9, 'Priv-house-serv': 10, 'Sales': 11, 'Machine-op-inspct': 12, 'Exec-managerial': 13}\n",
      "{'Own-child': 0, 'Other-relative': 1, 'Not-in-family': 2, 'Husband': 3, 'Unmarried': 4, 'Wife': 5}\n",
      "{'Amer-Indian-Eskimo': 0, 'Black': 1, 'Asian-Pac-Islander': 2, 'Other': 3, 'White': 4}\n",
      "{'Male': 0, 'Female': 1}\n",
      "{'England': 0, 'Peru': 1, 'Canada': 2, 'Outlying-US(Guam-USVI-etc)': 3, 'Thailand': 4, 'Ireland': 5, 'Germany': 6, 'China': 7, 'Iran': 8, 'Cambodia': 9, 'Dominican-Republic': 10, 'Italy': 11, 'Cuba': 12, 'Nicaragua': 13, 'Trinadad&Tobago': 14, 'Poland': 15, 'India': 16, 'Laos': 17, 'Columbia': 18, 'Taiwan': 19, 'Honduras': 20, 'Vietnam': 21, 'Portugal': 22, 'South': 23, 'Mexico': 24, 'Jamaica': 25, 'El-Salvador': 26, '?': 27, 'Philippines': 28, 'Ecuador': 29, 'Yugoslavia': 30, 'Hungary': 31, 'United-States': 32, 'Japan': 33, 'Hong': 34, 'Scotland': 35, 'Haiti': 36, 'Holand-Netherlands': 37, 'France': 38, 'Guatemala': 39, 'Puerto-Rico': 40, 'Greece': 41}\n"
     ]
    },
    {
     "data": {
      "text/plain": [
       "Index(['workclass', 'education', 'maritial_status', 'occupation',\n",
       "       'relationship', 'race', 'sex', 'native_country'],\n",
       "      dtype='object')"
      ]
     },
     "execution_count": 162,
     "metadata": {},
     "output_type": "execute_result"
    }
   ],
   "source": [
    "adult_df['income'] = adult_df['income'].map(lambda x: 1 if (x in \"<=50K\") else 0 )\n",
    "lst = [1, 3, 5, 6, 7, 8, 9, 13]\n",
    "for column in adult_df.columns[lst]:\n",
    "    dic = dict()\n",
    "    idx = 0\n",
    "    for i in list(set(adult_df[column])): \n",
    "        dic[i] = idx\n",
    "        idx += 1\n",
    "\n",
    "    adult_df[column] = adult_df[column].map(dic)\n",
    "    print(dic)\n",
    "adult_df.columns[lst]"
   ]
  },
  {
   "cell_type": "code",
   "execution_count": 163,
   "metadata": {
    "scrolled": true
   },
   "outputs": [
    {
     "data": {
      "text/html": [
       "<div>\n",
       "<style scoped>\n",
       "    .dataframe tbody tr th:only-of-type {\n",
       "        vertical-align: middle;\n",
       "    }\n",
       "\n",
       "    .dataframe tbody tr th {\n",
       "        vertical-align: top;\n",
       "    }\n",
       "\n",
       "    .dataframe thead th {\n",
       "        text-align: right;\n",
       "    }\n",
       "</style>\n",
       "<table border=\"1\" class=\"dataframe\">\n",
       "  <thead>\n",
       "    <tr style=\"text-align: right;\">\n",
       "      <th></th>\n",
       "      <th>age</th>\n",
       "      <th>workclass</th>\n",
       "      <th>fnlwgt</th>\n",
       "      <th>education</th>\n",
       "      <th>education_num</th>\n",
       "      <th>maritial_status</th>\n",
       "      <th>occupation</th>\n",
       "      <th>relationship</th>\n",
       "      <th>race</th>\n",
       "      <th>sex</th>\n",
       "      <th>capital_gain</th>\n",
       "      <th>capital_loss</th>\n",
       "      <th>hours_per_week</th>\n",
       "      <th>native_country</th>\n",
       "      <th>income</th>\n",
       "    </tr>\n",
       "  </thead>\n",
       "  <tbody>\n",
       "    <tr>\n",
       "      <th>0</th>\n",
       "      <td>39</td>\n",
       "      <td>3</td>\n",
       "      <td>77516</td>\n",
       "      <td>11</td>\n",
       "      <td>13</td>\n",
       "      <td>3</td>\n",
       "      <td>4</td>\n",
       "      <td>2</td>\n",
       "      <td>4</td>\n",
       "      <td>0</td>\n",
       "      <td>2174</td>\n",
       "      <td>0</td>\n",
       "      <td>40</td>\n",
       "      <td>32</td>\n",
       "      <td>1</td>\n",
       "    </tr>\n",
       "    <tr>\n",
       "      <th>1</th>\n",
       "      <td>50</td>\n",
       "      <td>0</td>\n",
       "      <td>83311</td>\n",
       "      <td>11</td>\n",
       "      <td>13</td>\n",
       "      <td>5</td>\n",
       "      <td>13</td>\n",
       "      <td>3</td>\n",
       "      <td>4</td>\n",
       "      <td>0</td>\n",
       "      <td>0</td>\n",
       "      <td>0</td>\n",
       "      <td>13</td>\n",
       "      <td>32</td>\n",
       "      <td>1</td>\n",
       "    </tr>\n",
       "    <tr>\n",
       "      <th>2</th>\n",
       "      <td>38</td>\n",
       "      <td>2</td>\n",
       "      <td>215646</td>\n",
       "      <td>15</td>\n",
       "      <td>9</td>\n",
       "      <td>0</td>\n",
       "      <td>2</td>\n",
       "      <td>2</td>\n",
       "      <td>4</td>\n",
       "      <td>0</td>\n",
       "      <td>0</td>\n",
       "      <td>0</td>\n",
       "      <td>40</td>\n",
       "      <td>32</td>\n",
       "      <td>1</td>\n",
       "    </tr>\n",
       "    <tr>\n",
       "      <th>3</th>\n",
       "      <td>53</td>\n",
       "      <td>2</td>\n",
       "      <td>234721</td>\n",
       "      <td>3</td>\n",
       "      <td>7</td>\n",
       "      <td>5</td>\n",
       "      <td>2</td>\n",
       "      <td>3</td>\n",
       "      <td>1</td>\n",
       "      <td>0</td>\n",
       "      <td>0</td>\n",
       "      <td>0</td>\n",
       "      <td>40</td>\n",
       "      <td>32</td>\n",
       "      <td>1</td>\n",
       "    </tr>\n",
       "    <tr>\n",
       "      <th>4</th>\n",
       "      <td>28</td>\n",
       "      <td>2</td>\n",
       "      <td>338409</td>\n",
       "      <td>11</td>\n",
       "      <td>13</td>\n",
       "      <td>5</td>\n",
       "      <td>0</td>\n",
       "      <td>5</td>\n",
       "      <td>1</td>\n",
       "      <td>1</td>\n",
       "      <td>0</td>\n",
       "      <td>0</td>\n",
       "      <td>40</td>\n",
       "      <td>12</td>\n",
       "      <td>1</td>\n",
       "    </tr>\n",
       "  </tbody>\n",
       "</table>\n",
       "</div>"
      ],
      "text/plain": [
       "   age  workclass  fnlwgt  education  education_num  maritial_status  \\\n",
       "0   39          3   77516         11             13                3   \n",
       "1   50          0   83311         11             13                5   \n",
       "2   38          2  215646         15              9                0   \n",
       "3   53          2  234721          3              7                5   \n",
       "4   28          2  338409         11             13                5   \n",
       "\n",
       "   occupation  relationship  race  sex  capital_gain  capital_loss  \\\n",
       "0           4             2     4    0          2174             0   \n",
       "1          13             3     4    0             0             0   \n",
       "2           2             2     4    0             0             0   \n",
       "3           2             3     1    0             0             0   \n",
       "4           0             5     1    1             0             0   \n",
       "\n",
       "   hours_per_week  native_country  income  \n",
       "0              40              32       1  \n",
       "1              13              32       1  \n",
       "2              40              32       1  \n",
       "3              40              32       1  \n",
       "4              40              12       1  "
      ]
     },
     "execution_count": 163,
     "metadata": {},
     "output_type": "execute_result"
    }
   ],
   "source": [
    "adult_df.head()"
   ]
  },
  {
   "cell_type": "code",
   "execution_count": 180,
   "metadata": {},
   "outputs": [
    {
     "ename": "ValueError",
     "evalue": "Length mismatch: Expected axis has 1 elements, new values have 15 elements",
     "output_type": "error",
     "traceback": [
      "\u001b[1;31m---------------------------------------------------------------------------\u001b[0m",
      "\u001b[1;31mValueError\u001b[0m                                Traceback (most recent call last)",
      "\u001b[1;32m<ipython-input-180-9da03e4c7a99>\u001b[0m in \u001b[0;36m<module>\u001b[1;34m()\u001b[0m\n\u001b[0;32m      2\u001b[0m test.columns = ['age', 'workclass', 'fnlwgt', 'education', 'education_num', \n\u001b[0;32m      3\u001b[0m                     \u001b[1;34m'maritial_status'\u001b[0m\u001b[1;33m,\u001b[0m \u001b[1;34m'occupation'\u001b[0m\u001b[1;33m,\u001b[0m \u001b[1;34m'relationship'\u001b[0m\u001b[1;33m,\u001b[0m \u001b[1;34m'race'\u001b[0m\u001b[1;33m,\u001b[0m \u001b[1;34m'sex'\u001b[0m\u001b[1;33m,\u001b[0m \u001b[1;34m'capital_gain'\u001b[0m\u001b[1;33m,\u001b[0m \u001b[1;34m'capital_loss'\u001b[0m\u001b[1;33m,\u001b[0m\u001b[1;33m\u001b[0m\u001b[0m\n\u001b[1;32m----> 4\u001b[1;33m                    'hours_per_week', 'native_country', 'income']\n\u001b[0m\u001b[0;32m      5\u001b[0m \u001b[0mtest\u001b[0m\u001b[1;33m.\u001b[0m\u001b[0mhead\u001b[0m\u001b[1;33m(\u001b[0m\u001b[1;33m)\u001b[0m\u001b[1;33m\u001b[0m\u001b[0m\n",
      "\u001b[1;32m~\\Anaconda3\\lib\\site-packages\\pandas\\core\\generic.py\u001b[0m in \u001b[0;36m__setattr__\u001b[1;34m(self, name, value)\u001b[0m\n\u001b[0;32m   4383\u001b[0m         \u001b[1;32mtry\u001b[0m\u001b[1;33m:\u001b[0m\u001b[1;33m\u001b[0m\u001b[0m\n\u001b[0;32m   4384\u001b[0m             \u001b[0mobject\u001b[0m\u001b[1;33m.\u001b[0m\u001b[0m__getattribute__\u001b[0m\u001b[1;33m(\u001b[0m\u001b[0mself\u001b[0m\u001b[1;33m,\u001b[0m \u001b[0mname\u001b[0m\u001b[1;33m)\u001b[0m\u001b[1;33m\u001b[0m\u001b[0m\n\u001b[1;32m-> 4385\u001b[1;33m             \u001b[1;32mreturn\u001b[0m \u001b[0mobject\u001b[0m\u001b[1;33m.\u001b[0m\u001b[0m__setattr__\u001b[0m\u001b[1;33m(\u001b[0m\u001b[0mself\u001b[0m\u001b[1;33m,\u001b[0m \u001b[0mname\u001b[0m\u001b[1;33m,\u001b[0m \u001b[0mvalue\u001b[0m\u001b[1;33m)\u001b[0m\u001b[1;33m\u001b[0m\u001b[0m\n\u001b[0m\u001b[0;32m   4386\u001b[0m         \u001b[1;32mexcept\u001b[0m \u001b[0mAttributeError\u001b[0m\u001b[1;33m:\u001b[0m\u001b[1;33m\u001b[0m\u001b[0m\n\u001b[0;32m   4387\u001b[0m             \u001b[1;32mpass\u001b[0m\u001b[1;33m\u001b[0m\u001b[0m\n",
      "\u001b[1;32mpandas\\_libs\\properties.pyx\u001b[0m in \u001b[0;36mpandas._libs.properties.AxisProperty.__set__\u001b[1;34m()\u001b[0m\n",
      "\u001b[1;32m~\\Anaconda3\\lib\\site-packages\\pandas\\core\\generic.py\u001b[0m in \u001b[0;36m_set_axis\u001b[1;34m(self, axis, labels)\u001b[0m\n\u001b[0;32m    643\u001b[0m \u001b[1;33m\u001b[0m\u001b[0m\n\u001b[0;32m    644\u001b[0m     \u001b[1;32mdef\u001b[0m \u001b[0m_set_axis\u001b[0m\u001b[1;33m(\u001b[0m\u001b[0mself\u001b[0m\u001b[1;33m,\u001b[0m \u001b[0maxis\u001b[0m\u001b[1;33m,\u001b[0m \u001b[0mlabels\u001b[0m\u001b[1;33m)\u001b[0m\u001b[1;33m:\u001b[0m\u001b[1;33m\u001b[0m\u001b[0m\n\u001b[1;32m--> 645\u001b[1;33m         \u001b[0mself\u001b[0m\u001b[1;33m.\u001b[0m\u001b[0m_data\u001b[0m\u001b[1;33m.\u001b[0m\u001b[0mset_axis\u001b[0m\u001b[1;33m(\u001b[0m\u001b[0maxis\u001b[0m\u001b[1;33m,\u001b[0m \u001b[0mlabels\u001b[0m\u001b[1;33m)\u001b[0m\u001b[1;33m\u001b[0m\u001b[0m\n\u001b[0m\u001b[0;32m    646\u001b[0m         \u001b[0mself\u001b[0m\u001b[1;33m.\u001b[0m\u001b[0m_clear_item_cache\u001b[0m\u001b[1;33m(\u001b[0m\u001b[1;33m)\u001b[0m\u001b[1;33m\u001b[0m\u001b[0m\n\u001b[0;32m    647\u001b[0m \u001b[1;33m\u001b[0m\u001b[0m\n",
      "\u001b[1;32m~\\Anaconda3\\lib\\site-packages\\pandas\\core\\internals.py\u001b[0m in \u001b[0;36mset_axis\u001b[1;34m(self, axis, new_labels)\u001b[0m\n\u001b[0;32m   3321\u001b[0m             raise ValueError(\n\u001b[0;32m   3322\u001b[0m                 \u001b[1;34m'Length mismatch: Expected axis has {old} elements, new '\u001b[0m\u001b[1;33m\u001b[0m\u001b[0m\n\u001b[1;32m-> 3323\u001b[1;33m                 'values have {new} elements'.format(old=old_len, new=new_len))\n\u001b[0m\u001b[0;32m   3324\u001b[0m \u001b[1;33m\u001b[0m\u001b[0m\n\u001b[0;32m   3325\u001b[0m         \u001b[0mself\u001b[0m\u001b[1;33m.\u001b[0m\u001b[0maxes\u001b[0m\u001b[1;33m[\u001b[0m\u001b[0maxis\u001b[0m\u001b[1;33m]\u001b[0m \u001b[1;33m=\u001b[0m \u001b[0mnew_labels\u001b[0m\u001b[1;33m\u001b[0m\u001b[0m\n",
      "\u001b[1;31mValueError\u001b[0m: Length mismatch: Expected axis has 1 elements, new values have 15 elements"
     ]
    }
   ],
   "source": [
    "test = pd.read_csv(\"adult.test\", header = None, delimiter=\" *, *\", engine=\"python\")\n",
    "test.columns = ['age', 'workclass', 'fnlwgt', 'education', 'education_num', \n",
    "                    'maritial_status', 'occupation', 'relationship', 'race', 'sex', 'capital_gain', 'capital_loss',\n",
    "                   'hours_per_week', 'native_country', 'income']\n",
    "test.head()"
   ]
  },
  {
   "cell_type": "code",
   "execution_count": 175,
   "metadata": {},
   "outputs": [
    {
     "name": "stdout",
     "output_type": "stream",
     "text": [
      "총 15359 , 잘못 분류된 것 : 3242, 정 분류율 : 78.89%\n",
      "부자 = 74.93%, 거지 = 25.07%\n",
      "총 15359, 잘못 분류된 것: 3800, 정분류율: 75.26%\n",
      "교육 임금 표준편차: 02.44\n",
      "교육 임금 평균: 09.64\n"
     ]
    }
   ],
   "source": [
    "X_train, X_test = train_test_split(adult_df, test_size=0.5, random_state=int(time.time()))\n",
    "gnb = GaussianNB()\n",
    "gnb.fit(X_train.values, X_train[\"income\"])\n",
    "y_pred = gnb.predict(X_test)\n",
    "print(\"총 {} , 잘못 분류된 것 : {}, 정 분류율 : {:05.2f}%\".format(X_test.shape[0], (X_test[\"income\"]!=y_pred).sum(), \n",
    "                                                      100*((X_test[\"income\"] == y_pred).sum()/X_test.shape[0])))\n",
    "\n",
    "mean_income_education = np.mean(X_train[X_train[\"income\"] ==1][\"education_num\"])\n",
    "std_income_education = np.std(X_train[X_train[\"income\"] ==1][\"education_num\"])\n",
    "\n",
    "rich = np.mean(X_train[\"income\"])\n",
    "not_rich = 1- rich\n",
    "print(\"부자 = {:03.2f}%, 거지 = {:03.2f}%\".format(100*rich, 100 * not_rich))\n",
    "\n",
    "gnb = GaussianNB()\n",
    "used_features = [\"education_num\"]\n",
    "gnb.fit(X_train[used_features].values, X_train[\"income\"])\n",
    "y_pred = gnb.predict(X_test)\n",
    "print(\"총 {}, 잘못 분류된 것: {}, 정분류율: {:05.2f}%\".format(X_test.shape[0],\n",
    "      (X_test[\"income\"] != y_pred).sum(), \n",
    "      100*((X_test[\"income\"]==y_pred).sum()/X_test.shape[0])))\n",
    "print(\"교육 임금 표준편차: {:05.2f}\".format(np.sqrt(gnb.sigma_)[1][0]))\n",
    "print(\"교육 임금 평균: {:05.2f}\".format(gnb.theta_[1][0]))"
   ]
  },
  {
   "cell_type": "code",
   "execution_count": null,
   "metadata": {},
   "outputs": [],
   "source": []
  },
  {
   "cell_type": "code",
   "execution_count": null,
   "metadata": {},
   "outputs": [],
   "source": []
  },
  {
   "cell_type": "code",
   "execution_count": null,
   "metadata": {},
   "outputs": [],
   "source": []
  },
  {
   "cell_type": "code",
   "execution_count": null,
   "metadata": {},
   "outputs": [],
   "source": []
  },
  {
   "cell_type": "code",
   "execution_count": null,
   "metadata": {},
   "outputs": [],
   "source": []
  },
  {
   "cell_type": "code",
   "execution_count": null,
   "metadata": {},
   "outputs": [],
   "source": []
  },
  {
   "cell_type": "code",
   "execution_count": null,
   "metadata": {},
   "outputs": [],
   "source": []
  },
  {
   "cell_type": "code",
   "execution_count": null,
   "metadata": {},
   "outputs": [],
   "source": []
  },
  {
   "cell_type": "code",
   "execution_count": null,
   "metadata": {},
   "outputs": [],
   "source": []
  },
  {
   "cell_type": "code",
   "execution_count": null,
   "metadata": {},
   "outputs": [],
   "source": []
  },
  {
   "cell_type": "code",
   "execution_count": null,
   "metadata": {},
   "outputs": [],
   "source": []
  },
  {
   "cell_type": "code",
   "execution_count": null,
   "metadata": {},
   "outputs": [],
   "source": []
  }
 ],
 "metadata": {
  "kernelspec": {
   "display_name": "Python 3",
   "language": "python",
   "name": "python3"
  },
  "language_info": {
   "codemirror_mode": {
    "name": "ipython",
    "version": 3
   },
   "file_extension": ".py",
   "mimetype": "text/x-python",
   "name": "python",
   "nbconvert_exporter": "python",
   "pygments_lexer": "ipython3",
   "version": "3.6.5"
  }
 },
 "nbformat": 4,
 "nbformat_minor": 2
}
