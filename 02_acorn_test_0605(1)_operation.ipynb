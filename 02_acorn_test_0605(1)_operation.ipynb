{
 "cells": [
  {
   "cell_type": "markdown",
   "metadata": {},
   "source": [
    "# 메모리 구조"
   ]
  },
  {
   "cell_type": "code",
   "execution_count": 5,
   "metadata": {},
   "outputs": [
    {
     "name": "stdout",
     "output_type": "stream",
     "text": [
      "[5, 7, 6, 2]\n"
     ]
    }
   ],
   "source": [
    "#f리스트와 인덱스\n",
    "t = [5,7,6,2]  #리스트  (만약에 []가 없다면 튜플이 된다-->디폴트 데이터 타입은 튜플)\n",
    "print(t)"
   ]
  },
  {
   "cell_type": "code",
   "execution_count": 2,
   "metadata": {},
   "outputs": [
    {
     "name": "stdout",
     "output_type": "stream",
     "text": [
      "4 7 2 20\n"
     ]
    }
   ],
   "source": [
    "print(len(t), max(t),min(t),sum(t))"
   ]
  },
  {
   "cell_type": "code",
   "execution_count": 4,
   "metadata": {},
   "outputs": [
    {
     "name": "stdout",
     "output_type": "stream",
     "text": [
      "5 2 [5, 7]\n"
     ]
    }
   ],
   "source": [
    "print(t[0],t[-1],t[:2])  #함수는 함수명(    )에 들어간 것을 매개변수라고 한다. 함수안에는 매개변수의 개수를 마음대로 정할 수 있다=변동매개변수\n"
   ]
  },
  {
   "cell_type": "code",
   "execution_count": 6,
   "metadata": {},
   "outputs": [
    {
     "name": "stdout",
     "output_type": "stream",
     "text": [
      "True\n",
      "True\n"
     ]
    }
   ],
   "source": [
    "#비교 연산자\n",
    "a = 20\n",
    "b = 10\n",
    "c = a > 10 and b < 50\n",
    "print(c)\n",
    "c = 10 < a< 50\n",
    "print(c)"
   ]
  },
  {
   "cell_type": "code",
   "execution_count": 8,
   "metadata": {},
   "outputs": [
    {
     "name": "stdout",
     "output_type": "stream",
     "text": [
      "6 5\n"
     ]
    }
   ],
   "source": [
    "#python은 multi return이 가능하다\n",
    "#swaping\n",
    "\n",
    "x = 5\n",
    "y = 6\n",
    "x,y = y, x\n",
    "print(x,y)   #데이터의 할당을 보여준다. 바로 윗 줄의 코드에서 x자리에 y값을 할당하고 y자리에 x값을 할당했기 때문에 (=muti return)\n"
   ]
  },
  {
   "cell_type": "code",
   "execution_count": 11,
   "metadata": {},
   "outputs": [
    {
     "name": "stdout",
     "output_type": "stream",
     "text": [
      "2\n",
      "숫자를 입력하시오 : 50\n",
      "숫자를 입력하시오 : 60\n",
      "제일 큰 수는 :  60.\n"
     ]
    }
   ],
   "source": [
    "#quiz\n",
    "#숫자 두개를 입력 받아서 큰 수를 출력하시오\n",
    "d = 1,2\n",
    "print(max(d))\n",
    "\n",
    "num1 = eval(input(\"숫자를 입력하시오 : \"))\n",
    "num2 = eval(input(\"숫자를 입력하시오 : \"))\n",
    "if num1 > num2:\n",
    "    largestValue = num1   #초기화만 되면 어디에서나 변수 선언이 가능\n",
    "else:\n",
    "    largestValue = num2\n",
    "print(\"제일 큰 수는 : \", str(largestValue) + \".\")\n"
   ]
  },
  {
   "cell_type": "code",
   "execution_count": 12,
   "metadata": {},
   "outputs": [
    {
     "name": "stdout",
     "output_type": "stream",
     "text": [
      "숫자를 입력하시오 : 50\n",
      "숫자를 입력하시오 : 60\n",
      "숫자를 입력하시오 : 70\n",
      "제일 큰 수는:  70.\n"
     ]
    }
   ],
   "source": [
    "#세 개의 수를 입력 받아서 가장 큰 수를 출력하라\n",
    "\n",
    "num1 = eval(input(\"숫자를 입력하시오 : \"))\n",
    "\n",
    "num2 = eval(input(\"숫자를 입력하시오 : \"))\n",
    "\n",
    "num3 = eval(input(\"숫자를 입력하시오 : \"))\n",
    "\n",
    "if num1 > num2:\n",
    "    largestValue = num1\n",
    "elif num2 > num3:\n",
    "    largestVlue = num2\n",
    "else:\n",
    "    largestValue = num3\n",
    "print(\"제일 큰 수는: \", str(largestValue) + \".\")   #largestValue 대신 max를 써도 된다\n",
    "\n"
   ]
  },
  {
   "cell_type": "code",
   "execution_count": 13,
   "metadata": {},
   "outputs": [
    {
     "name": "stdout",
     "output_type": "stream",
     "text": [
      "Maxinum is:  10\n"
     ]
    }
   ],
   "source": [
    "#max함수 \n",
    "num = [1,3,2,8,5,10,6]\n",
    "print('Maxinum is: ', max(num))"
   ]
  }
 ],
 "metadata": {
  "kernelspec": {
   "display_name": "Python 3",
   "language": "python",
   "name": "python3"
  },
  "language_info": {
   "codemirror_mode": {
    "name": "ipython",
    "version": 3
   },
   "file_extension": ".py",
   "mimetype": "text/x-python",
   "name": "python",
   "nbconvert_exporter": "python",
   "pygments_lexer": "ipython3",
   "version": "3.6.5"
  }
 },
 "nbformat": 4,
 "nbformat_minor": 2
}
