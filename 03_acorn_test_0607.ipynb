{
 "cells": [
  {
   "cell_type": "code",
   "execution_count": 29,
   "metadata": {},
   "outputs": [
    {
     "name": "stdout",
     "output_type": "stream",
     "text": [
      "이름을 입력하시오: a\n",
      "국어 점수를 입력하시오: 5\n",
      "영어 점수를 입력하시오: 6\n",
      "수학 점수를 입력하시오: 89\n",
      "이름을 입력하시오: s\n",
      "국어 점수를 입력하시오: 4\n",
      "영어 점수를 입력하시오: \n",
      "수학 점수를 입력하시오: 2\n",
      "이름을 입력하시오: 5\n",
      "국어 점수를 입력하시오: 4\n",
      "영어 점수를 입력하시오: 5\n",
      "수학 점수를 입력하시오: 6\n"
     ]
    },
    {
     "ename": "ValueError",
     "evalue": "invalid literal for int() with base 10: ''",
     "output_type": "error",
     "traceback": [
      "\u001b[1;31m---------------------------------------------------------------------------\u001b[0m",
      "\u001b[1;31mValueError\u001b[0m                                Traceback (most recent call last)",
      "\u001b[1;32m<ipython-input-29-b7da85e8fdc3>\u001b[0m in \u001b[0;36m<module>\u001b[1;34m()\u001b[0m\n\u001b[0;32m     26\u001b[0m         \u001b[0mjumsu\u001b[0m \u001b[1;33m=\u001b[0m \u001b[0msung\u001b[0m\u001b[1;33m[\u001b[0m\u001b[0mno\u001b[0m\u001b[1;33m]\u001b[0m\u001b[1;33m\u001b[0m\u001b[0m\n\u001b[0;32m     27\u001b[0m         \u001b[1;31m#if jumsu.isdigit(): #정수 숫자인지 확인\u001b[0m\u001b[1;33m\u001b[0m\u001b[1;33m\u001b[0m\u001b[0m\n\u001b[1;32m---> 28\u001b[1;33m         \u001b[0mtotal\u001b[0m \u001b[1;33m+=\u001b[0m \u001b[0mint\u001b[0m\u001b[1;33m(\u001b[0m\u001b[0mjumsu\u001b[0m\u001b[1;33m)\u001b[0m\u001b[1;33m\u001b[0m\u001b[0m\n\u001b[0m\u001b[0;32m     29\u001b[0m     \u001b[0maverage\u001b[0m \u001b[1;33m=\u001b[0m \u001b[0mround\u001b[0m\u001b[1;33m(\u001b[0m\u001b[0mtotal\u001b[0m \u001b[1;33m/\u001b[0m\u001b[1;36m3\u001b[0m\u001b[1;33m,\u001b[0m\u001b[1;36m2\u001b[0m\u001b[1;33m)\u001b[0m\u001b[1;33m\u001b[0m\u001b[0m\n\u001b[0;32m     30\u001b[0m     \u001b[0msung\u001b[0m\u001b[1;33m.\u001b[0m\u001b[0mappend\u001b[0m\u001b[1;33m(\u001b[0m\u001b[0mtotal\u001b[0m\u001b[1;33m)\u001b[0m\u001b[1;33m\u001b[0m\u001b[0m\n",
      "\u001b[1;31mValueError\u001b[0m: invalid literal for int() with base 10: ''"
     ]
    }
   ],
   "source": [
    "#이름,국어, 영어, 수학 점수들을 입력받고\n",
    "#총점, 평균,(for 문) 석차(총점이 큰 순으로 정렬하고)를 계산해라\n",
    "#출력하시오\n",
    "\n",
    "sungjuk = []  #초기화\n",
    "banho = 0\n",
    "for i in range(3):\n",
    "    person = []  #1사람분\n",
    "    banho = banho +1\n",
    "    name = input(\"이름을 입력하시오: \")\n",
    "    kor = input(\"국어 점수를 입력하시오: \")\n",
    "    eng = input(\"영어 점수를 입력하시오: \")\n",
    "    mat = input(\"수학 점수를 입력하시오: \")  \n",
    "    \n",
    "    person.append(banho)\n",
    "    person.append(name)\n",
    "    person.append(kor)\n",
    "    person.append(eng)\n",
    "    person.append(mat)\n",
    "    sungjuk.append(person)\n",
    "\n",
    "\n",
    "for sung in sungjuk:\n",
    "    total = 0\n",
    "    for no in range(2,5):\n",
    "        jumsu = sung[no]\n",
    "        #if jumsu.isdigit(): #정수 숫자인지 확인\n",
    "        total += int(jumsu)\n",
    "    average = round(total /3,2)\n",
    "    sung.append(total)\n",
    "    sung.append(average)\n",
    "    \n",
    "print(\"이름 \\t국어 \\t 영어 \\t수학 \\t총점 \\t 평균\")\n",
    "\n",
    "for sung in sungjuk:\n",
    "    for jumsu in sung:\n",
    "        print(jumsu,'\\t',end = \"\")\n",
    "    print()\n",
    "\n",
    "#석차 : 성적 역순으로 정렬 -> \n",
    "sungjuk.sort(key = lambda row : row[5], reverse = True)\n",
    "\n",
    "for z in range(len(sungjuk)):\n",
    "    rank = 0\n",
    "    rank = rank +1\n",
    "    sungjuk[z].append(rank)\n",
    "\n",
    "#입력순으로 변경하기 위해\n",
    "sungjuk.sort(key = lambda row : row[0])\n",
    "\n",
    "\n",
    "print(\"번호, \\t이름 \\t국어 \\t영어 \\t수학 \\t총점 \\t평균 \\t석차\")\n",
    "\n",
    "for sung in sungjuk:\n",
    "    for jumsu in sung:\n",
    "        print(jumsu, '\\t', end = \"\")\n",
    "    print()\n",
    "\n",
    "\n"
   ]
  },
  {
   "cell_type": "code",
   "execution_count": 33,
   "metadata": {},
   "outputs": [
    {
     "data": {
      "text/plain": [
       "40"
      ]
     },
     "execution_count": 33,
     "metadata": {},
     "output_type": "execute_result"
    }
   ],
   "source": [
    "a = [10,20,30,40,50]\n",
    "a.append(60)\n",
    "a.pop()\n",
    "a.pop()\n",
    "a.pop()"
   ]
  },
  {
   "cell_type": "code",
   "execution_count": 35,
   "metadata": {},
   "outputs": [
    {
     "data": {
      "text/plain": [
       "10"
      ]
     },
     "execution_count": 35,
     "metadata": {},
     "output_type": "execute_result"
    }
   ],
   "source": [
    "a = [10,20,30,40,50]\n",
    "a.append(60)\n",
    "a.pop(0)\n"
   ]
  },
  {
   "cell_type": "code",
   "execution_count": 39,
   "metadata": {},
   "outputs": [
    {
     "name": "stdout",
     "output_type": "stream",
     "text": [
      "{'A', 'B', 'C'}\n"
     ]
    }
   ],
   "source": [
    "num_list = list(range(10))\n",
    "num_list = [i for i in range(10)]\n",
    "num_dict = {i: chr(i) for i in range(65,68)}\n",
    "num_set = {chr(i) for i in range(65,68)}\n",
    "print(num_set)"
   ]
  },
  {
   "cell_type": "code",
   "execution_count": 41,
   "metadata": {},
   "outputs": [
    {
     "name": "stdout",
     "output_type": "stream",
     "text": [
      "숫자를 입력하시오: 5\n",
      "*\n",
      "**\n",
      "***\n",
      "****\n",
      "*****\n"
     ]
    }
   ],
   "source": [
    "\n",
    "#range : 인덱스로 사용하고 횟수를 조절하는데 사용\n",
    "numberOfRows = int(input(\"숫자를 입력하시오: \"))\n",
    "for i in range(numberOfRows):  #열\n",
    "    for j in range(i+1):        \n",
    "        print(\"*\",end = \"\")\n",
    "    print()"
   ]
  },
  {
   "cell_type": "code",
   "execution_count": 44,
   "metadata": {},
   "outputs": [
    {
     "name": "stdout",
     "output_type": "stream",
     "text": [
      "숫자를 입력하시오: 6\n",
      "      *\n",
      "     **\n",
      "    ***\n",
      "   ****\n",
      "  *****\n",
      " ******\n"
     ]
    }
   ],
   "source": [
    "numberOfRows = int(input(\"숫자를 입력하시오: \"))\n",
    "for i in range(numberOfRows):  #열\n",
    "    for j in range(numberOfRows -i):        \n",
    "        print(\" \",end = \"\")\n",
    "    for j in range(i+1):\n",
    "        print(\"*\", end = '')\n",
    "    print()"
   ]
  },
  {
   "cell_type": "code",
   "execution_count": 46,
   "metadata": {},
   "outputs": [
    {
     "name": "stdout",
     "output_type": "stream",
     "text": [
      "숫자를 입력하시오: 5\n",
      "     *\n",
      "    ***\n",
      "   *****\n",
      "  *******\n",
      " *********\n"
     ]
    }
   ],
   "source": [
    "numberOfRows = int(input(\"숫자를 입력하시오: \"))\n",
    "for i in range(numberOfRows):  #열\n",
    "    for j in range(numberOfRows-i):        \n",
    "        print(\" \",end = \"\")\n",
    "    for k in range(i+1):        \n",
    "        print(\"*\",end = \"\")\n",
    "    for k in range(i):        \n",
    "        print(\"*\",end = \"\")\n",
    "    print()\n",
    "    \n",
    "    "
   ]
  },
  {
   "cell_type": "code",
   "execution_count": 47,
   "metadata": {},
   "outputs": [
    {
     "ename": "SyntaxError",
     "evalue": "invalid syntax (<ipython-input-47-814a1938db66>, line 1)",
     "output_type": "error",
     "traceback": [
      "\u001b[1;36m  File \u001b[1;32m\"<ipython-input-47-814a1938db66>\"\u001b[1;36m, line \u001b[1;32m1\u001b[0m\n\u001b[1;33m    print('What's your name?\")\u001b[0m\n\u001b[1;37m                ^\u001b[0m\n\u001b[1;31mSyntaxError\u001b[0m\u001b[1;31m:\u001b[0m invalid syntax\n"
     ]
    }
   ],
   "source": [
    "print('What's your name?\")"
   ]
  },
  {
   "cell_type": "code",
   "execution_count": 49,
   "metadata": {},
   "outputs": [
    {
     "name": "stdout",
     "output_type": "stream",
     "text": [
      "What's your name?\n"
     ]
    }
   ],
   "source": [
    "print('What\\'s your name?')  #\"\"안에 ''를 넣고 싶으면 ''앞에 \\를 넣어라"
   ]
  },
  {
   "cell_type": "code",
   "execution_count": 51,
   "metadata": {},
   "outputs": [
    {
     "name": "stdout",
     "output_type": "stream",
     "text": [
      "This is the first line\n",
      "This is the second line\n"
     ]
    }
   ],
   "source": [
    "print('This is the first line\\nThis is the second line')\n"
   ]
  },
  {
   "cell_type": "code",
   "execution_count": 60,
   "metadata": {},
   "outputs": [
    {
     "ename": "NameError",
     "evalue": "name 'seed' is not defined",
     "output_type": "error",
     "traceback": [
      "\u001b[1;31m---------------------------------------------------------------------------\u001b[0m",
      "\u001b[1;31mNameError\u001b[0m                                 Traceback (most recent call last)",
      "\u001b[1;32m<ipython-input-60-b4a73585e118>\u001b[0m in \u001b[0;36m<module>\u001b[1;34m()\u001b[0m\n\u001b[0;32m      1\u001b[0m \u001b[1;31m#1-100사이의 정수형의 난수를 생성하고 이를 guess하여 맞추는 game 을 작성하시오.\u001b[0m\u001b[1;33m\u001b[0m\u001b[1;33m\u001b[0m\u001b[0m\n\u001b[0;32m      2\u001b[0m \u001b[1;33m\u001b[0m\u001b[0m\n\u001b[1;32m----> 3\u001b[1;33m \u001b[0mseed\u001b[0m\u001b[1;33m.\u001b[0m\u001b[0mrandom\u001b[0m\u001b[1;33m(\u001b[0m\u001b[1;36m100\u001b[0m\u001b[1;33m)\u001b[0m\u001b[1;33m\u001b[0m\u001b[0m\n\u001b[0m",
      "\u001b[1;31mNameError\u001b[0m: name 'seed' is not defined"
     ]
    }
   ],
   "source": [
    "#1-100사이의 정수형의 난수를 생성하고 이를 guess하여 맞추는 game 을 작성하시오.\n",
    "\n",
    "seed.random(100)\n"
   ]
  },
  {
   "cell_type": "code",
   "execution_count": 65,
   "metadata": {},
   "outputs": [
    {
     "name": "stdout",
     "output_type": "stream",
     "text": [
      "상상의 수를 입력(Q to exit): 100\n",
      "작은 수를 선택하시오\n",
      "상상의 수를 입력(Q to exit): 50\n",
      "높은 수를 선택하시오\n",
      "상상의 수를 입력(Q to exit): 30\n",
      "높은 수를 선택하시오\n",
      "상상의 수를 입력(Q to exit): 10\n",
      "높은 수를 선택하시오\n",
      "상상의 수를 입력(Q to exit): 8\n",
      "높은 수를 선택하시오\n",
      "상상의 수를 입력(Q to exit): 2\n",
      "높은 수를 선택하시오\n",
      "상상의 수를 입력(Q to exit): 3\n",
      "높은 수를 선택하시오\n",
      "상상의 수를 입력(Q to exit): 5\n",
      "높은 수를 선택하시오\n",
      "상상의 수를 입력(Q to exit): 9\n",
      "높은 수를 선택하시오\n",
      "상상의 수를 입력(Q to exit): 71\n",
      "작은 수를 선택하시오\n",
      "상상의 수를 입력(Q to exit): 65\n",
      "작은 수를 선택하시오\n",
      "상상의 수를 입력(Q to exit): 55\n",
      "높은 수를 선택하시오\n",
      "상상의 수를 입력(Q to exit): 56\n",
      "높은 수를 선택하시오\n",
      "상상의 수를 입력(Q to exit): 57\n",
      "높은 수를 선택하시오\n",
      "상상의 수를 입력(Q to exit): 58\n",
      "높은 수를 선택하시오\n",
      "상상의 수를 입력(Q to exit): 59\n",
      "정답!\n"
     ]
    }
   ],
   "source": [
    "#판단문과 반복문\n",
    "\n",
    "from random import randint\n",
    "n = randint(1,100)\n",
    "\n",
    "while True:  #무한루프인 경우 종류 좆건이 반드시 존재\n",
    "    ans = input(\"상상의 수를 입력(Q to exit): \")\n",
    "    if ans.upper() ==\"Q\":\n",
    "        break\n",
    "    ians = int(ans)\n",
    "    if ( n==ians):\n",
    "        print(\"정답!\")\n",
    "        break\n",
    "    elif (n> ians):\n",
    "        print(\"높은 수를 선택하시오\")\n",
    "    else:\n",
    "        print(\"작은 수를 선택하시오\")"
   ]
  },
  {
   "cell_type": "code",
   "execution_count": 66,
   "metadata": {},
   "outputs": [
    {
     "name": "stdout",
     "output_type": "stream",
     "text": [
      "7 12\n"
     ]
    }
   ],
   "source": [
    "#함수는 여러개의 값을 리턴이 가능\n",
    "\n",
    "def calc(a,b):\n",
    "    return a+b, a*b\n",
    "x,y = calc(3,4)\n",
    "print(x,y)\n"
   ]
  },
  {
   "cell_type": "code",
   "execution_count": 67,
   "metadata": {},
   "outputs": [
    {
     "name": "stdout",
     "output_type": "stream",
     "text": [
      "name = glue, age = 24\n",
      "(9, 20)\n"
     ]
    }
   ],
   "source": [
    "format = 'name = %s, age = %s' %('glue',24)\n",
    "print(format)\n",
    "args = (4,5)\n",
    "\n",
    "print(calc(*args))"
   ]
  },
  {
   "cell_type": "code",
   "execution_count": 72,
   "metadata": {},
   "outputs": [
    {
     "name": "stdout",
     "output_type": "stream",
     "text": [
      "dict_items([('one', 1), ('two', 2)])\n",
      "{'one': 100, 'two': 2}\n"
     ]
    }
   ],
   "source": [
    "d={'one':1,'two':2}\n",
    "print(d.items())  #출력은 딕셔너리를 튜플로, 역식은 list로 변경\n",
    "d['one'] = 100  #키를 이용해서 데이터 수정\n",
    "print(d) #딕셔너리로 출력한다"
   ]
  },
  {
   "cell_type": "code",
   "execution_count": 88,
   "metadata": {},
   "outputs": [
    {
     "data": {
      "text/plain": [
       "'busan'"
      ]
     },
     "execution_count": 88,
     "metadata": {},
     "output_type": "execute_result"
    }
   ],
   "source": [
    "cities = ['seoul','incheon','suwon']\n",
    "#'busan'을 추가하시오   --->append\n",
    "#'daegu'를 맨앞에 추가하시오 -->insert\n",
    "#['jeju','kwangju']데이터를 확장하시오 -->extend\n",
    "#'seoul'의 인덱스는?\n",
    "#도시를 오름차순으로 정렬\n",
    "#도시를 내림차순으로 정렬\n",
    "#첫번째 있는 도시를 삭제하시오\n",
    "#마지막  도시를 삭제하시오 -->pop\n",
    "\n",
    "cities.append('busan')\n",
    "cities.insert(0,'daegu')\n",
    "cities.extend(['jeju','kwangju'])\n",
    "cities.index('seoul')\n",
    "cities.sort()\n",
    "cities.sort(reverse = True)\n",
    "sorted_list = sorted(cities, reverse = True)\n",
    "cities.pop(0) ; del(cities[0])\n",
    "cities.pop()\n",
    "\n",
    "\n"
   ]
  },
  {
   "cell_type": "code",
   "execution_count": 89,
   "metadata": {},
   "outputs": [
    {
     "name": "stdout",
     "output_type": "stream",
     "text": [
      "0\n",
      "1\n",
      "2\n",
      "3\n",
      "4\n",
      "5\n",
      "6\n",
      "7\n",
      "8\n",
      "9\n"
     ]
    }
   ],
   "source": [
    "for i in range(10):\n",
    "    print(i)"
   ]
  },
  {
   "cell_type": "code",
   "execution_count": 92,
   "metadata": {},
   "outputs": [
    {
     "data": {
      "text/plain": [
       "[0, 1, 2, 3, 4, 5, 6, 7, 8, 9]"
      ]
     },
     "execution_count": 92,
     "metadata": {},
     "output_type": "execute_result"
    }
   ],
   "source": [
    "[i for i in range(10)]"
   ]
  },
  {
   "cell_type": "code",
   "execution_count": 93,
   "metadata": {},
   "outputs": [
    {
     "data": {
      "text/plain": [
       "[0, 1, 4, 9, 16, 25, 36, 49, 64, 81]"
      ]
     },
     "execution_count": 93,
     "metadata": {},
     "output_type": "execute_result"
    }
   ],
   "source": [
    "[i**2 for i in range(10)]"
   ]
  },
  {
   "cell_type": "code",
   "execution_count": 95,
   "metadata": {},
   "outputs": [
    {
     "data": {
      "text/plain": [
       "{0: 0, 1: 1, 2: 8, 3: 27, 4: 64, 5: 125, 6: 216, 7: 343, 8: 512, 9: 729}"
      ]
     },
     "execution_count": 95,
     "metadata": {},
     "output_type": "execute_result"
    }
   ],
   "source": [
    "{i: i**3 for i in range(10)}"
   ]
  },
  {
   "cell_type": "code",
   "execution_count": 98,
   "metadata": {},
   "outputs": [
    {
     "data": {
      "text/plain": [
       "[0, 4, 16, 36, 64]"
      ]
     },
     "execution_count": 98,
     "metadata": {},
     "output_type": "execute_result"
    }
   ],
   "source": [
    "[i**2 for i in range(10) if i %2 ==0]"
   ]
  },
  {
   "cell_type": "code",
   "execution_count": 99,
   "metadata": {},
   "outputs": [
    {
     "ename": "NameError",
     "evalue": "name 'rows' is not defined",
     "output_type": "error",
     "traceback": [
      "\u001b[1;31m---------------------------------------------------------------------------\u001b[0m",
      "\u001b[1;31mNameError\u001b[0m                                 Traceback (most recent call last)",
      "\u001b[1;32m<ipython-input-99-0e8bbc389031>\u001b[0m in \u001b[0;36m<module>\u001b[1;34m()\u001b[0m\n\u001b[0;32m      1\u001b[0m \u001b[0mrow\u001b[0m \u001b[1;33m=\u001b[0m \u001b[0mrange\u001b[0m\u001b[1;33m(\u001b[0m\u001b[1;36m1\u001b[0m\u001b[1;33m,\u001b[0m\u001b[1;36m5\u001b[0m\u001b[1;33m)\u001b[0m\u001b[1;33m\u001b[0m\u001b[0m\n\u001b[0;32m      2\u001b[0m \u001b[0mcols\u001b[0m \u001b[1;33m=\u001b[0m \u001b[0mrange\u001b[0m\u001b[1;33m(\u001b[0m\u001b[1;36m10\u001b[0m\u001b[1;33m,\u001b[0m\u001b[1;36m15\u001b[0m\u001b[1;33m)\u001b[0m\u001b[1;33m\u001b[0m\u001b[0m\n\u001b[1;32m----> 3\u001b[1;33m \u001b[0mvectors\u001b[0m \u001b[1;33m=\u001b[0m \u001b[1;33m[\u001b[0m\u001b[1;33m(\u001b[0m\u001b[0mr\u001b[0m\u001b[1;33m,\u001b[0m\u001b[0mc\u001b[0m\u001b[1;33m)\u001b[0m \u001b[1;32mfor\u001b[0m \u001b[0mr\u001b[0m \u001b[1;32min\u001b[0m \u001b[0mrows\u001b[0m \u001b[1;32mfor\u001b[0m \u001b[0mc\u001b[0m \u001b[1;32min\u001b[0m \u001b[0mcols\u001b[0m\u001b[1;33m]\u001b[0m\u001b[1;33m\u001b[0m\u001b[0m\n\u001b[0m\u001b[0;32m      4\u001b[0m \u001b[0mvectors\u001b[0m\u001b[1;33m\u001b[0m\u001b[0m\n",
      "\u001b[1;31mNameError\u001b[0m: name 'rows' is not defined"
     ]
    }
   ],
   "source": [
    "row = range(1,5)\n",
    "cols = range(10,15)\n",
    "vectors = [(r,c) for r in rows for c in cols]\n",
    "vectors"
   ]
  },
  {
   "cell_type": "code",
   "execution_count": 101,
   "metadata": {},
   "outputs": [
    {
     "data": {
      "text/plain": [
       "[1,\n",
       " 2,\n",
       " '3의 배수',\n",
       " 4,\n",
       " '5의 배수',\n",
       " '3의 배수',\n",
       " 7,\n",
       " 8,\n",
       " '3의 배수',\n",
       " '5의 배수',\n",
       " 11,\n",
       " '3의 배수',\n",
       " 13,\n",
       " 14,\n",
       " '3의 배수5의 배수',\n",
       " 16,\n",
       " 17,\n",
       " '3의 배수',\n",
       " 19,\n",
       " '5의 배수']"
      ]
     },
     "execution_count": 101,
     "metadata": {},
     "output_type": "execute_result"
    }
   ],
   "source": [
    "['3의 배수' * (i%3 ==0) + \"5의 배수\"* (i%5 ==0) or i for i in range(1,21)]"
   ]
  },
  {
   "cell_type": "code",
   "execution_count": 103,
   "metadata": {},
   "outputs": [
    {
     "name": "stdout",
     "output_type": "stream",
     "text": [
      "국어점수를 입력하시오: 80\n",
      "수학점수를입력하시오: 90\n",
      "영어점수를 입력하시오: 56\n",
      "C입니다.\n"
     ]
    }
   ],
   "source": [
    "#점수를 입력받고 점수의 학점을 출력하시오\n",
    "ko = eval(input(\"국어점수를 입력하시오: \"))\n",
    "ma = eval(input('수학점수를입력하시오: '))\n",
    "en = eval(input('영어점수를 입력하시오: '))\n",
    "\n",
    "avg = (ko + ma+ en) %3\n",
    "if avg < 2.0:\n",
    "    print(\"C입니다.\")\n",
    "elif avg < 3.0:\n",
    "    print('B입니다')\n",
    "else:\n",
    "    print('A입니다.')\n",
    "\n",
    "\n"
   ]
  },
  {
   "cell_type": "markdown",
   "metadata": {},
   "source": [
    "# function 함수 : \n",
    "-이러한 메모창은 esc+m+enter\n",
    "-사용 목적 _재사용\n",
    "-함수는 반드시 return하게 되어 있다"
   ]
  },
  {
   "cell_type": "code",
   "execution_count": 104,
   "metadata": {},
   "outputs": [
    {
     "name": "stdout",
     "output_type": "stream",
     "text": [
      "3\n",
      "14\n"
     ]
    }
   ],
   "source": [
    "#계산함수 \n",
    "def sum(a,b):\n",
    "    result = a+b\n",
    "    return result\n",
    "\n",
    "a = 1\n",
    "b = 2\n",
    "ret = sum(a,b)\n",
    "print(ret)\n",
    "print(sum(4,10))"
   ]
  },
  {
   "cell_type": "code",
   "execution_count": 105,
   "metadata": {},
   "outputs": [
    {
     "name": "stdout",
     "output_type": "stream",
     "text": [
      "시작\n",
      "함수 내부 :  3\n",
      "함수내부 :  2\n",
      "함수외부 :  2\n"
     ]
    }
   ],
   "source": [
    "#############################지역변수와 전역변수###############################\n",
    "\n",
    "a = 1  #선언된 함수의 밖에 있다\n",
    "def vartest(a): #여기서 a는 가매개변수  -선언시-> stack에 저장됨, 이때 선언된 a = 2와 함수 밖에서 선언된 a = 1과는 다른 값이다\n",
    "    a = a+1\n",
    "    print('함수 내부 : ',a) #값을 명시적으로 리턴하지 않을 때는 리턴을 생략해도 된다.\n",
    "\n",
    "    \n",
    "def vartest2():\n",
    "    global a   #전역변수를 사용한다는 소리,즉 함수 밖에서 선언된 a = 1을 사용한다는 소리이다.\n",
    "    a = a+1\n",
    "    print('함수내부 : ',a)\n",
    "    \n",
    "print('시작')\n",
    "vartest(2) #함수를 호출하고 있는데, 이때 이때의 2를 실 매개변수라고 한다.\n",
    "vartest2()\n",
    "\n",
    "print('함수외부 : ',a)"
   ]
  },
  {
   "cell_type": "code",
   "execution_count": 111,
   "metadata": {},
   "outputs": [
    {
     "name": "stdout",
     "output_type": "stream",
     "text": [
      "시작\n",
      "add의 결과 :  30\n",
      "addition의 결과 :  30\n",
      "결과 :  (10, 20)\n",
      "끝\n"
     ]
    }
   ],
   "source": [
    "#프로그램은 순서적으로 진행되고, \n",
    "#순서를 바꾸는 행위는 if판단문과 함수로 가능\n",
    "\n",
    "#일급함수\n",
    "def add(a,b):    #가칭을 붙이자면 1번 함수 \n",
    "    return a+b\n",
    "\n",
    "def f(g,a,b):    #가칭을 붙이자면 2번 함수\n",
    "    return(a , b)\n",
    "print('시작')\n",
    "print('add의 결과 : ',add(10,20))\n",
    "\n",
    "addition = add\n",
    "print('addition의 결과 : ', addition(10,20))\n",
    "print('결과 : ',f(add,10,20)) # add는 2번함수의 g로 가서 10은 a로 20은 b로 다서 계산된다.\n",
    "\n",
    "print('끝')\n",
    "    \n"
   ]
  },
  {
   "cell_type": "code",
   "execution_count": 112,
   "metadata": {},
   "outputs": [
    {
     "name": "stdout",
     "output_type": "stream",
     "text": [
      "함수 내부에서 출력 :  [10, 20, 30, [1, 2, 3, 4]]\n",
      "함수 외부에서 출력 :  [10, 20, 30, [1, 2, 3, 4]]\n",
      "함수 내부에서 출력 :  [1, 2, 3, 4]\n",
      "함수 외부에서 출력  [10, 20, 30]\n"
     ]
    }
   ],
   "source": [
    "#over loading : 파이썬은 int,float,double으로 구분하지 않고 그냥 add라고 쓴다. 파이선은 데이터 타입을 정의하지 않기 때문에\n",
    "#overriding :  \n",
    "#python의 함수는 이미 다형성을 갖추고 있다.\n",
    "#call by value(함수 내부에서 대입이 되는 것_값이 다시 넘어오지 못한다)\n",
    "#call by referance  #파이썬은 기본적으로 call by referance\n",
    "\n",
    "def changeme(mylist):\n",
    "    mylist.append([1,2,3,4]);\n",
    "    print(\"함수 내부에서 출력 : \", mylist)\n",
    "    return \n",
    "\n",
    "mylist = [10,20,30]\n",
    "changeme(mylist);\n",
    "print(\"함수 외부에서 출력 : \", mylist)\n",
    "\n",
    "def changeme(mylist):\n",
    "    mylist = [1,2,3,4]\n",
    "    print(\"함수 내부에서 출력 : \", mylist)\n",
    "    return\n",
    "mylist = [10,20,30];\n",
    "changeme(mylist);\n",
    "\n",
    "print(\"함수 외부에서 출력 \", mylist)\n",
    "\n",
    "\n"
   ]
  },
  {
   "cell_type": "code",
   "execution_count": 119,
   "metadata": {},
   "outputs": [
    {
     "name": "stdout",
     "output_type": "stream",
     "text": [
      "시작\n",
      "(1, 2, 3)\n",
      "1,2,3,\n",
      "(1, 2, 3, 4, 5)\n",
      "1,2,3,4,5,\n",
      " args is  (1, 2)\n",
      "kwargs is {'z': 5.0}\n",
      "Hello Now I'm going to call <function g at 0x0000000004FF2950>\n",
      "1\n",
      "2\n",
      "5.0\n"
     ]
    },
    {
     "data": {
      "text/plain": [
       "0.6"
      ]
     },
     "execution_count": 119,
     "metadata": {},
     "output_type": "execute_result"
    }
   ],
   "source": [
    "#변동 매개변수: 리스트는 *, 딕셔너리는 **로 받는다\n",
    "def func1(*args):\n",
    "    print(args)\n",
    "    for i in args:\n",
    "        print(i, end = ',')\n",
    "    print()\n",
    "\n",
    "print('시작')\n",
    "\n",
    "func1(1,2,3)\n",
    "func1(1,2,3,4,5)\n",
    "\n",
    "\n",
    "def say_hello_then_call(f,*args,**kwargs):\n",
    "    print(' args is ', args)\n",
    "    print('kwargs is', kwargs)\n",
    "    print(\"Hello Now I\\'m going to call %s\" %f)\n",
    "    return f(*args, **kwargs)\n",
    "\n",
    "def g(x,y,z = 1):  #z=1은 z는 디폴트로 1이라는 소리\n",
    "    print(x)\n",
    "    print(y)\n",
    "    print(z)\n",
    "    return(x+y)/z\n",
    "\n",
    "say_hello_then_call(g,1,2,z = 5.)\n"
   ]
  },
  {
   "cell_type": "code",
   "execution_count": 123,
   "metadata": {},
   "outputs": [
    {
     "name": "stdout",
     "output_type": "stream",
     "text": [
      "1 0\n",
      "1 2\n",
      "1 2\n"
     ]
    }
   ],
   "source": [
    "#default 메개변수 : 함수 선언시 초기값을 부여, 생략이 가능\n",
    "\n",
    "def func_test2(a,b = 0):  #선언#매개변수의 순서를 변경하면 안됨\n",
    "    print(a,b)\n",
    "func_test2(1)\n",
    "func_test2(1,2)\n",
    "func_test2(b=2, a=1) #호출, 호출시의 초기값은 매개변수의 순서를 변경하는 것이 가능\n"
   ]
  },
  {
   "cell_type": "code",
   "execution_count": 126,
   "metadata": {},
   "outputs": [
    {
     "data": {
      "text/plain": [
       "True"
      ]
     },
     "execution_count": 126,
     "metadata": {},
     "output_type": "execute_result"
    }
   ],
   "source": [
    "def func_test4():  #pass를 넣으면 돌아가긴 하지만 결과값은 NONE이다\n",
    "    pass\n",
    "result = func_test4()\n",
    "result is None\n"
   ]
  },
  {
   "cell_type": "code",
   "execution_count": 128,
   "metadata": {},
   "outputs": [
    {
     "name": "stdout",
     "output_type": "stream",
     "text": [
      "(4, 4)\n",
      "4 4\n"
     ]
    }
   ],
   "source": [
    "def func_test3(a,b):\n",
    "    return a+1, b-1\n",
    "\n",
    "a = func_test3(3,5)\n",
    "print(a)\n",
    "\n",
    "a,b = func_test3(3,5)\n",
    "print(a,b)"
   ]
  },
  {
   "cell_type": "code",
   "execution_count": 130,
   "metadata": {},
   "outputs": [
    {
     "name": "stdout",
     "output_type": "stream",
     "text": [
      "1.4142135623730951\n"
     ]
    }
   ],
   "source": [
    "#두 점사이의 거리값을 구하는 함수를 작성하시오\n",
    "import math\n",
    "\n",
    "def distance_between_points(x1,y1,x2,y2):\n",
    "    dx = x1-x2\n",
    "    dy = y1-y2\n",
    "    dist = math.sqrt(dx**2 + dy**2)\n",
    "    return dist\n",
    "\n",
    "print(distance_between_points(1,1,2,2))\n",
    "\n",
    "\n"
   ]
  },
  {
   "cell_type": "code",
   "execution_count": 131,
   "metadata": {},
   "outputs": [
    {
     "data": {
      "text/plain": [
       "120"
      ]
     },
     "execution_count": 131,
     "metadata": {},
     "output_type": "execute_result"
    }
   ],
   "source": [
    "#재귀 호출\n",
    "#factorial \n",
    "\n",
    "def factorial(n):\n",
    "    sum = 1\n",
    "    for i in range(n,1,-1):\n",
    "        sum *=i\n",
    "    return sum\n",
    "factorial(5)"
   ]
  },
  {
   "cell_type": "code",
   "execution_count": 132,
   "metadata": {},
   "outputs": [
    {
     "data": {
      "text/plain": [
       "120"
      ]
     },
     "execution_count": 132,
     "metadata": {},
     "output_type": "execute_result"
    }
   ],
   "source": [
    "#복잡한 문제를 간단하게 해결 tree를 만들 때\n",
    "\n",
    "def factorial(n, stop = 1): #재귀호출은 함수 안에서 자기 자신을 호출한다.계속 호출하면 무한루프에 빠진다.반드시 종료 조건이 존재햐야한다\n",
    "    if n <= stop or n <= 0:   #덧셈의 항등원 0, 곱셈의 항등원 1, 행렬의 항등원 단위행렬\n",
    "        return 1\n",
    "    return n*factorial(n-1, stop)\n",
    "factorial(5)"
   ]
  },
  {
   "cell_type": "code",
   "execution_count": 133,
   "metadata": {},
   "outputs": [
    {
     "name": "stdout",
     "output_type": "stream",
     "text": [
      "8\n"
     ]
    }
   ],
   "source": [
    "#power함수를 제작하시오\n",
    "def power(r,n):\n",
    "    value = 1\n",
    "    for i in range(1,n+1):\n",
    "        value = r*value\n",
    "    return value\n",
    "print(power(2,3))\n",
    "\n",
    "#위의 함수 내용을 재귀호출 방식으로 만드시오\n",
    "\n",
    "def aaa(n):\n",
    "    \n",
    "\n"
   ]
  },
  {
   "cell_type": "code",
   "execution_count": null,
   "metadata": {},
   "outputs": [],
   "source": []
  },
  {
   "cell_type": "code",
   "execution_count": null,
   "metadata": {},
   "outputs": [],
   "source": []
  },
  {
   "cell_type": "code",
   "execution_count": null,
   "metadata": {},
   "outputs": [],
   "source": []
  },
  {
   "cell_type": "code",
   "execution_count": null,
   "metadata": {},
   "outputs": [],
   "source": []
  },
  {
   "cell_type": "code",
   "execution_count": null,
   "metadata": {},
   "outputs": [],
   "source": []
  },
  {
   "cell_type": "code",
   "execution_count": null,
   "metadata": {},
   "outputs": [],
   "source": []
  },
  {
   "cell_type": "code",
   "execution_count": null,
   "metadata": {},
   "outputs": [],
   "source": []
  },
  {
   "cell_type": "code",
   "execution_count": null,
   "metadata": {},
   "outputs": [],
   "source": []
  },
  {
   "cell_type": "code",
   "execution_count": null,
   "metadata": {},
   "outputs": [],
   "source": []
  }
 ],
 "metadata": {
  "kernelspec": {
   "display_name": "Python 3",
   "language": "python",
   "name": "python3"
  },
  "language_info": {
   "codemirror_mode": {
    "name": "ipython",
    "version": 3
   },
   "file_extension": ".py",
   "mimetype": "text/x-python",
   "name": "python",
   "nbconvert_exporter": "python",
   "pygments_lexer": "ipython3",
   "version": "3.6.5"
  }
 },
 "nbformat": 4,
 "nbformat_minor": 2
}
