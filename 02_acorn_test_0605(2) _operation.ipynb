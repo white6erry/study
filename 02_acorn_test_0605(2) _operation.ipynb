{
 "cells": [
  {
   "cell_type": "code",
   "execution_count": 1,
   "metadata": {},
   "outputs": [
    {
     "name": "stdout",
     "output_type": "stream",
     "text": [
      "Maximum is :  821\n"
     ]
    },
    {
     "ename": "TypeError",
     "evalue": "object of type 'int' has no len()",
     "output_type": "error",
     "traceback": [
      "\u001b[1;31m---------------------------------------------------------------------------\u001b[0m",
      "\u001b[1;31mTypeError\u001b[0m                                 Traceback (most recent call last)",
      "\u001b[1;32m<ipython-input-1-34252ee23dc3>\u001b[0m in \u001b[0;36m<module>\u001b[1;34m()\u001b[0m\n\u001b[0;32m      9\u001b[0m \u001b[0mnum\u001b[0m \u001b[1;33m=\u001b[0m \u001b[1;33m[\u001b[0m\u001b[1;36m15\u001b[0m\u001b[1;33m,\u001b[0m \u001b[1;36m300\u001b[0m\u001b[1;33m,\u001b[0m \u001b[1;36m2700\u001b[0m\u001b[1;33m,\u001b[0m \u001b[1;36m821\u001b[0m\u001b[1;33m,\u001b[0m \u001b[1;36m52\u001b[0m\u001b[1;33m,\u001b[0m \u001b[1;36m10\u001b[0m\u001b[1;33m,\u001b[0m \u001b[1;36m6\u001b[0m\u001b[1;33m]\u001b[0m\u001b[1;33m\u001b[0m\u001b[0m\n\u001b[0;32m     10\u001b[0m \u001b[0mprint\u001b[0m\u001b[1;33m(\u001b[0m\u001b[1;34m'Maximum is : '\u001b[0m\u001b[1;33m,\u001b[0m \u001b[0mmax\u001b[0m\u001b[1;33m(\u001b[0m\u001b[0mnum\u001b[0m\u001b[1;33m,\u001b[0m \u001b[0mkey\u001b[0m \u001b[1;33m=\u001b[0m \u001b[0msumDigit\u001b[0m\u001b[1;33m)\u001b[0m\u001b[1;33m)\u001b[0m\u001b[1;33m\u001b[0m\u001b[0m\n\u001b[1;32m---> 11\u001b[1;33m \u001b[0mprint\u001b[0m\u001b[1;33m(\u001b[0m\u001b[1;34m'Maximum is : '\u001b[0m\u001b[1;33m,\u001b[0m \u001b[0mmax\u001b[0m\u001b[1;33m(\u001b[0m\u001b[0mnum\u001b[0m\u001b[1;33m,\u001b[0m \u001b[0mkey\u001b[0m \u001b[1;33m=\u001b[0m \u001b[0mlen\u001b[0m\u001b[1;33m)\u001b[0m\u001b[1;33m)\u001b[0m\u001b[1;33m\u001b[0m\u001b[0m\n\u001b[0m",
      "\u001b[1;31mTypeError\u001b[0m: object of type 'int' has no len()"
     ]
    }
   ],
   "source": [
    "def sumDigit(num):  #함수\n",
    "    sum = 0  #저장 위치 : stack\n",
    "    #숫자의 참과 거짓 : 0이외의 수인 경우 참, 0인 경우는 거짓\n",
    "    #문자열의 참과 거짓 : 문자열이 없으면 거짓\n",
    "    while(num):    #무한 반복문(num이 참일 때 무한으로 반복)\n",
    "        sum += num % 10\n",
    "        num = int(num/10)\n",
    "    return sum\n",
    "num = [15, 300, 2700, 821, 52, 10, 6]\n",
    "print('Maximum is : ', max(num, key = sumDigit))\n",
    "print('Maximum is : ', max(num, key = len))"
   ]
  },
  {
   "cell_type": "code",
   "execution_count": 2,
   "metadata": {},
   "outputs": [
    {
     "name": "stdout",
     "output_type": "stream",
     "text": [
      "Maximum is :  ['15', 300, 2700, 821]\n"
     ]
    }
   ],
   "source": [
    "num = ['15',300,2700,821]\n",
    "num1 = ['12',2]\n",
    "num2 = ['34',567,78]\n",
    "print('Maximum is : ', max(num,num1, num2, key = len))"
   ]
  },
  {
   "cell_type": "code",
   "execution_count": 10,
   "metadata": {},
   "outputs": [
    {
     "name": "stdout",
     "output_type": "stream",
     "text": [
      "[1, 2, 3]\n",
      "<class 'int'>\n",
      "Maximum is :  [5, 6, 8]\n"
     ]
    }
   ],
   "source": [
    "num4 = [1,2,3]\n",
    "num5 = [5,6,8]\n",
    "print(num4)\n",
    "print(type(num4[0]))\n",
    "\n",
    "print('Maximum is : ', max(num4,num5))"
   ]
  },
  {
   "cell_type": "code",
   "execution_count": 11,
   "metadata": {},
   "outputs": [
    {
     "name": "stdout",
     "output_type": "stream",
     "text": [
      "[1, 2]\n",
      "<class 'list'>\n"
     ]
    }
   ],
   "source": [
    "a = [1,2,3,4,5]  #동질적 데이터\n",
    "b  =a[0:2]       #첨자, 인덱스를 이용한 \n",
    "print(b)\n",
    "print(type(b))   #리스트 클래스\n"
   ]
  },
  {
   "cell_type": "code",
   "execution_count": 13,
   "metadata": {},
   "outputs": [
    {
     "name": "stdout",
     "output_type": "stream",
     "text": [
      "3hi\n",
      "[3, ['a', 'b', 'c'], 4]\n",
      "['a', 'b']\n",
      "1\n",
      "Life\n"
     ]
    }
   ],
   "source": [
    "a = [1,2,3]\n",
    "b = str(a[2]) + \"hi\"\n",
    "print(b)\n",
    "\n",
    "#2차원 리스트\n",
    "a = [1,2,3,['a','b','c'],4,5] #이질적 데이터\n",
    "print(a[2:5])\n",
    "print(a[3][:2])\n",
    "\n",
    "#3차원 리스트 \n",
    "a = [1,2,['a','b',['Life','is']]]\n",
    "print(a[0])\n",
    "print(a[2][2][0])\n",
    "\n"
   ]
  },
  {
   "cell_type": "code",
   "execution_count": 14,
   "metadata": {},
   "outputs": [
    {
     "data": {
      "text/plain": [
       "[1, 'a', 'b', 'c', ['a', 'b', ['Life', 'is']]]"
      ]
     },
     "execution_count": 14,
     "metadata": {},
     "output_type": "execute_result"
    }
   ],
   "source": [
    "a[1:2] = ['a','b','c']\n",
    "a"
   ]
  },
  {
   "cell_type": "code",
   "execution_count": 15,
   "metadata": {},
   "outputs": [],
   "source": [
    "a[2] = ['하나','둘','셋']"
   ]
  },
  {
   "cell_type": "code",
   "execution_count": 16,
   "metadata": {},
   "outputs": [
    {
     "data": {
      "text/plain": [
       "[1, 'a', ['하나', '둘', '셋'], 'c', ['a', 'b', ['Life', 'is']]]"
      ]
     },
     "execution_count": 16,
     "metadata": {},
     "output_type": "execute_result"
    }
   ],
   "source": [
    "a"
   ]
  },
  {
   "cell_type": "code",
   "execution_count": 19,
   "metadata": {},
   "outputs": [
    {
     "name": "stdout",
     "output_type": "stream",
     "text": [
      "Enter the first grade: 10\n",
      "enter the second grade: 20\n",
      "enter the third grade: 30\n",
      "enter the fourth grade: 10\n",
      "enter the fifth grade: 50\n",
      "10.0\n",
      "[20.0, 30.0, 10.0, 50.0]\n",
      "평균점수는 27.50\n"
     ]
    }
   ],
   "source": [
    "grades = []\n",
    "num = float(input(\"Enter the first grade: \"))\n",
    "grades.append(num) #list는 클래스 변수 + 함수\n",
    "num = float(input(\"enter the second grade: \"))\n",
    "grades.append(num)\n",
    "num = float(input(\"enter the third grade: \"))\n",
    "grades.append(num) \n",
    "num = float(input(\"enter the fourth grade: \"))\n",
    "grades.append(num) \n",
    "num = float(input(\"enter the fifth grade: \"))\n",
    "grades.append(num) \n",
    "minimumGrade = min(grades)\n",
    "print(minimumGrade)\n",
    "grades.remove(minimumGrade)\n",
    "print(grades)\n",
    "average = sum(grades)/ len(grades)\n",
    "print(\"평균점수는 {0:.2f}\".format(average)) #변수 순서 0과 출력 데이터는 소수점이하 2번째 자리 float형\n",
    "\n",
    "\n",
    "\n",
    "\n",
    "\n",
    "\n"
   ]
  },
  {
   "cell_type": "code",
   "execution_count": 20,
   "metadata": {},
   "outputs": [
    {
     "name": "stdout",
     "output_type": "stream",
     "text": [
      "To be or not to be\n"
     ]
    }
   ],
   "source": [
    "line = [\"To\",\"be\",\"or\",\"not\",\"to\",\"be\"] #리스트 요소를 문자열로 변환\n",
    "print(\" \".join(line))  #문자열 "
   ]
  },
  {
   "cell_type": "code",
   "execution_count": 25,
   "metadata": {},
   "outputs": [
    {
     "name": "stdout",
     "output_type": "stream",
     "text": [
      "48\n",
      "0x30\n",
      "['5A', '8-ball', 'Dog', 'a', 'car', 'cat', 'dog']\n",
      "<built-in method sort of list object at 0x0000000004CE6988>\n"
     ]
    }
   ],
   "source": [
    "#입력데이터 :숫자(int, float)와 문자\n",
    "print(ord(\"0\"))  #ord는 ASCII code값을 리턴한다\n",
    "print(hex(ord(\"0\")))  #hex : hexa 16진수로 변환\n",
    "\n",
    "list1 = [chr(97), \"cat\",\"car\",\"Dog\",\"dog\", \"8-ball\", \"5\" + chr(65)]\n",
    "list1.sort()  #정렬함수(오름차순ascending),  정렬의 기준 : ASCII code\n",
    "\n",
    "print(list1)\n",
    "\n",
    "#내림차순descending\n",
    "list1.sort(reverse = True)\n",
    "print(list1.sort)"
   ]
  },
  {
   "cell_type": "code",
   "execution_count": 29,
   "metadata": {},
   "outputs": [
    {
     "name": "stdout",
     "output_type": "stream",
     "text": [
      "[('Eliizabeth', 3), ('Elizabeth', 1), ('George', 1), ('George', 6)]\n"
     ]
    }
   ],
   "source": [
    "monarchs = [(\"George\", 1), (\"Eliizabeth\", 3), (\"George\", 6), (\"Elizabeth\",1)]\n",
    "monarchs.sort()\n",
    "print(monarchs)"
   ]
  },
  {
   "cell_type": "code",
   "execution_count": 30,
   "metadata": {},
   "outputs": [
    {
     "name": "stdout",
     "output_type": "stream",
     "text": [
      "[('Elizabeth', 1), ('George', 1), ('Eliizabeth', 3), ('George', 6)]\n"
     ]
    }
   ],
   "source": [
    "#인라인 함수: 무명 함수(=람다 함수)\n",
    "#람다 함수는 함수를 정식으로 선언 하는 것이 귀찮기 때문에 생략한 것\n",
    "monarchs.sort(key=lambda row: row[1])  #람다 함수 매개변수 : \n",
    "print(monarchs)\n"
   ]
  },
  {
   "cell_type": "code",
   "execution_count": 31,
   "metadata": {},
   "outputs": [
    {
     "data": {
      "text/plain": [
       "2"
      ]
     },
     "execution_count": 31,
     "metadata": {},
     "output_type": "execute_result"
    }
   ],
   "source": [
    "cities = ('seoul','incheon', 'suwon')\n",
    "cities.index('suwon')"
   ]
  },
  {
   "cell_type": "code",
   "execution_count": 32,
   "metadata": {},
   "outputs": [
    {
     "data": {
      "text/plain": [
       "True"
      ]
     },
     "execution_count": 32,
     "metadata": {},
     "output_type": "execute_result"
    }
   ],
   "source": [
    "'incheon' in cities"
   ]
  },
  {
   "cell_type": "code",
   "execution_count": 34,
   "metadata": {},
   "outputs": [
    {
     "name": "stdout",
     "output_type": "stream",
     "text": [
      "7 12\n",
      "name = glue, age = 24\n",
      "(9, 20)\n",
      "dict_items([('one', 1), ('two', 2)])\n",
      "{'one': 100, 'two': 2}\n"
     ]
    }
   ],
   "source": [
    "#tuple을 사용하는 곳: 함수, format 문자열 함수\n",
    "\n",
    "def calc(a,b):\n",
    "    return a+b, a*b  #함수에서 여러개의 값을 리턴\n",
    "x,y = calc(3,4) \n",
    "print(x,y)\n",
    "format = 'name = %s, age = %s' %('glue', 24)\n",
    "print(format)\n",
    "\n",
    "args=(4,5)\n",
    "print(calc(*args))   #변동 매개변수(*가 포인터로 사용된다. arge의  값인 4,5를 calc의 함수에 넣어라!)\n",
    "d = {'one':1, 'two':2}   #딕셔너리 {키:값}\n",
    "print(d.items())  #리스트라는 전역함수를 써서 딕셔너리를 리스트로 변환, 출력은 tuple로 묶어서 나타난다 \n",
    "d['one'] =100\n",
    "print(d)\n",
    "\n"
   ]
  },
  {
   "cell_type": "code",
   "execution_count": 37,
   "metadata": {},
   "outputs": [
    {
     "name": "stdout",
     "output_type": "stream",
     "text": [
      "7 2 4\n",
      "3 8\n"
     ]
    }
   ],
   "source": [
    "#연산자\n",
    "num1 = 6\n",
    "num1 += 1  #num1 = num1+1\n",
    "num2 = 7\n",
    "num2 -= 5   #num2 = num2-5   내부적으로 처리하는 속도가 빠르기 때문에 이렇게 쓴다\n",
    "num3 = 8\n",
    "num3/= 2\n",
    "print(num1,num2,round(num3))\n",
    "num1 = 1\n",
    "num1 *= 3\n",
    "num2 = 2\n",
    "num2 **=3\n",
    "print(num1,num2)"
   ]
  },
  {
   "cell_type": "code",
   "execution_count": 39,
   "metadata": {},
   "outputs": [
    {
     "name": "stdout",
     "output_type": "stream",
     "text": [
      "4\n",
      "earth\n",
      "['water', 'air']\n",
      "['fire', 'water', 'air', 'earth']\n",
      "18\n",
      "97\n",
      "16.530383282349966\n",
      "29\n"
     ]
    }
   ],
   "source": [
    "#의사난수 : \n",
    "\n",
    "import random\n",
    "random.seed(1000)\n",
    "print(random.randint(1,5))\n",
    "\n",
    "elements = [\"earth\",\"air\",\"fire\",\"water\"]\n",
    "print(random.choice(elements))\n",
    "print(random.sample(elements,2))  #임의 선택\n",
    "random.shuffle(elements)  #섞는다\n",
    "print(elements)\n",
    "number = random.randint(1,20)\n",
    "print(number)\n",
    "number = random.random()\n",
    "number = int(number*100)\n",
    "print(number)\n",
    "number = random.uniform(1.0,36.5)  #균등분포\n",
    "\n",
    "print(number)\n",
    "i = random.randrange(1, 101,2) #1에서 101 사이의 2의 배수 선택\n",
    "print(i)"
   ]
  },
  {
   "cell_type": "code",
   "execution_count": 41,
   "metadata": {},
   "outputs": [
    {
     "name": "stdout",
     "output_type": "stream",
     "text": [
      "Non-negative\n"
     ]
    }
   ],
   "source": [
    "#python에서 3항 연산자\n",
    "x = 5\n",
    "ans = 'Non-negative' if x>0 else 'Negative'\n",
    "print(ans)\n",
    "\n",
    "# 참과 거짓 판단시\n",
    "# 숫자\n",
    "# 문자 '' NULL문자열 일때 '':공백도 문자다\n",
    "# 리스트는 언제가 거짓일까? -> []\n"
   ]
  },
  {
   "cell_type": "code",
   "execution_count": 42,
   "metadata": {},
   "outputs": [
    {
     "name": "stdout",
     "output_type": "stream",
     "text": [
      "점수 입력: 85\n",
      "B\n"
     ]
    }
   ],
   "source": [
    "#If - elif\n",
    "print('점수 입력: ', end = '')\n",
    "jumsu = int(input())\n",
    "if jumsu >= 90:\n",
    "    print('A')\n",
    "elif jumsu >= 80: print('B')\n",
    "elif jumsu >= 70: print('C')\n",
    "elif jumsu >= 60: print('D')\n",
    "else: print('F')\n",
    "\n",
    "#if문에서 false인 것들 : none,0,0.0, '',[],{},(),set(),FALSE"
   ]
  },
  {
   "cell_type": "code",
   "execution_count": 44,
   "metadata": {},
   "outputs": [
    {
     "name": "stdout",
     "output_type": "stream",
     "text": [
      "색 입력(BLUE or RED): RED\n",
      " mode 입력 (STEADY or FLASHING): STEADY\n",
      "예측된 날씨는 비오는 날\n"
     ]
    }
   ],
   "source": [
    "color = input(\"색 입력(BLUE or RED): \")\n",
    "mode = input(\" mode 입력 (STEADY or FLASHING): \")\n",
    "color = color.upper()\n",
    "mode = mode.upper()\n",
    "result = \"\"\n",
    "if color ==\"BLUE\":\n",
    "    if mode ==\"STEADY\":\n",
    "        result = \"화창한 날\"\n",
    "    else:\n",
    "        result = \"구름 낀 날\"\n",
    "else:\n",
    "    if mode == \"STEADY\":\n",
    "        result = \"비오는 날\"\n",
    "    else:\n",
    "        result = \"눈오는 날.\"\n",
    "print(\"예측된 날씨는\", result)\n"
   ]
  },
  {
   "cell_type": "code",
   "execution_count": 47,
   "metadata": {},
   "outputs": [
    {
     "name": "stdout",
     "output_type": "stream",
     "text": [
      "(0, 100)\n",
      "(1, 15.5)\n",
      "(2, 'Apple')\n"
     ]
    }
   ],
   "source": [
    "#for문 \n",
    "\n",
    "L = [100,15.5,'Apple']\n",
    "for x in enumerate(L):\n",
    "    print(x)"
   ]
  },
  {
   "cell_type": "code",
   "execution_count": 48,
   "metadata": {},
   "outputs": [
    {
     "name": "stdout",
     "output_type": "stream",
     "text": [
      "0\n",
      "2\n",
      "4\n"
     ]
    }
   ],
   "source": [
    "#for문 \n",
    "#for x in range(start, stop, interval):\n",
    "    #print(x)\n",
    "    \n",
    "data = [0,1,2,3,4,5]\n",
    "for i in range(0,len(data),2):\n",
    "    print(i)"
   ]
  },
  {
   "cell_type": "code",
   "execution_count": 75,
   "metadata": {},
   "outputs": [
    {
     "name": "stdout",
     "output_type": "stream",
     "text": [
      "총 비용을 입력하시오: 650\n",
      "총 수익을 입력하시오 : 203.5\n",
      "순손실 = $446.50.\n"
     ]
    }
   ],
   "source": [
    "#총 비용과 총 수익을 입력 받아서 순 수입을 출력하는 프로그램을 작성하시오\n",
    "#제약조건 : 소수점 이하 2번째 자리까지 출력하시시오\n",
    "#수입과 지출이 동일한 경우를 고려하시오\n",
    "\n",
    "\n",
    "cost = eval(input(\"총 비용을 입력하시오: \" ))\n",
    "revenue = eval(input(\"총 수익을 입력하시오 : \"))\n",
    "\n",
    "if cost == revenue:\n",
    "    result = \"손익분기점 입니다\"\n",
    "else:\n",
    "    if cost < revenue:\n",
    "        profit = revenue-cost\n",
    "        profit = \"순수익 = {0:,.2f}.\".format(profit)\n",
    "    else:\n",
    "        loss = cost-revenue\n",
    "        result = \"순손실 = ${0:,.2f}.\".format(loss)\n",
    "print(result)\n",
    "\n",
    "\n"
   ]
  },
  {
   "cell_type": "code",
   "execution_count": 56,
   "metadata": {},
   "outputs": [
    {
     "name": "stdout",
     "output_type": "stream",
     "text": [
      "1부터 10까지의 합 =   55\n",
      "1부터 100까지의 합:  5050\n",
      "1부터 1000까지의 합:  500500\n"
     ]
    }
   ],
   "source": [
    "#증가변수와 누적변수\n",
    "#1~11까지의 합\n",
    "sum = 0\n",
    "for x in range(1,11):\n",
    "    sum += x\n",
    "print(\"1부터 10까지의 합 =  \",sum)\n",
    "\n",
    "#1부터 100까지의 합\n",
    "sum = 0\n",
    "for x in range(1,101):\n",
    "    sum +=x\n",
    "print(\"1부터 100까지의 합: \",sum)\n",
    "\n",
    "#1부터 1000 까지의 합 \n",
    "sum = 0\n",
    "for x in range(1,1001):\n",
    "    sum += x\n",
    "print(\"1부터 1000까지의 합: \",sum)"
   ]
  },
  {
   "cell_type": "code",
   "execution_count": 63,
   "metadata": {},
   "outputs": [
    {
     "name": "stdout",
     "output_type": "stream",
     "text": [
      "\n",
      "2 * 2 = 4 2 * 3 = 6 2 * 4 = 8 2 * 5 = 10 2 * 6 = 12 2 * 7 = 14 2 * 8 = 16 2 * 9 = 18 \n",
      "3 * 2 = 6 3 * 3 = 9 3 * 4 = 12 3 * 5 = 15 3 * 6 = 18 3 * 7 = 21 3 * 8 = 24 3 * 9 = 27 "
     ]
    }
   ],
   "source": [
    "#구구단 출력\n",
    "\n",
    "for x in range(2,4):\n",
    "    print()\n",
    "    for y in range(2,10):\n",
    "        print(x, '*',y, '=', x*y, end = \" \")\n",
    "\n"
   ]
  },
  {
   "cell_type": "code",
   "execution_count": 67,
   "metadata": {},
   "outputs": [
    {
     "name": "stdout",
     "output_type": "stream",
     "text": [
      "\n",
      "2 * 2 = 4  3 * 2 = 6  4 * 2 = 8  5 * 2 = 10  6 * 2 = 12  7 * 2 = 14  8 * 2 = 16  \n",
      "2 * 3 = 6  3 * 3 = 9  4 * 3 = 12  5 * 3 = 15  6 * 3 = 18  7 * 3 = 21  8 * 3 = 24  \n",
      "2 * 4 = 8  3 * 4 = 12  4 * 4 = 16  5 * 4 = 20  6 * 4 = 24  7 * 4 = 28  8 * 4 = 32  \n",
      "2 * 5 = 10  3 * 5 = 15  4 * 5 = 20  5 * 5 = 25  6 * 5 = 30  7 * 5 = 35  8 * 5 = 40  \n",
      "2 * 6 = 12  3 * 6 = 18  4 * 6 = 24  5 * 6 = 30  6 * 6 = 36  7 * 6 = 42  8 * 6 = 48  \n",
      "2 * 7 = 14  3 * 7 = 21  4 * 7 = 28  5 * 7 = 35  6 * 7 = 42  7 * 7 = 49  8 * 7 = 56  \n",
      "2 * 8 = 16  3 * 8 = 24  4 * 8 = 32  5 * 8 = 40  6 * 8 = 48  7 * 8 = 56  8 * 8 = 64  \n",
      "2 * 9 = 18  3 * 9 = 27  4 * 9 = 36  5 * 9 = 45  6 * 9 = 54  7 * 9 = 63  8 * 9 = 72  "
     ]
    }
   ],
   "source": [
    "#구구단 출력\n",
    "for x in range(2,10):\n",
    "    print()\n",
    "    for y in range(2,9):\n",
    "        print(y, '*', x, '=' , x*y, end = \"  \")"
   ]
  },
  {
   "cell_type": "code",
   "execution_count": null,
   "metadata": {},
   "outputs": [],
   "source": []
  },
  {
   "cell_type": "code",
   "execution_count": null,
   "metadata": {},
   "outputs": [],
   "source": []
  },
  {
   "cell_type": "code",
   "execution_count": null,
   "metadata": {},
   "outputs": [],
   "source": []
  },
  {
   "cell_type": "code",
   "execution_count": null,
   "metadata": {},
   "outputs": [],
   "source": []
  }
 ],
 "metadata": {
  "kernelspec": {
   "display_name": "Python 3",
   "language": "python",
   "name": "python3"
  },
  "language_info": {
   "codemirror_mode": {
    "name": "ipython",
    "version": 3
   },
   "file_extension": ".py",
   "mimetype": "text/x-python",
   "name": "python",
   "nbconvert_exporter": "python",
   "pygments_lexer": "ipython3",
   "version": "3.6.5"
  }
 },
 "nbformat": 4,
 "nbformat_minor": 2
}
